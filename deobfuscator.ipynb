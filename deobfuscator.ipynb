{
 "cells": [
  {
   "cell_type": "code",
   "execution_count": 1,
   "metadata": {},
   "outputs": [],
   "source": [
    "import sys, getopt"
   ]
  },
  {
   "cell_type": "code",
   "execution_count": 2,
   "metadata": {},
   "outputs": [],
   "source": [
    "import codegen\n",
    "import ast\n",
    "import showast\n",
    "import ctree\n",
    "import random\n",
    "import astpretty\n",
    "\n",
    "# were installed\n",
    "\n",
    "# pip3 install graphviz\n",
    "# pip3 install codegen\n",
    "# sudo apt-get install graphviz\n",
    "# pip3 install ctree\n",
    "# pip3 install showast\n",
    "# pip3 install astpretty\n",
    "# pip install uncompyle6\n",
    "# sudo apt install pylint"
   ]
  },
  {
   "cell_type": "markdown",
   "metadata": {},
   "source": [
    "# Деобфускатор"
   ]
  },
  {
   "cell_type": "markdown",
   "metadata": {},
   "source": [
    "## Деобфускация байткода python"
   ]
  },
  {
   "cell_type": "markdown",
   "metadata": {},
   "source": [
    "Самым распространённым методом обфускации кода на python является обфускация файла с расширением .py в файл с расширением .pyc при помощи команды:\n",
    "\n",
    "python -m compileall\n",
    "\n",
    "Этот модуль позволяет компилировать все файлы и библиотеки (т. е. все модули) в указанной директории в простой байт-код.\n",
    "\n",
    "На практике это самый распространённый способ обфускации кода на python, но никаких особых алгоритмов обфускации использовано не было, только компиляция в нечитаемый байт-код."
   ]
  },
  {
   "cell_type": "markdown",
   "metadata": {},
   "source": [
    "В качестве примера взята программа для подсчета площади прямоугольного треугольника.\n",
    "Исходного код находится в директории:\n",
    "\n",
    ".\\obfuscated\\examples\\compileall\n",
    "\n",
    "Обфусцируем \n",
    "Результат обфускации будет находиться в директории:\n",
    "\n",
    ".\\obfuscated\\examples\\compileall\\__pycache__"
   ]
  },
  {
   "cell_type": "code",
   "execution_count": 14,
   "metadata": {},
   "outputs": [
    {
     "name": "stdout",
     "output_type": "stream",
     "text": [
      "\u001b[1;31mИсходный код файла:\n",
      "\u001b[0m\n",
      "# программа для подсчета площади прямоугольного треугольника\n",
      "def square_triangle_area(width, height):\n",
      "    return height * width / 2\n",
      "\n",
      "\n",
      "print(\"Эта программа считает площадь прямоугольного треугольника.\")\n",
      "print(\"Введите значение длины: \")\n",
      "\n",
      "w = int(input())\n",
      "\n",
      "print(\"Введите значение высоты: \")\n",
      "h = int(input())\n",
      "\n",
      "print(\"Площадь прямоугольного треугольника = \" + str(square_triangle_area(w, h)))\n",
      "\n",
      "input()\n",
      "\n"
     ]
    }
   ],
   "source": [
    "path_compileall = './obfuscated/examples/compileall/source.py'\n",
    "f = open(path_compileall, 'r', encoding=\"utf-8\")\n",
    "print(\"\\x1b[1;31m\"+\"Исходный код файла:\\n\"+\"\\x1b[0m\")\n",
    "print(f.read())\n",
    "f.close()"
   ]
  },
  {
   "cell_type": "code",
   "execution_count": 4,
   "metadata": {},
   "outputs": [
    {
     "name": "stdout",
     "output_type": "stream",
     "text": [
      "Listing './obfuscated/examples/compileall'...\r\n"
     ]
    }
   ],
   "source": [
    "!python3 -m compileall ./obfuscated/examples/compileall"
   ]
  },
  {
   "cell_type": "code",
   "execution_count": 15,
   "metadata": {},
   "outputs": [
    {
     "name": "stdout",
     "output_type": "stream",
     "text": [
      "\u001b[1;31mИсходный код файла считанный просто при помощи функции open():\n",
      "\u001b[0m\n",
      "b'\\x03\\xf3\\r\\n\\x96Q\\x94`c\\x00\\x00\\x00\\x00\\x00\\x00\\x00\\x00\\x05\\x00\\x00\\x00@\\x00\\x00\\x00sY\\x00\\x00\\x00d\\x00\\x00\\x84\\x00\\x00Z\\x00\\x00d\\x01\\x00GHd\\x02\\x00GHe\\x01\\x00e\\x02\\x00\\x83\\x00\\x00\\x83\\x01\\x00Z\\x03\\x00d\\x03\\x00GHe\\x01\\x00e\\x02\\x00\\x83\\x00\\x00\\x83\\x01\\x00Z\\x04\\x00d\\x04\\x00e\\x05\\x00e\\x00\\x00e\\x03\\x00e\\x04\\x00\\x83\\x02\\x00\\x83\\x01\\x00\\x17GHe\\x02\\x00\\x83\\x00\\x00\\x01d\\x05\\x00S(\\x06\\x00\\x00\\x00c\\x02\\x00\\x00\\x00\\x02\\x00\\x00\\x00\\x02\\x00\\x00\\x00C\\x00\\x00\\x00s\\x0c\\x00\\x00\\x00|\\x01\\x00|\\x00\\x00\\x14d\\x01\\x00\\x15S(\\x02\\x00\\x00\\x00Ni\\x02\\x00\\x00\\x00(\\x00\\x00\\x00\\x00(\\x02\\x00\\x00\\x00t\\x05\\x00\\x00\\x00widtht\\x06\\x00\\x00\\x00height(\\x00\\x00\\x00\\x00(\\x00\\x00\\x00\\x00s*\\x00\\x00\\x00./obfuscated/examples/compileall/source.pyt\\x14\\x00\\x00\\x00square_triangle_area\\x02\\x00\\x00\\x00s\\x02\\x00\\x00\\x00\\x00\\x01sn\\x00\\x00\\x00\\xd0\\xad\\xd1\\x82\\xd0\\xb0 \\xd0\\xbf\\xd1\\x80\\xd0\\xbe\\xd0\\xb3\\xd1\\x80\\xd0\\xb0\\xd0\\xbc\\xd0\\xbc\\xd0\\xb0 \\xd1\\x81\\xd1\\x87\\xd0\\xb8\\xd1\\x82\\xd0\\xb0\\xd0\\xb5\\xd1\\x82 \\xd0\\xbf\\xd0\\xbb\\xd0\\xbe\\xd1\\x89\\xd0\\xb0\\xd0\\xb4\\xd1\\x8c \\xd0\\xbf\\xd1\\x80\\xd1\\x8f\\xd0\\xbc\\xd0\\xbe\\xd1\\x83\\xd0\\xb3\\xd0\\xbe\\xd0\\xbb\\xd1\\x8c\\xd0\\xbd\\xd0\\xbe\\xd0\\xb3\\xd0\\xbe \\xd1\\x82\\xd1\\x80\\xd0\\xb5\\xd1\\x83\\xd0\\xb3\\xd0\\xbe\\xd0\\xbb\\xd1\\x8c\\xd0\\xbd\\xd0\\xb8\\xd0\\xba\\xd0\\xb0.s,\\x00\\x00\\x00\\xd0\\x92\\xd0\\xb2\\xd0\\xb5\\xd0\\xb4\\xd0\\xb8\\xd1\\x82\\xd0\\xb5 \\xd0\\xb7\\xd0\\xbd\\xd0\\xb0\\xd1\\x87\\xd0\\xb5\\xd0\\xbd\\xd0\\xb8\\xd0\\xb5 \\xd0\\xb4\\xd0\\xbb\\xd0\\xb8\\xd0\\xbd\\xd1\\x8b: s.\\x00\\x00\\x00\\xd0\\x92\\xd0\\xb2\\xd0\\xb5\\xd0\\xb4\\xd0\\xb8\\xd1\\x82\\xd0\\xb5 \\xd0\\xb7\\xd0\\xbd\\xd0\\xb0\\xd1\\x87\\xd0\\xb5\\xd0\\xbd\\xd0\\xb8\\xd0\\xb5 \\xd0\\xb2\\xd1\\x8b\\xd1\\x81\\xd0\\xbe\\xd1\\x82\\xd1\\x8b: sG\\x00\\x00\\x00\\xd0\\x9f\\xd0\\xbb\\xd0\\xbe\\xd1\\x89\\xd0\\xb0\\xd0\\xb4\\xd1\\x8c \\xd0\\xbf\\xd1\\x80\\xd1\\x8f\\xd0\\xbc\\xd0\\xbe\\xd1\\x83\\xd0\\xb3\\xd0\\xbe\\xd0\\xbb\\xd1\\x8c\\xd0\\xbd\\xd0\\xbe\\xd0\\xb3\\xd0\\xbe \\xd1\\x82\\xd1\\x80\\xd0\\xb5\\xd1\\x83\\xd0\\xb3\\xd0\\xbe\\xd0\\xbb\\xd1\\x8c\\xd0\\xbd\\xd0\\xb8\\xd0\\xba\\xd0\\xb0 = N(\\x06\\x00\\x00\\x00R\\x02\\x00\\x00\\x00t\\x03\\x00\\x00\\x00intt\\x05\\x00\\x00\\x00inputt\\x01\\x00\\x00\\x00wt\\x01\\x00\\x00\\x00ht\\x03\\x00\\x00\\x00str(\\x00\\x00\\x00\\x00(\\x00\\x00\\x00\\x00(\\x00\\x00\\x00\\x00s*\\x00\\x00\\x00./obfuscated/examples/compileall/source.pyt\\x08\\x00\\x00\\x00<module>\\x02\\x00\\x00\\x00s\\x0e\\x00\\x00\\x00\\t\\x04\\x05\\x01\\x05\\x02\\x0f\\x02\\x05\\x01\\x0f\\x02\\x18\\x02'\n"
     ]
    }
   ],
   "source": [
    "path_compileall_pyc = \"./obfuscated/examples/compileall/source.pyc\"\n",
    "print(\"\\x1b[1;31m\"+\"Исходный код файла считанный просто при помощи функции open():\\n\"+\"\\x1b[0m\")\n",
    "file = open(path_compileall_pyc, 'rb')\n",
    "print(file.read())\n",
    "file.close()"
   ]
  },
  {
   "cell_type": "code",
   "execution_count": 16,
   "metadata": {},
   "outputs": [
    {
     "name": "stdout",
     "output_type": "stream",
     "text": [
      "\u001b[1;31mИсходный код файла побайтово в hex:\n",
      "\u001b[0m\n",
      "0x3 0xf3 0xd 0xa 0x96 0x51 0x94 0x60 0x63 0x0 0x0 0x0 0x0 0x0 0x0 0x0 \n",
      "0x0 0x5 0x0 0x0 0x0 0x40 0x0 0x0 0x0 0x73 0x59 0x0 0x0 0x0 0x64 0x0 \n",
      "0x0 0x84 0x0 0x0 0x5a 0x0 0x0 0x64 0x1 0x0 0x47 0x48 0x64 0x2 0x0 0x47 \n",
      "0x48 0x65 0x1 0x0 0x65 0x2 0x0 0x83 0x0 0x0 0x83 0x1 0x0 0x5a 0x3 0x0 \n",
      "0x64 0x3 0x0 0x47 0x48 0x65 0x1 0x0 0x65 0x2 0x0 0x83 0x0 0x0 0x83 0x1 \n",
      "0x0 0x5a 0x4 0x0 0x64 0x4 0x0 0x65 0x5 0x0 0x65 0x0 0x0 0x65 0x3 0x0 \n",
      "0x65 0x4 0x0 0x83 0x2 0x0 0x83 0x1 0x0 0x17 0x47 0x48 0x65 0x2 0x0 0x83 \n",
      "0x0 0x0 0x1 0x64 0x5 0x0 0x53 0x28 0x6 0x0 0x0 0x0 0x63 0x2 0x0 0x0 \n",
      "0x0 0x2 0x0 0x0 0x0 0x2 0x0 0x0 0x0 0x43 0x0 0x0 0x0 0x73 0xc 0x0 \n",
      "0x0 0x0 0x7c 0x1 0x0 0x7c 0x0 0x0 0x14 0x64 0x1 0x0 0x15 0x53 0x28 0x2 \n",
      "0x0 0x0 0x0 0x4e 0x69 0x2 0x0 0x0 0x0 0x28 0x0 0x0 0x0 0x0 0x28 0x2 \n",
      "0x0 0x0 0x0 0x74 0x5 0x0 0x0 0x0 0x77 0x69 0x64 0x74 0x68 0x74 0x6 0x0 \n",
      "0x0 0x0 0x68 0x65 0x69 0x67 0x68 0x74 0x28 0x0 0x0 0x0 0x0 0x28 0x0 0x0 \n",
      "0x0 0x0 0x73 0x2a 0x0 0x0 0x0 0x2e 0x2f 0x6f 0x62 0x66 0x75 0x73 0x63 0x61 \n",
      "0x74 0x65 0x64 0x2f 0x65 0x78 0x61 0x6d 0x70 0x6c 0x65 0x73 0x2f 0x63 0x6f 0x6d \n",
      "0x70 0x69 0x6c 0x65 0x61 0x6c 0x6c 0x2f 0x73 0x6f 0x75 0x72 0x63 0x65 0x2e 0x70 \n",
      "0x79 0x74 0x14 0x0 0x0 0x0 0x73 0x71 0x75 0x61 0x72 0x65 0x5f 0x74 0x72 0x69 \n",
      "0x61 0x6e 0x67 0x6c 0x65 0x5f 0x61 0x72 0x65 0x61 0x2 0x0 0x0 0x0 0x73 0x2 \n",
      "0x0 0x0 0x0 0x0 0x1 0x73 0x6e 0x0 0x0 0x0 0xd0 0xad 0xd1 0x82 0xd0 0xb0 \n",
      "0x20 0xd0 0xbf 0xd1 0x80 0xd0 0xbe 0xd0 0xb3 0xd1 0x80 0xd0 0xb0 0xd0 0xbc 0xd0 \n",
      "0xbc 0xd0 0xb0 0x20 0xd1 0x81 0xd1 0x87 0xd0 0xb8 0xd1 0x82 0xd0 0xb0 0xd0 0xb5 \n",
      "0xd1 0x82 0x20 0xd0 0xbf 0xd0 0xbb 0xd0 0xbe 0xd1 0x89 0xd0 0xb0 0xd0 0xb4 0xd1 \n",
      "0x8c 0x20 0xd0 0xbf 0xd1 0x80 0xd1 0x8f 0xd0 0xbc 0xd0 0xbe 0xd1 0x83 0xd0 0xb3 \n",
      "0xd0 0xbe 0xd0 0xbb 0xd1 0x8c 0xd0 0xbd 0xd0 0xbe 0xd0 0xb3 0xd0 0xbe 0x20 0xd1 \n",
      "0x82 0xd1 0x80 0xd0 0xb5 0xd1 0x83 0xd0 0xb3 0xd0 0xbe 0xd0 0xbb 0xd1 0x8c 0xd0 \n",
      "0xbd 0xd0 0xb8 0xd0 0xba 0xd0 0xb0 0x2e 0x73 0x2c 0x0 0x0 0x0 0xd0 0x92 0xd0 \n",
      "0xb2 0xd0 0xb5 0xd0 0xb4 0xd0 0xb8 0xd1 0x82 0xd0 0xb5 0x20 0xd0 0xb7 0xd0 0xbd \n",
      "0xd0 0xb0 0xd1 0x87 0xd0 0xb5 0xd0 0xbd 0xd0 0xb8 0xd0 0xb5 0x20 0xd0 0xb4 0xd0 \n",
      "0xbb 0xd0 0xb8 0xd0 0xbd 0xd1 0x8b 0x3a 0x20 0x73 0x2e 0x0 0x0 0x0 0xd0 0x92 \n",
      "0xd0 0xb2 0xd0 0xb5 0xd0 0xb4 0xd0 0xb8 0xd1 0x82 0xd0 0xb5 0x20 0xd0 0xb7 0xd0 \n",
      "0xbd 0xd0 0xb0 0xd1 0x87 0xd0 0xb5 0xd0 0xbd 0xd0 0xb8 0xd0 0xb5 0x20 0xd0 0xb2 \n",
      "0xd1 0x8b 0xd1 0x81 0xd0 0xbe 0xd1 0x82 0xd1 0x8b 0x3a 0x20 0x73 0x47 0x0 0x0 \n",
      "0x0 0xd0 0x9f 0xd0 0xbb 0xd0 0xbe 0xd1 0x89 0xd0 0xb0 0xd0 0xb4 0xd1 0x8c 0x20 \n",
      "0xd0 0xbf 0xd1 0x80 0xd1 0x8f 0xd0 0xbc 0xd0 0xbe 0xd1 0x83 0xd0 0xb3 0xd0 0xbe \n",
      "0xd0 0xbb 0xd1 0x8c 0xd0 0xbd 0xd0 0xbe 0xd0 0xb3 0xd0 0xbe 0x20 0xd1 0x82 0xd1 \n",
      "0x80 0xd0 0xb5 0xd1 0x83 0xd0 0xb3 0xd0 0xbe 0xd0 0xbb 0xd1 0x8c 0xd0 0xbd 0xd0 \n",
      "0xb8 0xd0 0xba 0xd0 0xb0 0x20 0x3d 0x20 0x4e 0x28 0x6 0x0 0x0 0x0 0x52 0x2 \n",
      "0x0 0x0 0x0 0x74 0x3 0x0 0x0 0x0 0x69 0x6e 0x74 0x74 0x5 0x0 0x0 0x0 \n",
      "0x69 0x6e 0x70 0x75 0x74 0x74 0x1 0x0 0x0 0x0 0x77 0x74 0x1 0x0 0x0 0x0 \n",
      "0x68 0x74 0x3 0x0 0x0 0x0 0x73 0x74 0x72 0x28 0x0 0x0 0x0 0x0 0x28 0x0 \n",
      "0x0 0x0 0x0 0x28 0x0 0x0 0x0 0x0 0x73 0x2a 0x0 0x0 0x0 0x2e 0x2f 0x6f \n",
      "0x62 0x66 0x75 0x73 0x63 0x61 0x74 0x65 0x64 0x2f 0x65 0x78 0x61 0x6d 0x70 0x6c \n",
      "0x65 0x73 0x2f 0x63 0x6f 0x6d 0x70 0x69 0x6c 0x65 0x61 0x6c 0x6c 0x2f 0x73 0x6f \n",
      "0x75 0x72 0x63 0x65 0x2e 0x70 0x79 0x74 0x8 0x0 0x0 0x0 0x3c 0x6d 0x6f 0x64 \n",
      "0x75 0x6c 0x65 0x3e 0x2 0x0 0x0 0x0 0x73 0xe 0x0 0x0 0x0 0x9 0x4 0x5 \n",
      "0x1 0x5 0x2 0xf 0x2 0x5 0x1 0xf 0x2 0x18 0x2 \n"
     ]
    }
   ],
   "source": [
    "print(\"\\x1b[1;31m\"+\"Исходный код файла побайтово в hex:\\n\"+\"\\x1b[0m\")\n",
    "path_compileall_pyc = \"./obfuscated/examples/compileall/source.pyc\"\n",
    "file = open(path_compileall_pyc, 'rb')\n",
    "blocksize = 1024\n",
    "opts,args = getopt.getopt(sys.argv[1:],'f:b:')\n",
    "\n",
    "for o,a in opts:\n",
    "    if o == '-f':\n",
    "        filename = a\n",
    "    if o == '-b':\n",
    "        blocksize = a\n",
    "\n",
    "offset = 0\n",
    "with file as f:\n",
    "    block = f.read(blocksize)\n",
    "    str = \"\"\n",
    "    i = 0\n",
    "    for ch in block:\n",
    "        str += hex(ch)+\" \"\n",
    "        i += 1\n",
    "        if i == 16:\n",
    "            str += \"\\n\"\n",
    "            i = 0\n",
    "    print(str)\n",
    "\n",
    "file.close()"
   ]
  },
  {
   "cell_type": "markdown",
   "metadata": {},
   "source": [
    "Как можно заметить, исходный код нечеловекочитаем.\n",
    "\n",
    "Теперь его необходимо расшифровать.\n",
    "Результат работы деобфускации будет доступен по пути:\n",
    "\n",
    "./obfuscated/examples/compileall/deobfuscated"
   ]
  },
  {
   "cell_type": "markdown",
   "metadata": {},
   "source": [
    "Для декомпиляции используется программа uncompyle6"
   ]
  },
  {
   "cell_type": "code",
   "execution_count": 7,
   "metadata": {},
   "outputs": [
    {
     "name": "stdout",
     "output_type": "stream",
     "text": [
      "# uncompyle6 version 3.7.4\n",
      "# Python bytecode 2.7 (62211)\n",
      "# Decompiled from: Python 3.8.5 (default, Jan 27 2021, 15:41:15) \n",
      "# [GCC 9.3.0]\n",
      "# Embedded file name: ./obfuscated/examples/compileall/source.py\n",
      "# Compiled at: 2021-05-06 23:29:10\n",
      "\n",
      "\n",
      "def square_triangle_area(width, height):\n",
      "    return height * width / 2\n",
      "\n",
      "\n",
      "print 'Эта программа считает площадь прямоугольного треугольника.'\n",
      "print 'Введите значение длины: '\n",
      "w = int(input())\n",
      "print 'Введите значение высоты: '\n",
      "h = int(input())\n",
      "print 'Площадь прямоугольного треугольника = ' + str(square_triangle_area(w, h))\n",
      "input()\n",
      "# okay decompiling ./obfuscated/examples/compileall/source.pyc\n"
     ]
    }
   ],
   "source": [
    "!uncompyle6 ./obfuscated/examples/compileall/source.pyc"
   ]
  },
  {
   "cell_type": "markdown",
   "metadata": {},
   "source": [
    "Итог: программа, зашифрованная первым рассмотренным методом обфускации компиляцией, была успешно деобфусцирована."
   ]
  },
  {
   "cell_type": "markdown",
   "metadata": {},
   "source": [
    "## Абстрактное Синтаксическое Дерево"
   ]
  },
  {
   "cell_type": "markdown",
   "metadata": {},
   "source": [
    "Используем паттерн \"Visitor\". Программный код представляется в виде ассоциативного массива.\n",
    "\n",
    "!!! добавить картинку паттерна в диплом\n",
    "\n",
    "Благодаря системному модулю ast нет необходимости подключать стороннюю реализацию.\n",
    "Достаточно создать класс, наследуемый от\n",
    "класса NodeTransformer и реализовать в нем\n",
    "соответствующие методы."
   ]
  },
  {
   "cell_type": "markdown",
   "metadata": {},
   "source": [
    "Был подключен дополнительный модуль astpretty для вывода АСД. Пример работы модуля ниже."
   ]
  },
  {
   "cell_type": "code",
   "execution_count": 18,
   "metadata": {},
   "outputs": [
    {
     "name": "stdout",
     "output_type": "stream",
     "text": [
      "Module(\n",
      "    body=[\n",
      "        FunctionDef(\n",
      "            name='square_triangle_area',\n",
      "            args=arguments(\n",
      "                posonlyargs=[],\n",
      "                args=[\n",
      "                    arg(arg='width', annotation=None, type_comment=None),\n",
      "                    arg(arg='height', annotation=None, type_comment=None),\n",
      "                ],\n",
      "                vararg=None,\n",
      "                kwonlyargs=[],\n",
      "                kw_defaults=[],\n",
      "                kwarg=None,\n",
      "                defaults=[],\n",
      "            ),\n",
      "            body=[\n",
      "                Return(\n",
      "                    value=BinOp(\n",
      "                        left=BinOp(\n",
      "                            left=Name(id='height', ctx=Load()),\n",
      "                            op=Mult(),\n",
      "                            right=Name(id='width', ctx=Load()),\n",
      "                        ),\n",
      "                        op=Div(),\n",
      "                        right=Constant(value=2, kind=None),\n",
      "                    ),\n",
      "                ),\n",
      "            ],\n",
      "            decorator_list=[],\n",
      "            returns=None,\n",
      "            type_comment=None,\n",
      "        ),\n",
      "        Expr(\n",
      "            value=Call(\n",
      "                func=Name(id='print', ctx=Load()),\n",
      "                args=[Constant(value='Эта программа считает площадь прямоугольного треугольника.', kind=None)],\n",
      "                keywords=[],\n",
      "            ),\n",
      "        ),\n",
      "        Expr(\n",
      "            value=Call(\n",
      "                func=Name(id='print', ctx=Load()),\n",
      "                args=[Constant(value='Введите значение длины: ', kind=None)],\n",
      "                keywords=[],\n",
      "            ),\n",
      "        ),\n",
      "        Assign(\n",
      "            targets=[Name(id='w', ctx=Store())],\n",
      "            value=Call(\n",
      "                func=Name(id='int', ctx=Load()),\n",
      "                args=[\n",
      "                    Call(\n",
      "                        func=Name(id='input', ctx=Load()),\n",
      "                        args=[],\n",
      "                        keywords=[],\n",
      "                    ),\n",
      "                ],\n",
      "                keywords=[],\n",
      "            ),\n",
      "            type_comment=None,\n",
      "        ),\n",
      "        Expr(\n",
      "            value=Call(\n",
      "                func=Name(id='print', ctx=Load()),\n",
      "                args=[Constant(value='Введите значение высоты: ', kind=None)],\n",
      "                keywords=[],\n",
      "            ),\n",
      "        ),\n",
      "        Assign(\n",
      "            targets=[Name(id='h', ctx=Store())],\n",
      "            value=Call(\n",
      "                func=Name(id='int', ctx=Load()),\n",
      "                args=[\n",
      "                    Call(\n",
      "                        func=Name(id='input', ctx=Load()),\n",
      "                        args=[],\n",
      "                        keywords=[],\n",
      "                    ),\n",
      "                ],\n",
      "                keywords=[],\n",
      "            ),\n",
      "            type_comment=None,\n",
      "        ),\n",
      "        Expr(\n",
      "            value=Call(\n",
      "                func=Name(id='print', ctx=Load()),\n",
      "                args=[\n",
      "                    BinOp(\n",
      "                        left=Constant(value='Площадь прямоугольного треугольника = ', kind=None),\n",
      "                        op=Add(),\n",
      "                        right=Call(\n",
      "                            func=Name(id='str', ctx=Load()),\n",
      "                            args=[\n",
      "                                Call(\n",
      "                                    func=Name(id='square_triangle_area', ctx=Load()),\n",
      "                                    args=[\n",
      "                                        Name(id='w', ctx=Load()),\n",
      "                                        Name(id='h', ctx=Load()),\n",
      "                                    ],\n",
      "                                    keywords=[],\n",
      "                                ),\n",
      "                            ],\n",
      "                            keywords=[],\n",
      "                        ),\n",
      "                    ),\n",
      "                ],\n",
      "                keywords=[],\n",
      "            ),\n",
      "        ),\n",
      "        Expr(\n",
      "            value=Call(\n",
      "                func=Name(id='input', ctx=Load()),\n",
      "                args=[],\n",
      "                keywords=[],\n",
      "            ),\n",
      "        ),\n",
      "    ],\n",
      "    type_ignores=[],\n",
      ")\n"
     ]
    }
   ],
   "source": [
    "path_ast = './obfuscated/examples/compileall/source.py'\n",
    "f = open(path_ast, 'r', encoding=\"utf-8\")\n",
    "my_tree = ast.parse(f.read())\n",
    "# print(ast.dump(my_tree))\n",
    "astpretty.pprint(my_tree, show_offsets=False)\n",
    "f.close()"
   ]
  },
  {
   "cell_type": "markdown",
   "metadata": {},
   "source": [
    "Для реализации обфускации необходимо написать функции паттерна \"Visitor\" для поещения и видоизменения разных типов узлов АСД. Начнём с изменения функции суммирования."
   ]
  },
  {
   "cell_type": "code",
   "execution_count": 9,
   "metadata": {},
   "outputs": [
    {
     "ename": "SyntaxError",
     "evalue": "invalid syntax (<ipython-input-9-0847c6f5e425>, line 23)",
     "output_type": "error",
     "traceback": [
      "\u001b[0;36m  File \u001b[0;32m\"<ipython-input-9-0847c6f5e425>\"\u001b[0;36m, line \u001b[0;32m23\u001b[0m\n\u001b[0;31m    print type(node).__name__\u001b[0m\n\u001b[0m          ^\u001b[0m\n\u001b[0;31mSyntaxError\u001b[0m\u001b[0;31m:\u001b[0m invalid syntax\n"
     ]
    }
   ],
   "source": [
    "class ObfuscatorAST(ast.NodeTransformer):\n",
    "#     def __init__(self):\n",
    "#         ast.NodeTransformer.__init__(self)\n",
    "    def visit_Num(self, node):\n",
    "        value = node.n\n",
    "        value_left = value_right = value / 2\n",
    "        if value % 2:\n",
    "            value_right += 1\n",
    "        return BinOp(left=BinOp(Num(value_left)), op=Add(), right=Num(value_right))\n",
    "    def visit_If(self, node):\n",
    "        node.test = BoolOp(op=And(), values=[node.test, Compare(left=Num(1), ops=[Gt()], comparators=[Num(0)])])\n",
    "        node.test = self.visit(node.test)\n",
    "        return node\n",
    "    def visit_Str(self, node):\n",
    "        def rev(x):\n",
    "            return Subscript(value=Str(s=x[::-1]),\n",
    "        slice=Slice(lower=None, upper=None, step=Num(n=-1)), ctx=Load())\n",
    "        return BinOp(left=rev(node.s[:len(node.s)/2]),\n",
    "    op=Add(), right=rev(node.s[len(node.s)/2:]))\n",
    "\n",
    "class LookNodes(ast.NodeVisitor):\n",
    "    def generic_visit(self, node):\n",
    "        print type(node).__name__\n",
    "        ast.NodeVisitor.generic_visit(self, node)\n",
    "\n",
    "look = LookNodes()\n",
    "tree = ast.parse(str_code)\n",
    "look.visit(tree)"
   ]
  },
  {
   "cell_type": "code",
   "execution_count": null,
   "metadata": {},
   "outputs": [],
   "source": [
    "code = open(path, 'rb').read()\n",
    "ast = ast.parse(code)\n",
    "obf = Obfuscator()\n",
    "ast2 = obf.visit(ast)\n",
    "result = codegen.to_source(ast2)\n",
    "# open(path, 'w').write(result)"
   ]
  },
  {
   "cell_type": "code",
   "execution_count": null,
   "metadata": {},
   "outputs": [],
   "source": []
  },
  {
   "cell_type": "code",
   "execution_count": null,
   "metadata": {},
   "outputs": [],
   "source": [
    "tree = ast.parse('foo', mode='eval')\n",
    "new_tree = fix_missing_locations(RewriteName().visit(tree))"
   ]
  },
  {
   "cell_type": "markdown",
   "metadata": {},
   "source": [
    "Смена условного ветвления на "
   ]
  },
  {
   "cell_type": "code",
   "execution_count": null,
   "metadata": {},
   "outputs": [],
   "source": []
  },
  {
   "cell_type": "markdown",
   "metadata": {},
   "source": [
    "### Преобразование управления"
   ]
  },
  {
   "cell_type": "markdown",
   "metadata": {},
   "source": [
    "Создание конечного автомата, но без непроницаемого предиката, а то слишком сложно."
   ]
  },
  {
   "cell_type": "code",
   "execution_count": null,
   "metadata": {},
   "outputs": [],
   "source": []
  },
  {
   "cell_type": "code",
   "execution_count": null,
   "metadata": {},
   "outputs": [],
   "source": []
  },
  {
   "cell_type": "markdown",
   "metadata": {},
   "source": [
    "## Лексическая обфускация"
   ]
  },
  {
   "cell_type": "markdown",
   "metadata": {},
   "source": [
    "Далее следует вид обфускации, при котором изменяются названия методов и переменных так, что код становится нечеловекочитаемым, а также удаляются комментарии из кода. Удалённые комментарии восстановить конечно же невозможно, а переназвать переменные более менее осмысленно хотя бы основываясь на их типе или просто заменить сложную непонятную длинную последовательность символов на более удобную для чтения возможно."
   ]
  },
  {
   "cell_type": "code",
   "execution_count": null,
   "metadata": {},
   "outputs": [],
   "source": [
    "# тупа переименовывание, потом сделаю в самом конце"
   ]
  },
  {
   "cell_type": "code",
   "execution_count": null,
   "metadata": {},
   "outputs": [],
   "source": []
  },
  {
   "cell_type": "code",
   "execution_count": null,
   "metadata": {},
   "outputs": [],
   "source": []
  },
  {
   "cell_type": "code",
   "execution_count": null,
   "metadata": {},
   "outputs": [],
   "source": []
  },
  {
   "cell_type": "code",
   "execution_count": null,
   "metadata": {},
   "outputs": [],
   "source": []
  },
  {
   "cell_type": "code",
   "execution_count": null,
   "metadata": {},
   "outputs": [],
   "source": []
  },
  {
   "cell_type": "code",
   "execution_count": null,
   "metadata": {},
   "outputs": [],
   "source": []
  },
  {
   "cell_type": "code",
   "execution_count": null,
   "metadata": {},
   "outputs": [],
   "source": []
  },
  {
   "cell_type": "code",
   "execution_count": null,
   "metadata": {},
   "outputs": [],
   "source": []
  },
  {
   "cell_type": "code",
   "execution_count": null,
   "metadata": {},
   "outputs": [],
   "source": []
  },
  {
   "cell_type": "code",
   "execution_count": null,
   "metadata": {},
   "outputs": [],
   "source": []
  },
  {
   "cell_type": "markdown",
   "metadata": {},
   "source": [
    "# Визуализация"
   ]
  },
  {
   "cell_type": "markdown",
   "metadata": {},
   "source": [
    "Вспомогательная визуализация АСД для понимания программы человеком"
   ]
  },
  {
   "cell_type": "markdown",
   "metadata": {},
   "source": [
    "попытки номер 1 отсюда\n",
    "https://github.com/hchasestevens/show_ast/blob/master/Example.ipynb"
   ]
  },
  {
   "cell_type": "code",
   "execution_count": 22,
   "metadata": {},
   "outputs": [
    {
     "data": {
      "image/svg+xml": [
       "<svg xmlns=\"http://www.w3.org/2000/svg\" xmlns:xlink=\"http://www.w3.org/1999/xlink\" width=\"430pt\" height=\"332pt\" viewBox=\"0.00 0.00 429.50 332.00\">\n",
       "<g id=\"graph0\" class=\"graph\" transform=\"scale(1 1) rotate(0) translate(4 328)\">\n",
       "<title>%3</title>\n",
       "<polygon fill=\"white\" stroke=\"transparent\" points=\"-4,4 -4,-328 425.5,-328 425.5,4 -4,4\"/>\n",
       "<!-- 0 -->\n",
       "<g id=\"node1\" class=\"node\">\n",
       "<title>0</title>\n",
       "<text text-anchor=\"start\" x=\"145\" y=\"-303.3\" font-family=\"Courier,monospace\" font-weight=\"bold\" font-size=\"14.00\" fill=\"#004080\">Expr</text>\n",
       "</g>\n",
       "<!-- 1 -->\n",
       "<g id=\"node2\" class=\"node\">\n",
       "<title>1</title>\n",
       "<text text-anchor=\"start\" x=\"145\" y=\"-231.3\" font-family=\"Courier,monospace\" font-weight=\"bold\" font-size=\"14.00\" fill=\"#004080\">Call</text>\n",
       "</g>\n",
       "<!-- 0&#45;&#45;1 -->\n",
       "<g id=\"edge1\" class=\"edge\">\n",
       "<title>0--1</title>\n",
       "<path fill=\"none\" stroke=\"black\" d=\"M162,-287.7C162,-276.85 162,-262.92 162,-252.1\"/>\n",
       "</g>\n",
       "<!-- 2 -->\n",
       "<g id=\"node3\" class=\"node\">\n",
       "<title>2</title>\n",
       "<text text-anchor=\"start\" x=\"102\" y=\"-159.3\" font-family=\"Courier,monospace\" font-weight=\"bold\" font-size=\"14.00\" fill=\"#004080\">Name</text>\n",
       "</g>\n",
       "<!-- 1&#45;&#45;2 -->\n",
       "<g id=\"edge2\" class=\"edge\">\n",
       "<title>1--2</title>\n",
       "<path fill=\"none\" stroke=\"black\" d=\"M165,-215C165,-215 147.48,-195.19 134.06,-180.03\"/>\n",
       "</g>\n",
       "<!-- 5 -->\n",
       "<g id=\"node6\" class=\"node\">\n",
       "<title>5</title>\n",
       "<text text-anchor=\"start\" x=\"228\" y=\"-159.3\" font-family=\"Courier,monospace\" font-weight=\"bold\" font-size=\"14.00\" fill=\"#004080\">BinOp</text>\n",
       "</g>\n",
       "<!-- 1&#45;&#45;5 -->\n",
       "<g id=\"edge5\" class=\"edge\">\n",
       "<title>1--5</title>\n",
       "<path fill=\"none\" stroke=\"black\" d=\"M165,-215C165,-215 197,-195.19 221.5,-180.03\"/>\n",
       "</g>\n",
       "<!-- 3 -->\n",
       "<g id=\"node4\" class=\"node\">\n",
       "<title>3</title>\n",
       "<text text-anchor=\"middle\" x=\"37\" y=\"-86.3\" font-family=\"Courier,monospace\" font-size=\"14.00\" fill=\"#008040\">&quot;print&quot;</text>\n",
       "</g>\n",
       "<!-- 2&#45;&#45;3 -->\n",
       "<g id=\"edge3\" class=\"edge\">\n",
       "<title>2--3</title>\n",
       "<path fill=\"none\" stroke=\"black\" d=\"M111,-143C111,-143 82.81,-123.19 61.23,-108.03\"/>\n",
       "</g>\n",
       "<!-- 4 -->\n",
       "<g id=\"node5\" class=\"node\">\n",
       "<title>4</title>\n",
       "<text text-anchor=\"middle\" x=\"119\" y=\"-86.3\" font-family=\"Courier,monospace\" font-size=\"14.00\" fill=\"#008040\">Load</text>\n",
       "</g>\n",
       "<!-- 2&#45;&#45;4 -->\n",
       "<g id=\"edge4\" class=\"edge\">\n",
       "<title>2--4</title>\n",
       "<path fill=\"none\" stroke=\"black\" d=\"M111,-143C111,-143 114.05,-123.19 116.38,-108.03\"/>\n",
       "</g>\n",
       "<!-- 6 -->\n",
       "<g id=\"node7\" class=\"node\">\n",
       "<title>6</title>\n",
       "<text text-anchor=\"start\" x=\"172.5\" y=\"-87.3\" font-family=\"Courier,monospace\" font-weight=\"bold\" font-size=\"14.00\" fill=\"#004080\">Constant</text>\n",
       "</g>\n",
       "<!-- 5&#45;&#45;6 -->\n",
       "<g id=\"edge6\" class=\"edge\">\n",
       "<title>5--6</title>\n",
       "<path fill=\"none\" stroke=\"black\" d=\"M256,-143C256,-143 236.95,-123.19 222.37,-108.03\"/>\n",
       "</g>\n",
       "<!-- 8 -->\n",
       "<g id=\"node9\" class=\"node\">\n",
       "<title>8</title>\n",
       "<text text-anchor=\"middle\" x=\"293\" y=\"-86.3\" font-family=\"Courier,monospace\" font-size=\"14.00\" fill=\"#008040\">Add</text>\n",
       "</g>\n",
       "<!-- 5&#45;&#45;8 -->\n",
       "<g id=\"edge8\" class=\"edge\">\n",
       "<title>5--8</title>\n",
       "<path fill=\"none\" stroke=\"black\" d=\"M256,-143C256,-143 270.09,-123.19 280.88,-108.03\"/>\n",
       "</g>\n",
       "<!-- 9 -->\n",
       "<g id=\"node10\" class=\"node\">\n",
       "<title>9</title>\n",
       "<text text-anchor=\"start\" x=\"346.5\" y=\"-87.3\" font-family=\"Courier,monospace\" font-weight=\"bold\" font-size=\"14.00\" fill=\"#004080\">Constant</text>\n",
       "</g>\n",
       "<!-- 5&#45;&#45;9 -->\n",
       "<g id=\"edge9\" class=\"edge\">\n",
       "<title>5--9</title>\n",
       "<path fill=\"none\" stroke=\"black\" d=\"M256,-143C256,-143 303.23,-123.19 339.4,-108.03\"/>\n",
       "</g>\n",
       "<!-- 7 -->\n",
       "<g id=\"node8\" class=\"node\">\n",
       "<title>7</title>\n",
       "<text text-anchor=\"middle\" x=\"206\" y=\"-14.3\" font-family=\"Courier,monospace\" font-size=\"14.00\" fill=\"#008040\">1</text>\n",
       "</g>\n",
       "<!-- 6&#45;&#45;7 -->\n",
       "<g id=\"edge7\" class=\"edge\">\n",
       "<title>6--7</title>\n",
       "<path fill=\"none\" stroke=\"black\" d=\"M206,-71.7C206,-60.85 206,-46.92 206,-36.1\"/>\n",
       "</g>\n",
       "<!-- 10 -->\n",
       "<g id=\"node11\" class=\"node\">\n",
       "<title>10</title>\n",
       "<text text-anchor=\"middle\" x=\"380\" y=\"-14.3\" font-family=\"Courier,monospace\" font-size=\"14.00\" fill=\"#008040\">2</text>\n",
       "</g>\n",
       "<!-- 9&#45;&#45;10 -->\n",
       "<g id=\"edge10\" class=\"edge\">\n",
       "<title>9--10</title>\n",
       "<path fill=\"none\" stroke=\"black\" d=\"M380,-71.7C380,-60.85 380,-46.92 380,-36.1\"/>\n",
       "</g>\n",
       "</g>\n",
       "</svg>"
      ],
      "text/plain": [
       "<IPython.core.display.SVG object>"
      ]
     },
     "metadata": {},
     "output_type": "display_data"
    }
   ],
   "source": [
    "%%showast\n",
    "print(1 + 2)"
   ]
  },
  {
   "cell_type": "code",
   "execution_count": 21,
   "metadata": {},
   "outputs": [
    {
     "ename": "NameError",
     "evalue": "name 'show_source' is not defined",
     "output_type": "error",
     "traceback": [
      "\u001b[0;31m---------------------------------------------------------------------------\u001b[0m",
      "\u001b[0;31mNameError\u001b[0m                                 Traceback (most recent call last)",
      "\u001b[0;32m<ipython-input-21-0bee2e741b24>\u001b[0m in \u001b[0;36m<module>\u001b[0;34m\u001b[0m\n\u001b[1;32m      5\u001b[0m \u001b[0mtree1\u001b[0m \u001b[0;34m=\u001b[0m \u001b[0mast\u001b[0m\u001b[0;34m.\u001b[0m\u001b[0mparse\u001b[0m\u001b[0;34m(\u001b[0m\u001b[0ms\u001b[0m\u001b[0;34m)\u001b[0m\u001b[0;34m\u001b[0m\u001b[0;34m\u001b[0m\u001b[0m\n\u001b[1;32m      6\u001b[0m \u001b[0;34m\u001b[0m\u001b[0m\n\u001b[0;32m----> 7\u001b[0;31m \u001b[0mshow_source\u001b[0m\u001b[0;34m(\u001b[0m\u001b[0mexample_function\u001b[0m\u001b[0;34m)\u001b[0m\u001b[0;34m\u001b[0m\u001b[0;34m\u001b[0m\u001b[0m\n\u001b[0m",
      "\u001b[0;31mNameError\u001b[0m: name 'show_source' is not defined"
     ]
    }
   ],
   "source": [
    "def example_function(a):\n",
    "    for x in range(10):\n",
    "        a[x] += x\n",
    "\n",
    "tree1 = ast.parse(s)\n",
    "\n",
    "show_source(example_function)"
   ]
  },
  {
   "cell_type": "code",
   "execution_count": 23,
   "metadata": {},
   "outputs": [
    {
     "name": "stdout",
     "output_type": "stream",
     "text": [
      "def foo():\n",
      "    return 42\n"
     ]
    }
   ],
   "source": [
    "import inspect\n",
    "expr=\"\"\"\n",
    "def foo():\n",
    "   print(\"hello world\")\n",
    "\"\"\"\n",
    "p=ast.parse(expr)\n",
    "\n",
    "p.body[0].body = [ ast.parse(\"return 42\").body[0] ] # Replace function body with \"return 42\"\n",
    "\n",
    "print(codegen.to_source(p))"
   ]
  },
  {
   "cell_type": "markdown",
   "metadata": {},
   "source": [
    "а дальше проблема несовместимости с версией 3.8, потому что в 3.9 появились starargs и codegen без них работать отказывается напрочь!!!\n",
    "\n",
    "нормас, сделаю часть обфускатора тут красиво расписанную по отдельности, а потом соберу его по кусочкам в другом conda env под 3.9 python в цельный проект не в jupyter notebook, а в каком-нибудь pyCharm на какой-нибудь Windows"
   ]
  },
  {
   "cell_type": "code",
   "execution_count": 25,
   "metadata": {},
   "outputs": [
    {
     "ename": "AttributeError",
     "evalue": "'Call' object has no attribute 'starargs'",
     "output_type": "error",
     "traceback": [
      "\u001b[0;31m---------------------------------------------------------------------------\u001b[0m",
      "\u001b[0;31mAttributeError\u001b[0m                            Traceback (most recent call last)",
      "\u001b[0;32m<ipython-input-25-db3d38859c55>\u001b[0m in \u001b[0;36m<module>\u001b[0;34m\u001b[0m\n\u001b[1;32m     13\u001b[0m \u001b[0;31m# p.body[0].body = [ ast.parse(\"return 42\").body[0] ] # Replace function body with \"return 42\"\u001b[0m\u001b[0;34m\u001b[0m\u001b[0;34m\u001b[0m\u001b[0;34m\u001b[0m\u001b[0m\n\u001b[1;32m     14\u001b[0m \u001b[0;34m\u001b[0m\u001b[0m\n\u001b[0;32m---> 15\u001b[0;31m \u001b[0mprint\u001b[0m\u001b[0;34m(\u001b[0m\u001b[0mcodegen\u001b[0m\u001b[0;34m.\u001b[0m\u001b[0mto_source\u001b[0m\u001b[0;34m(\u001b[0m\u001b[0mp\u001b[0m\u001b[0;34m)\u001b[0m\u001b[0;34m)\u001b[0m\u001b[0;34m\u001b[0m\u001b[0;34m\u001b[0m\u001b[0m\n\u001b[0m\u001b[1;32m     16\u001b[0m \u001b[0;31m# show_source(p)\u001b[0m\u001b[0;34m\u001b[0m\u001b[0;34m\u001b[0m\u001b[0;34m\u001b[0m\u001b[0m\n",
      "\u001b[0;32m~/.local/lib/python3.8/site-packages/codegen.py\u001b[0m in \u001b[0;36mto_source\u001b[0;34m(node, indent_with, add_line_information)\u001b[0m\n\u001b[1;32m     66\u001b[0m     \"\"\"\n\u001b[1;32m     67\u001b[0m     \u001b[0mgenerator\u001b[0m \u001b[0;34m=\u001b[0m \u001b[0mSourceGenerator\u001b[0m\u001b[0;34m(\u001b[0m\u001b[0mindent_with\u001b[0m\u001b[0;34m,\u001b[0m \u001b[0madd_line_information\u001b[0m\u001b[0;34m)\u001b[0m\u001b[0;34m\u001b[0m\u001b[0;34m\u001b[0m\u001b[0m\n\u001b[0;32m---> 68\u001b[0;31m     \u001b[0mgenerator\u001b[0m\u001b[0;34m.\u001b[0m\u001b[0mvisit\u001b[0m\u001b[0;34m(\u001b[0m\u001b[0mnode\u001b[0m\u001b[0;34m)\u001b[0m\u001b[0;34m\u001b[0m\u001b[0;34m\u001b[0m\u001b[0m\n\u001b[0m\u001b[1;32m     69\u001b[0m \u001b[0;34m\u001b[0m\u001b[0m\n\u001b[1;32m     70\u001b[0m     \u001b[0;32mreturn\u001b[0m \u001b[0;34m''\u001b[0m\u001b[0;34m.\u001b[0m\u001b[0mjoin\u001b[0m\u001b[0;34m(\u001b[0m\u001b[0mgenerator\u001b[0m\u001b[0;34m.\u001b[0m\u001b[0mresult\u001b[0m\u001b[0;34m)\u001b[0m\u001b[0;34m\u001b[0m\u001b[0;34m\u001b[0m\u001b[0m\n",
      "\u001b[0;32m/usr/lib/python3.8/ast.py\u001b[0m in \u001b[0;36mvisit\u001b[0;34m(self, node)\u001b[0m\n\u001b[1;32m    361\u001b[0m         \u001b[0mmethod\u001b[0m \u001b[0;34m=\u001b[0m \u001b[0;34m'visit_'\u001b[0m \u001b[0;34m+\u001b[0m \u001b[0mnode\u001b[0m\u001b[0;34m.\u001b[0m\u001b[0m__class__\u001b[0m\u001b[0;34m.\u001b[0m\u001b[0m__name__\u001b[0m\u001b[0;34m\u001b[0m\u001b[0;34m\u001b[0m\u001b[0m\n\u001b[1;32m    362\u001b[0m         \u001b[0mvisitor\u001b[0m \u001b[0;34m=\u001b[0m \u001b[0mgetattr\u001b[0m\u001b[0;34m(\u001b[0m\u001b[0mself\u001b[0m\u001b[0;34m,\u001b[0m \u001b[0mmethod\u001b[0m\u001b[0;34m,\u001b[0m \u001b[0mself\u001b[0m\u001b[0;34m.\u001b[0m\u001b[0mgeneric_visit\u001b[0m\u001b[0;34m)\u001b[0m\u001b[0;34m\u001b[0m\u001b[0;34m\u001b[0m\u001b[0m\n\u001b[0;32m--> 363\u001b[0;31m         \u001b[0;32mreturn\u001b[0m \u001b[0mvisitor\u001b[0m\u001b[0;34m(\u001b[0m\u001b[0mnode\u001b[0m\u001b[0;34m)\u001b[0m\u001b[0;34m\u001b[0m\u001b[0;34m\u001b[0m\u001b[0m\n\u001b[0m\u001b[1;32m    364\u001b[0m \u001b[0;34m\u001b[0m\u001b[0m\n\u001b[1;32m    365\u001b[0m     \u001b[0;32mdef\u001b[0m \u001b[0mgeneric_visit\u001b[0m\u001b[0;34m(\u001b[0m\u001b[0mself\u001b[0m\u001b[0;34m,\u001b[0m \u001b[0mnode\u001b[0m\u001b[0;34m)\u001b[0m\u001b[0;34m:\u001b[0m\u001b[0;34m\u001b[0m\u001b[0;34m\u001b[0m\u001b[0m\n",
      "\u001b[0;32m/usr/lib/python3.8/ast.py\u001b[0m in \u001b[0;36mgeneric_visit\u001b[0;34m(self, node)\u001b[0m\n\u001b[1;32m    369\u001b[0m                 \u001b[0;32mfor\u001b[0m \u001b[0mitem\u001b[0m \u001b[0;32min\u001b[0m \u001b[0mvalue\u001b[0m\u001b[0;34m:\u001b[0m\u001b[0;34m\u001b[0m\u001b[0;34m\u001b[0m\u001b[0m\n\u001b[1;32m    370\u001b[0m                     \u001b[0;32mif\u001b[0m \u001b[0misinstance\u001b[0m\u001b[0;34m(\u001b[0m\u001b[0mitem\u001b[0m\u001b[0;34m,\u001b[0m \u001b[0mAST\u001b[0m\u001b[0;34m)\u001b[0m\u001b[0;34m:\u001b[0m\u001b[0;34m\u001b[0m\u001b[0;34m\u001b[0m\u001b[0m\n\u001b[0;32m--> 371\u001b[0;31m                         \u001b[0mself\u001b[0m\u001b[0;34m.\u001b[0m\u001b[0mvisit\u001b[0m\u001b[0;34m(\u001b[0m\u001b[0mitem\u001b[0m\u001b[0;34m)\u001b[0m\u001b[0;34m\u001b[0m\u001b[0;34m\u001b[0m\u001b[0m\n\u001b[0m\u001b[1;32m    372\u001b[0m             \u001b[0;32melif\u001b[0m \u001b[0misinstance\u001b[0m\u001b[0;34m(\u001b[0m\u001b[0mvalue\u001b[0m\u001b[0;34m,\u001b[0m \u001b[0mAST\u001b[0m\u001b[0;34m)\u001b[0m\u001b[0;34m:\u001b[0m\u001b[0;34m\u001b[0m\u001b[0;34m\u001b[0m\u001b[0m\n\u001b[1;32m    373\u001b[0m                 \u001b[0mself\u001b[0m\u001b[0;34m.\u001b[0m\u001b[0mvisit\u001b[0m\u001b[0;34m(\u001b[0m\u001b[0mvalue\u001b[0m\u001b[0;34m)\u001b[0m\u001b[0;34m\u001b[0m\u001b[0;34m\u001b[0m\u001b[0m\n",
      "\u001b[0;32m/usr/lib/python3.8/ast.py\u001b[0m in \u001b[0;36mvisit\u001b[0;34m(self, node)\u001b[0m\n\u001b[1;32m    361\u001b[0m         \u001b[0mmethod\u001b[0m \u001b[0;34m=\u001b[0m \u001b[0;34m'visit_'\u001b[0m \u001b[0;34m+\u001b[0m \u001b[0mnode\u001b[0m\u001b[0;34m.\u001b[0m\u001b[0m__class__\u001b[0m\u001b[0;34m.\u001b[0m\u001b[0m__name__\u001b[0m\u001b[0;34m\u001b[0m\u001b[0;34m\u001b[0m\u001b[0m\n\u001b[1;32m    362\u001b[0m         \u001b[0mvisitor\u001b[0m \u001b[0;34m=\u001b[0m \u001b[0mgetattr\u001b[0m\u001b[0;34m(\u001b[0m\u001b[0mself\u001b[0m\u001b[0;34m,\u001b[0m \u001b[0mmethod\u001b[0m\u001b[0;34m,\u001b[0m \u001b[0mself\u001b[0m\u001b[0;34m.\u001b[0m\u001b[0mgeneric_visit\u001b[0m\u001b[0;34m)\u001b[0m\u001b[0;34m\u001b[0m\u001b[0;34m\u001b[0m\u001b[0m\n\u001b[0;32m--> 363\u001b[0;31m         \u001b[0;32mreturn\u001b[0m \u001b[0mvisitor\u001b[0m\u001b[0;34m(\u001b[0m\u001b[0mnode\u001b[0m\u001b[0;34m)\u001b[0m\u001b[0;34m\u001b[0m\u001b[0;34m\u001b[0m\u001b[0m\n\u001b[0m\u001b[1;32m    364\u001b[0m \u001b[0;34m\u001b[0m\u001b[0m\n\u001b[1;32m    365\u001b[0m     \u001b[0;32mdef\u001b[0m \u001b[0mgeneric_visit\u001b[0m\u001b[0;34m(\u001b[0m\u001b[0mself\u001b[0m\u001b[0;34m,\u001b[0m \u001b[0mnode\u001b[0m\u001b[0;34m)\u001b[0m\u001b[0;34m:\u001b[0m\u001b[0;34m\u001b[0m\u001b[0;34m\u001b[0m\u001b[0m\n",
      "\u001b[0;32m~/.local/lib/python3.8/site-packages/codegen.py\u001b[0m in \u001b[0;36mvisit_FunctionDef\u001b[0;34m(self, node)\u001b[0m\n\u001b[1;32m    189\u001b[0m         \u001b[0mself\u001b[0m\u001b[0;34m.\u001b[0m\u001b[0mvisit\u001b[0m\u001b[0;34m(\u001b[0m\u001b[0mnode\u001b[0m\u001b[0;34m.\u001b[0m\u001b[0margs\u001b[0m\u001b[0;34m)\u001b[0m\u001b[0;34m\u001b[0m\u001b[0;34m\u001b[0m\u001b[0m\n\u001b[1;32m    190\u001b[0m         \u001b[0mself\u001b[0m\u001b[0;34m.\u001b[0m\u001b[0mwrite\u001b[0m\u001b[0;34m(\u001b[0m\u001b[0;34m'):'\u001b[0m\u001b[0;34m)\u001b[0m\u001b[0;34m\u001b[0m\u001b[0;34m\u001b[0m\u001b[0m\n\u001b[0;32m--> 191\u001b[0;31m         \u001b[0mself\u001b[0m\u001b[0;34m.\u001b[0m\u001b[0mbody\u001b[0m\u001b[0;34m(\u001b[0m\u001b[0mnode\u001b[0m\u001b[0;34m.\u001b[0m\u001b[0mbody\u001b[0m\u001b[0;34m)\u001b[0m\u001b[0;34m\u001b[0m\u001b[0;34m\u001b[0m\u001b[0m\n\u001b[0m\u001b[1;32m    192\u001b[0m \u001b[0;34m\u001b[0m\u001b[0m\n\u001b[1;32m    193\u001b[0m     \u001b[0;32mdef\u001b[0m \u001b[0mvisit_ClassDef\u001b[0m\u001b[0;34m(\u001b[0m\u001b[0mself\u001b[0m\u001b[0;34m,\u001b[0m \u001b[0mnode\u001b[0m\u001b[0;34m)\u001b[0m\u001b[0;34m:\u001b[0m\u001b[0;34m\u001b[0m\u001b[0;34m\u001b[0m\u001b[0m\n",
      "\u001b[0;32m~/.local/lib/python3.8/site-packages/codegen.py\u001b[0m in \u001b[0;36mbody\u001b[0;34m(self, statements)\u001b[0m\n\u001b[1;32m    101\u001b[0m         \u001b[0mself\u001b[0m\u001b[0;34m.\u001b[0m\u001b[0mindentation\u001b[0m \u001b[0;34m+=\u001b[0m \u001b[0;36m1\u001b[0m\u001b[0;34m\u001b[0m\u001b[0;34m\u001b[0m\u001b[0m\n\u001b[1;32m    102\u001b[0m         \u001b[0;32mfor\u001b[0m \u001b[0mstmt\u001b[0m \u001b[0;32min\u001b[0m \u001b[0mstatements\u001b[0m\u001b[0;34m:\u001b[0m\u001b[0;34m\u001b[0m\u001b[0;34m\u001b[0m\u001b[0m\n\u001b[0;32m--> 103\u001b[0;31m             \u001b[0mself\u001b[0m\u001b[0;34m.\u001b[0m\u001b[0mvisit\u001b[0m\u001b[0;34m(\u001b[0m\u001b[0mstmt\u001b[0m\u001b[0;34m)\u001b[0m\u001b[0;34m\u001b[0m\u001b[0;34m\u001b[0m\u001b[0m\n\u001b[0m\u001b[1;32m    104\u001b[0m         \u001b[0mself\u001b[0m\u001b[0;34m.\u001b[0m\u001b[0mindentation\u001b[0m \u001b[0;34m-=\u001b[0m \u001b[0;36m1\u001b[0m\u001b[0;34m\u001b[0m\u001b[0;34m\u001b[0m\u001b[0m\n\u001b[1;32m    105\u001b[0m \u001b[0;34m\u001b[0m\u001b[0m\n",
      "\u001b[0;32m/usr/lib/python3.8/ast.py\u001b[0m in \u001b[0;36mvisit\u001b[0;34m(self, node)\u001b[0m\n\u001b[1;32m    361\u001b[0m         \u001b[0mmethod\u001b[0m \u001b[0;34m=\u001b[0m \u001b[0;34m'visit_'\u001b[0m \u001b[0;34m+\u001b[0m \u001b[0mnode\u001b[0m\u001b[0;34m.\u001b[0m\u001b[0m__class__\u001b[0m\u001b[0;34m.\u001b[0m\u001b[0m__name__\u001b[0m\u001b[0;34m\u001b[0m\u001b[0;34m\u001b[0m\u001b[0m\n\u001b[1;32m    362\u001b[0m         \u001b[0mvisitor\u001b[0m \u001b[0;34m=\u001b[0m \u001b[0mgetattr\u001b[0m\u001b[0;34m(\u001b[0m\u001b[0mself\u001b[0m\u001b[0;34m,\u001b[0m \u001b[0mmethod\u001b[0m\u001b[0;34m,\u001b[0m \u001b[0mself\u001b[0m\u001b[0;34m.\u001b[0m\u001b[0mgeneric_visit\u001b[0m\u001b[0;34m)\u001b[0m\u001b[0;34m\u001b[0m\u001b[0;34m\u001b[0m\u001b[0m\n\u001b[0;32m--> 363\u001b[0;31m         \u001b[0;32mreturn\u001b[0m \u001b[0mvisitor\u001b[0m\u001b[0;34m(\u001b[0m\u001b[0mnode\u001b[0m\u001b[0;34m)\u001b[0m\u001b[0;34m\u001b[0m\u001b[0;34m\u001b[0m\u001b[0m\n\u001b[0m\u001b[1;32m    364\u001b[0m \u001b[0;34m\u001b[0m\u001b[0m\n\u001b[1;32m    365\u001b[0m     \u001b[0;32mdef\u001b[0m \u001b[0mgeneric_visit\u001b[0m\u001b[0;34m(\u001b[0m\u001b[0mself\u001b[0m\u001b[0;34m,\u001b[0m \u001b[0mnode\u001b[0m\u001b[0;34m)\u001b[0m\u001b[0;34m:\u001b[0m\u001b[0;34m\u001b[0m\u001b[0;34m\u001b[0m\u001b[0m\n",
      "\u001b[0;32m~/.local/lib/python3.8/site-packages/codegen.py\u001b[0m in \u001b[0;36mvisit_For\u001b[0;34m(self, node)\u001b[0m\n\u001b[1;32m    253\u001b[0m         \u001b[0mself\u001b[0m\u001b[0;34m.\u001b[0m\u001b[0mvisit\u001b[0m\u001b[0;34m(\u001b[0m\u001b[0mnode\u001b[0m\u001b[0;34m.\u001b[0m\u001b[0mtarget\u001b[0m\u001b[0;34m)\u001b[0m\u001b[0;34m\u001b[0m\u001b[0;34m\u001b[0m\u001b[0m\n\u001b[1;32m    254\u001b[0m         \u001b[0mself\u001b[0m\u001b[0;34m.\u001b[0m\u001b[0mwrite\u001b[0m\u001b[0;34m(\u001b[0m\u001b[0;34m' in '\u001b[0m\u001b[0;34m)\u001b[0m\u001b[0;34m\u001b[0m\u001b[0;34m\u001b[0m\u001b[0m\n\u001b[0;32m--> 255\u001b[0;31m         \u001b[0mself\u001b[0m\u001b[0;34m.\u001b[0m\u001b[0mvisit\u001b[0m\u001b[0;34m(\u001b[0m\u001b[0mnode\u001b[0m\u001b[0;34m.\u001b[0m\u001b[0miter\u001b[0m\u001b[0;34m)\u001b[0m\u001b[0;34m\u001b[0m\u001b[0;34m\u001b[0m\u001b[0m\n\u001b[0m\u001b[1;32m    256\u001b[0m         \u001b[0mself\u001b[0m\u001b[0;34m.\u001b[0m\u001b[0mwrite\u001b[0m\u001b[0;34m(\u001b[0m\u001b[0;34m':'\u001b[0m\u001b[0;34m)\u001b[0m\u001b[0;34m\u001b[0m\u001b[0;34m\u001b[0m\u001b[0m\n\u001b[1;32m    257\u001b[0m         \u001b[0mself\u001b[0m\u001b[0;34m.\u001b[0m\u001b[0mbody_or_else\u001b[0m\u001b[0;34m(\u001b[0m\u001b[0mnode\u001b[0m\u001b[0;34m)\u001b[0m\u001b[0;34m\u001b[0m\u001b[0;34m\u001b[0m\u001b[0m\n",
      "\u001b[0;32m/usr/lib/python3.8/ast.py\u001b[0m in \u001b[0;36mvisit\u001b[0;34m(self, node)\u001b[0m\n\u001b[1;32m    361\u001b[0m         \u001b[0mmethod\u001b[0m \u001b[0;34m=\u001b[0m \u001b[0;34m'visit_'\u001b[0m \u001b[0;34m+\u001b[0m \u001b[0mnode\u001b[0m\u001b[0;34m.\u001b[0m\u001b[0m__class__\u001b[0m\u001b[0;34m.\u001b[0m\u001b[0m__name__\u001b[0m\u001b[0;34m\u001b[0m\u001b[0;34m\u001b[0m\u001b[0m\n\u001b[1;32m    362\u001b[0m         \u001b[0mvisitor\u001b[0m \u001b[0;34m=\u001b[0m \u001b[0mgetattr\u001b[0m\u001b[0;34m(\u001b[0m\u001b[0mself\u001b[0m\u001b[0;34m,\u001b[0m \u001b[0mmethod\u001b[0m\u001b[0;34m,\u001b[0m \u001b[0mself\u001b[0m\u001b[0;34m.\u001b[0m\u001b[0mgeneric_visit\u001b[0m\u001b[0;34m)\u001b[0m\u001b[0;34m\u001b[0m\u001b[0;34m\u001b[0m\u001b[0m\n\u001b[0;32m--> 363\u001b[0;31m         \u001b[0;32mreturn\u001b[0m \u001b[0mvisitor\u001b[0m\u001b[0;34m(\u001b[0m\u001b[0mnode\u001b[0m\u001b[0;34m)\u001b[0m\u001b[0;34m\u001b[0m\u001b[0;34m\u001b[0m\u001b[0m\n\u001b[0m\u001b[1;32m    364\u001b[0m \u001b[0;34m\u001b[0m\u001b[0m\n\u001b[1;32m    365\u001b[0m     \u001b[0;32mdef\u001b[0m \u001b[0mgeneric_visit\u001b[0m\u001b[0;34m(\u001b[0m\u001b[0mself\u001b[0m\u001b[0;34m,\u001b[0m \u001b[0mnode\u001b[0m\u001b[0;34m)\u001b[0m\u001b[0;34m:\u001b[0m\u001b[0;34m\u001b[0m\u001b[0;34m\u001b[0m\u001b[0m\n",
      "\u001b[0;32m~/.local/lib/python3.8/site-packages/codegen.py\u001b[0m in \u001b[0;36mvisit_Call\u001b[0;34m(self, node)\u001b[0m\n\u001b[1;32m    384\u001b[0m             \u001b[0mself\u001b[0m\u001b[0;34m.\u001b[0m\u001b[0mwrite\u001b[0m\u001b[0;34m(\u001b[0m\u001b[0mkeyword\u001b[0m\u001b[0;34m.\u001b[0m\u001b[0marg\u001b[0m \u001b[0;34m+\u001b[0m \u001b[0;34m'='\u001b[0m\u001b[0;34m)\u001b[0m\u001b[0;34m\u001b[0m\u001b[0;34m\u001b[0m\u001b[0m\n\u001b[1;32m    385\u001b[0m             \u001b[0mself\u001b[0m\u001b[0;34m.\u001b[0m\u001b[0mvisit\u001b[0m\u001b[0;34m(\u001b[0m\u001b[0mkeyword\u001b[0m\u001b[0;34m.\u001b[0m\u001b[0mvalue\u001b[0m\u001b[0;34m)\u001b[0m\u001b[0;34m\u001b[0m\u001b[0;34m\u001b[0m\u001b[0m\n\u001b[0;32m--> 386\u001b[0;31m         \u001b[0;32mif\u001b[0m \u001b[0mnode\u001b[0m\u001b[0;34m.\u001b[0m\u001b[0mstarargs\u001b[0m \u001b[0;32mis\u001b[0m \u001b[0;32mnot\u001b[0m \u001b[0;32mNone\u001b[0m\u001b[0;34m:\u001b[0m\u001b[0;34m\u001b[0m\u001b[0;34m\u001b[0m\u001b[0m\n\u001b[0m\u001b[1;32m    387\u001b[0m             \u001b[0mwrite_comma\u001b[0m\u001b[0;34m(\u001b[0m\u001b[0;34m)\u001b[0m\u001b[0;34m\u001b[0m\u001b[0;34m\u001b[0m\u001b[0m\n\u001b[1;32m    388\u001b[0m             \u001b[0mself\u001b[0m\u001b[0;34m.\u001b[0m\u001b[0mwrite\u001b[0m\u001b[0;34m(\u001b[0m\u001b[0;34m'*'\u001b[0m\u001b[0;34m)\u001b[0m\u001b[0;34m\u001b[0m\u001b[0;34m\u001b[0m\u001b[0m\n",
      "\u001b[0;31mAttributeError\u001b[0m: 'Call' object has no attribute 'starargs'"
     ]
    }
   ],
   "source": [
    "s = \"\"\"\n",
    "def example_function(a):\n",
    "    for x in range(10):\n",
    "        a[x] += x\n",
    "\"\"\"\n",
    "\n",
    "tree1 = ast.parse(s)\n",
    "\n",
    "expr=s\n",
    "\n",
    "p=ast.parse(expr)\n",
    "\n",
    "# p.body[0].body = [ ast.parse(\"return 42\").body[0] ] # Replace function body with \"return 42\"\n",
    "\n",
    "print(codegen.to_source(p))\n",
    "# show_source(p)"
   ]
  },
  {
   "cell_type": "code",
   "execution_count": 20,
   "metadata": {},
   "outputs": [],
   "source": [
    "path_compileall = './obfuscated/examples/compileall/source.py'\n",
    "f = open(path_compileall, 'r', encoding=\"utf-8\")\n",
    "my_tree = ast.parse(f.read(), mode=\"exec\")\n",
    "# show_source(f.read())\n",
    "f.close()"
   ]
  },
  {
   "cell_type": "markdown",
   "metadata": {},
   "source": [
    "попытки номер 2 отсюда\n",
    "\n",
    "https://github.com/asottile/astpretty\n",
    "\n",
    "https://stackoverflow.com/questions/58924031/generating-a-text-representation-of-pythons-ast"
   ]
  },
  {
   "cell_type": "code",
   "execution_count": 108,
   "metadata": {},
   "outputs": [
    {
     "data": {
      "text/plain": [
       "\"Module(body=[Assign(targets=[Name(id='one_plus_two', ctx=Store())], value=BinOp(left=Num(n=1), op=Add(), right=Num(n=2)))])\""
      ]
     },
     "execution_count": 108,
     "metadata": {},
     "output_type": "execute_result"
    }
   ],
   "source": [
    "code = \"one_plus_two = 1+2\"\n",
    "tree = ast.parse(code)\n",
    "ast.dump(tree)"
   ]
  },
  {
   "cell_type": "code",
   "execution_count": 133,
   "metadata": {},
   "outputs": [
    {
     "name": "stdout",
     "output_type": "stream",
     "text": [
      "Module(\n",
      "    body=[\n",
      "        Assign(\n",
      "            targets=[Name(id='one_plus_two', ctx=Store())],\n",
      "            value=BinOp(\n",
      "                left=Num(n=1),\n",
      "                op=Add(),\n",
      "                right=Num(n=2),\n",
      "            ),\n",
      "        ),\n",
      "    ],\n",
      ")\n"
     ]
    }
   ],
   "source": [
    "code = \"one_plus_two = 1+2\"\n",
    "tree = ast.parse(code)\n",
    "astpretty.pprint(tree, show_offsets=False)"
   ]
  },
  {
   "cell_type": "markdown",
   "metadata": {},
   "source": [
    "ну что ж, сойдёт!"
   ]
  },
  {
   "cell_type": "markdown",
   "metadata": {},
   "source": [
    "ctree вообще не работало, хз, почему, ничего не показывало и всё"
   ]
  },
  {
   "cell_type": "markdown",
   "metadata": {},
   "source": [
    "Может быть ещё граф потока управления, но больше вроде бы ничего особо не требуется для человеческого восприятия\n",
    "\n",
    "Ну мб разве что что-то из uml типа flow diagramm или Диаграмма последовательности, но тут хз"
   ]
  }
 ],
 "metadata": {
  "kernelspec": {
   "display_name": "Python 3",
   "language": "python",
   "name": "python3"
  },
  "language_info": {
   "codemirror_mode": {
    "name": "ipython",
    "version": 3
   },
   "file_extension": ".py",
   "mimetype": "text/x-python",
   "name": "python",
   "nbconvert_exporter": "python",
   "pygments_lexer": "ipython3",
   "version": "3.8.5"
  }
 },
 "nbformat": 4,
 "nbformat_minor": 4
}
