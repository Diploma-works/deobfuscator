{
 "cells": [
  {
   "cell_type": "code",
   "execution_count": 1,
   "metadata": {},
   "outputs": [],
   "source": [
    "import sys, getopt"
   ]
  },
  {
   "cell_type": "markdown",
   "metadata": {},
   "source": [
    "# Деобфускатор"
   ]
  },
  {
   "cell_type": "markdown",
   "metadata": {},
   "source": [
    "## Деобфускация байткода python"
   ]
  },
  {
   "cell_type": "markdown",
   "metadata": {},
   "source": [
    "Самым распространённым методом обфускации кода на python является обфускация файла с расширением .py в файл с расширением .pyc при помощи команды:\n",
    "\n",
    "python -m compileall\n",
    "\n",
    "Этот модуль позволяет компилировать все файлы и библиотеки (т. е. все модули) в указанной директории в простой байт-код.\n",
    "\n",
    "На практике это самый распространённый способ обфускации кода на python, но никаких особых алгоритмов обфускации использовано не было, только компиляция в нечитаемый байт-код."
   ]
  },
  {
   "cell_type": "markdown",
   "metadata": {},
   "source": [
    "В качестве примера взята программа для подсчета площади прямоугольного треугольника.\n",
    "Исходного код находится в директории:\n",
    "\n",
    ".\\obfuscated\\examples\\compileall\n",
    "\n",
    "Обфусцируем \n",
    "Результат обфускации будет находиться в директории:\n",
    "\n",
    ".\\obfuscated\\examples\\compileall\\__pycache__"
   ]
  },
  {
   "cell_type": "code",
   "execution_count": 5,
   "metadata": {},
   "outputs": [
    {
     "name": "stdout",
     "output_type": "stream",
     "text": [
      "\u001b[1;31mИсходный код файла:\n",
      "\u001b[0m\n",
      "# программа для подсчета площади прямоугольного треугольника\n",
      "def square_triangle_area(width, height):\n",
      "    return height * width / 2\n",
      "\n",
      "\n",
      "print(\"Эта программа считает площадь прямоугольного треугольника.\")\n",
      "print(\"Введите значение длины: \")\n",
      "\n",
      "w = int(input())\n",
      "\n",
      "print(\"Введите значение высоты: \")\n",
      "h = int(input())\n",
      "\n",
      "print(\"Площадь прямоугольного треугольника = \" + str(square_triangle_area(w, h)))\n",
      "\n",
      "input()\n",
      "\n"
     ]
    }
   ],
   "source": [
    "f = open('./obfuscated/examples/compileall/source.py', 'r', encoding=\"utf-8\")\n",
    "print(\"\\x1b[1;31m\"+\"Исходный код файла:\\n\"+\"\\x1b[0m\")\n",
    "print(f.read())\n",
    "f.close()"
   ]
  },
  {
   "cell_type": "code",
   "execution_count": 10,
   "metadata": {},
   "outputs": [
    {
     "name": "stdout",
     "output_type": "stream",
     "text": [
      "Listing ./obfuscated/examples/compileall ...\r\n",
      "Compiling ./obfuscated/examples/compileall/source.py ...\r\n"
     ]
    }
   ],
   "source": [
    "!python -m compileall ./obfuscated/examples/compileall"
   ]
  },
  {
   "cell_type": "code",
   "execution_count": 12,
   "metadata": {},
   "outputs": [
    {
     "name": "stdout",
     "output_type": "stream",
     "text": [
      "\u001b[1;31mИсходный код файла считанный просто при помощи функции open():\n",
      "\u001b[0m\n",
      "b'\\x03\\xf3\\r\\n\\x96Q\\x94`c\\x00\\x00\\x00\\x00\\x00\\x00\\x00\\x00\\x05\\x00\\x00\\x00@\\x00\\x00\\x00sY\\x00\\x00\\x00d\\x00\\x00\\x84\\x00\\x00Z\\x00\\x00d\\x01\\x00GHd\\x02\\x00GHe\\x01\\x00e\\x02\\x00\\x83\\x00\\x00\\x83\\x01\\x00Z\\x03\\x00d\\x03\\x00GHe\\x01\\x00e\\x02\\x00\\x83\\x00\\x00\\x83\\x01\\x00Z\\x04\\x00d\\x04\\x00e\\x05\\x00e\\x00\\x00e\\x03\\x00e\\x04\\x00\\x83\\x02\\x00\\x83\\x01\\x00\\x17GHe\\x02\\x00\\x83\\x00\\x00\\x01d\\x05\\x00S(\\x06\\x00\\x00\\x00c\\x02\\x00\\x00\\x00\\x02\\x00\\x00\\x00\\x02\\x00\\x00\\x00C\\x00\\x00\\x00s\\x0c\\x00\\x00\\x00|\\x01\\x00|\\x00\\x00\\x14d\\x01\\x00\\x15S(\\x02\\x00\\x00\\x00Ni\\x02\\x00\\x00\\x00(\\x00\\x00\\x00\\x00(\\x02\\x00\\x00\\x00t\\x05\\x00\\x00\\x00widtht\\x06\\x00\\x00\\x00height(\\x00\\x00\\x00\\x00(\\x00\\x00\\x00\\x00s*\\x00\\x00\\x00./obfuscated/examples/compileall/source.pyt\\x14\\x00\\x00\\x00square_triangle_area\\x02\\x00\\x00\\x00s\\x02\\x00\\x00\\x00\\x00\\x01sn\\x00\\x00\\x00\\xd0\\xad\\xd1\\x82\\xd0\\xb0 \\xd0\\xbf\\xd1\\x80\\xd0\\xbe\\xd0\\xb3\\xd1\\x80\\xd0\\xb0\\xd0\\xbc\\xd0\\xbc\\xd0\\xb0 \\xd1\\x81\\xd1\\x87\\xd0\\xb8\\xd1\\x82\\xd0\\xb0\\xd0\\xb5\\xd1\\x82 \\xd0\\xbf\\xd0\\xbb\\xd0\\xbe\\xd1\\x89\\xd0\\xb0\\xd0\\xb4\\xd1\\x8c \\xd0\\xbf\\xd1\\x80\\xd1\\x8f\\xd0\\xbc\\xd0\\xbe\\xd1\\x83\\xd0\\xb3\\xd0\\xbe\\xd0\\xbb\\xd1\\x8c\\xd0\\xbd\\xd0\\xbe\\xd0\\xb3\\xd0\\xbe \\xd1\\x82\\xd1\\x80\\xd0\\xb5\\xd1\\x83\\xd0\\xb3\\xd0\\xbe\\xd0\\xbb\\xd1\\x8c\\xd0\\xbd\\xd0\\xb8\\xd0\\xba\\xd0\\xb0.s,\\x00\\x00\\x00\\xd0\\x92\\xd0\\xb2\\xd0\\xb5\\xd0\\xb4\\xd0\\xb8\\xd1\\x82\\xd0\\xb5 \\xd0\\xb7\\xd0\\xbd\\xd0\\xb0\\xd1\\x87\\xd0\\xb5\\xd0\\xbd\\xd0\\xb8\\xd0\\xb5 \\xd0\\xb4\\xd0\\xbb\\xd0\\xb8\\xd0\\xbd\\xd1\\x8b: s.\\x00\\x00\\x00\\xd0\\x92\\xd0\\xb2\\xd0\\xb5\\xd0\\xb4\\xd0\\xb8\\xd1\\x82\\xd0\\xb5 \\xd0\\xb7\\xd0\\xbd\\xd0\\xb0\\xd1\\x87\\xd0\\xb5\\xd0\\xbd\\xd0\\xb8\\xd0\\xb5 \\xd0\\xb2\\xd1\\x8b\\xd1\\x81\\xd0\\xbe\\xd1\\x82\\xd1\\x8b: sG\\x00\\x00\\x00\\xd0\\x9f\\xd0\\xbb\\xd0\\xbe\\xd1\\x89\\xd0\\xb0\\xd0\\xb4\\xd1\\x8c \\xd0\\xbf\\xd1\\x80\\xd1\\x8f\\xd0\\xbc\\xd0\\xbe\\xd1\\x83\\xd0\\xb3\\xd0\\xbe\\xd0\\xbb\\xd1\\x8c\\xd0\\xbd\\xd0\\xbe\\xd0\\xb3\\xd0\\xbe \\xd1\\x82\\xd1\\x80\\xd0\\xb5\\xd1\\x83\\xd0\\xb3\\xd0\\xbe\\xd0\\xbb\\xd1\\x8c\\xd0\\xbd\\xd0\\xb8\\xd0\\xba\\xd0\\xb0 = N(\\x06\\x00\\x00\\x00R\\x02\\x00\\x00\\x00t\\x03\\x00\\x00\\x00intt\\x05\\x00\\x00\\x00inputt\\x01\\x00\\x00\\x00wt\\x01\\x00\\x00\\x00ht\\x03\\x00\\x00\\x00str(\\x00\\x00\\x00\\x00(\\x00\\x00\\x00\\x00(\\x00\\x00\\x00\\x00s*\\x00\\x00\\x00./obfuscated/examples/compileall/source.pyt\\x08\\x00\\x00\\x00<module>\\x02\\x00\\x00\\x00s\\x0e\\x00\\x00\\x00\\t\\x04\\x05\\x01\\x05\\x02\\x0f\\x02\\x05\\x01\\x0f\\x02\\x18\\x02'\n"
     ]
    }
   ],
   "source": [
    "filename = \"./obfuscated/examples/compileall/source.pyc\"\n",
    "\n",
    "\n",
    "print(\"\\x1b[1;31m\"+\"Исходный код файла считанный просто при помощи функции open():\\n\"+\"\\x1b[0m\")\n",
    "file = open(filename, 'rb')\n",
    "print(file.read())\n",
    "\n",
    "file.close()"
   ]
  },
  {
   "cell_type": "code",
   "execution_count": 13,
   "metadata": {},
   "outputs": [
    {
     "name": "stdout",
     "output_type": "stream",
     "text": [
      "\u001b[1;31mИсходный код файла побайтово в hex:\n",
      "\u001b[0m\n",
      "0x3 0xf3 0xd 0xa 0x96 0x51 0x94 0x60 0x63 0x0 0x0 0x0 0x0 0x0 0x0 0x0 \n",
      "0x0 0x5 0x0 0x0 0x0 0x40 0x0 0x0 0x0 0x73 0x59 0x0 0x0 0x0 0x64 0x0 \n",
      "0x0 0x84 0x0 0x0 0x5a 0x0 0x0 0x64 0x1 0x0 0x47 0x48 0x64 0x2 0x0 0x47 \n",
      "0x48 0x65 0x1 0x0 0x65 0x2 0x0 0x83 0x0 0x0 0x83 0x1 0x0 0x5a 0x3 0x0 \n",
      "0x64 0x3 0x0 0x47 0x48 0x65 0x1 0x0 0x65 0x2 0x0 0x83 0x0 0x0 0x83 0x1 \n",
      "0x0 0x5a 0x4 0x0 0x64 0x4 0x0 0x65 0x5 0x0 0x65 0x0 0x0 0x65 0x3 0x0 \n",
      "0x65 0x4 0x0 0x83 0x2 0x0 0x83 0x1 0x0 0x17 0x47 0x48 0x65 0x2 0x0 0x83 \n",
      "0x0 0x0 0x1 0x64 0x5 0x0 0x53 0x28 0x6 0x0 0x0 0x0 0x63 0x2 0x0 0x0 \n",
      "0x0 0x2 0x0 0x0 0x0 0x2 0x0 0x0 0x0 0x43 0x0 0x0 0x0 0x73 0xc 0x0 \n",
      "0x0 0x0 0x7c 0x1 0x0 0x7c 0x0 0x0 0x14 0x64 0x1 0x0 0x15 0x53 0x28 0x2 \n",
      "0x0 0x0 0x0 0x4e 0x69 0x2 0x0 0x0 0x0 0x28 0x0 0x0 0x0 0x0 0x28 0x2 \n",
      "0x0 0x0 0x0 0x74 0x5 0x0 0x0 0x0 0x77 0x69 0x64 0x74 0x68 0x74 0x6 0x0 \n",
      "0x0 0x0 0x68 0x65 0x69 0x67 0x68 0x74 0x28 0x0 0x0 0x0 0x0 0x28 0x0 0x0 \n",
      "0x0 0x0 0x73 0x2a 0x0 0x0 0x0 0x2e 0x2f 0x6f 0x62 0x66 0x75 0x73 0x63 0x61 \n",
      "0x74 0x65 0x64 0x2f 0x65 0x78 0x61 0x6d 0x70 0x6c 0x65 0x73 0x2f 0x63 0x6f 0x6d \n",
      "0x70 0x69 0x6c 0x65 0x61 0x6c 0x6c 0x2f 0x73 0x6f 0x75 0x72 0x63 0x65 0x2e 0x70 \n",
      "0x79 0x74 0x14 0x0 0x0 0x0 0x73 0x71 0x75 0x61 0x72 0x65 0x5f 0x74 0x72 0x69 \n",
      "0x61 0x6e 0x67 0x6c 0x65 0x5f 0x61 0x72 0x65 0x61 0x2 0x0 0x0 0x0 0x73 0x2 \n",
      "0x0 0x0 0x0 0x0 0x1 0x73 0x6e 0x0 0x0 0x0 0xd0 0xad 0xd1 0x82 0xd0 0xb0 \n",
      "0x20 0xd0 0xbf 0xd1 0x80 0xd0 0xbe 0xd0 0xb3 0xd1 0x80 0xd0 0xb0 0xd0 0xbc 0xd0 \n",
      "0xbc 0xd0 0xb0 0x20 0xd1 0x81 0xd1 0x87 0xd0 0xb8 0xd1 0x82 0xd0 0xb0 0xd0 0xb5 \n",
      "0xd1 0x82 0x20 0xd0 0xbf 0xd0 0xbb 0xd0 0xbe 0xd1 0x89 0xd0 0xb0 0xd0 0xb4 0xd1 \n",
      "0x8c 0x20 0xd0 0xbf 0xd1 0x80 0xd1 0x8f 0xd0 0xbc 0xd0 0xbe 0xd1 0x83 0xd0 0xb3 \n",
      "0xd0 0xbe 0xd0 0xbb 0xd1 0x8c 0xd0 0xbd 0xd0 0xbe 0xd0 0xb3 0xd0 0xbe 0x20 0xd1 \n",
      "0x82 0xd1 0x80 0xd0 0xb5 0xd1 0x83 0xd0 0xb3 0xd0 0xbe 0xd0 0xbb 0xd1 0x8c 0xd0 \n",
      "0xbd 0xd0 0xb8 0xd0 0xba 0xd0 0xb0 0x2e 0x73 0x2c 0x0 0x0 0x0 0xd0 0x92 0xd0 \n",
      "0xb2 0xd0 0xb5 0xd0 0xb4 0xd0 0xb8 0xd1 0x82 0xd0 0xb5 0x20 0xd0 0xb7 0xd0 0xbd \n",
      "0xd0 0xb0 0xd1 0x87 0xd0 0xb5 0xd0 0xbd 0xd0 0xb8 0xd0 0xb5 0x20 0xd0 0xb4 0xd0 \n",
      "0xbb 0xd0 0xb8 0xd0 0xbd 0xd1 0x8b 0x3a 0x20 0x73 0x2e 0x0 0x0 0x0 0xd0 0x92 \n",
      "0xd0 0xb2 0xd0 0xb5 0xd0 0xb4 0xd0 0xb8 0xd1 0x82 0xd0 0xb5 0x20 0xd0 0xb7 0xd0 \n",
      "0xbd 0xd0 0xb0 0xd1 0x87 0xd0 0xb5 0xd0 0xbd 0xd0 0xb8 0xd0 0xb5 0x20 0xd0 0xb2 \n",
      "0xd1 0x8b 0xd1 0x81 0xd0 0xbe 0xd1 0x82 0xd1 0x8b 0x3a 0x20 0x73 0x47 0x0 0x0 \n",
      "0x0 0xd0 0x9f 0xd0 0xbb 0xd0 0xbe 0xd1 0x89 0xd0 0xb0 0xd0 0xb4 0xd1 0x8c 0x20 \n",
      "0xd0 0xbf 0xd1 0x80 0xd1 0x8f 0xd0 0xbc 0xd0 0xbe 0xd1 0x83 0xd0 0xb3 0xd0 0xbe \n",
      "0xd0 0xbb 0xd1 0x8c 0xd0 0xbd 0xd0 0xbe 0xd0 0xb3 0xd0 0xbe 0x20 0xd1 0x82 0xd1 \n",
      "0x80 0xd0 0xb5 0xd1 0x83 0xd0 0xb3 0xd0 0xbe 0xd0 0xbb 0xd1 0x8c 0xd0 0xbd 0xd0 \n",
      "0xb8 0xd0 0xba 0xd0 0xb0 0x20 0x3d 0x20 0x4e 0x28 0x6 0x0 0x0 0x0 0x52 0x2 \n",
      "0x0 0x0 0x0 0x74 0x3 0x0 0x0 0x0 0x69 0x6e 0x74 0x74 0x5 0x0 0x0 0x0 \n",
      "0x69 0x6e 0x70 0x75 0x74 0x74 0x1 0x0 0x0 0x0 0x77 0x74 0x1 0x0 0x0 0x0 \n",
      "0x68 0x74 0x3 0x0 0x0 0x0 0x73 0x74 0x72 0x28 0x0 0x0 0x0 0x0 0x28 0x0 \n",
      "0x0 0x0 0x0 0x28 0x0 0x0 0x0 0x0 0x73 0x2a 0x0 0x0 0x0 0x2e 0x2f 0x6f \n",
      "0x62 0x66 0x75 0x73 0x63 0x61 0x74 0x65 0x64 0x2f 0x65 0x78 0x61 0x6d 0x70 0x6c \n",
      "0x65 0x73 0x2f 0x63 0x6f 0x6d 0x70 0x69 0x6c 0x65 0x61 0x6c 0x6c 0x2f 0x73 0x6f \n",
      "0x75 0x72 0x63 0x65 0x2e 0x70 0x79 0x74 0x8 0x0 0x0 0x0 0x3c 0x6d 0x6f 0x64 \n",
      "0x75 0x6c 0x65 0x3e 0x2 0x0 0x0 0x0 0x73 0xe 0x0 0x0 0x0 0x9 0x4 0x5 \n",
      "0x1 0x5 0x2 0xf 0x2 0x5 0x1 0xf 0x2 0x18 0x2 \n"
     ]
    }
   ],
   "source": [
    "print(\"\\x1b[1;31m\"+\"Исходный код файла побайтово в hex:\\n\"+\"\\x1b[0m\")\n",
    "\n",
    "filename = \"./obfuscated/examples/compileall/source.pyc\"\n",
    "\n",
    "file = open(filename, 'rb')\n",
    "\n",
    "blocksize = 1024\n",
    "\n",
    "opts,args = getopt.getopt(sys.argv[1:],'f:b:')\n",
    "for o,a in opts:\n",
    "    if o == '-f':\n",
    "        filename = a\n",
    "    if o == '-b':\n",
    "        blocksize = a\n",
    "\n",
    "offset = 0\n",
    "with file as f:\n",
    "    block = f.read(blocksize)\n",
    "    str = \"\"\n",
    "    i = 0\n",
    "    for ch in block:\n",
    "        str += hex(ch)+\" \"\n",
    "        i += 1\n",
    "        if i == 16:\n",
    "            str += \"\\n\"\n",
    "            i = 0\n",
    "    print(str)\n",
    "\n",
    "file.close()"
   ]
  },
  {
   "cell_type": "markdown",
   "metadata": {},
   "source": [
    "Как можно заметить, исходный код нечеловекочитаем.\n",
    "\n",
    "Теперь его необходимо расшифровать.\n",
    "Результат работы деобфускации будет доступен по пути:\n",
    "\n",
    "./obfuscated/examples/compileall/deobfuscated"
   ]
  },
  {
   "cell_type": "markdown",
   "metadata": {},
   "source": [
    "Для декомпиляции используется программа uncompyle6"
   ]
  },
  {
   "cell_type": "code",
   "execution_count": 14,
   "metadata": {},
   "outputs": [
    {
     "name": "stdout",
     "output_type": "stream",
     "text": [
      "# uncompyle6 version 3.7.4\n",
      "# Python bytecode 2.7 (62211)\n",
      "# Decompiled from: Python 3.6.9 (default, Apr 18 2020, 01:56:04) \n",
      "# [GCC 8.4.0]\n",
      "# Embedded file name: ./obfuscated/examples/compileall/source.py\n",
      "# Compiled at: 2021-05-06 23:29:10\n",
      "\n",
      "\n",
      "def square_triangle_area(width, height):\n",
      "    return height * width / 2\n",
      "\n",
      "\n",
      "print 'Эта программа считает площадь прямоугольного треугольника.'\n",
      "print 'Введите значение длины: '\n",
      "w = int(input())\n",
      "print 'Введите значение высоты: '\n",
      "h = int(input())\n",
      "print 'Площадь прямоугольного треугольника = ' + str(square_triangle_area(w, h))\n",
      "input()\n",
      "# okay decompiling ./obfuscated/examples/compileall/source.pyc\n"
     ]
    }
   ],
   "source": [
    "!uncompyle6 ./obfuscated/examples/compileall/source.pyc"
   ]
  },
  {
   "cell_type": "markdown",
   "metadata": {},
   "source": [
    "Итог: программа, зашифрованная первым рассмотренным методом обфускации компиляцией, была успешно деобфусцирована."
   ]
  },
  {
   "cell_type": "markdown",
   "metadata": {},
   "source": [
    "## Лексическая обфускация"
   ]
  },
  {
   "cell_type": "markdown",
   "metadata": {},
   "source": [
    "Далее следует вид обфускации, при котором изменяются названия методов и переменных так, что код становится нечеловекочитаемым, а также удаляются комментарии из кода. Удалённые комментарии восстановить конечно же невозможно, а переназвать переменные более менее осмысленно хотя бы основываясь на их типе или просто заменить сложную непонятную длинную последовательность символов на более удобную для чтения возможно."
   ]
  },
  {
   "cell_type": "code",
   "execution_count": null,
   "metadata": {},
   "outputs": [],
   "source": []
  },
  {
   "cell_type": "code",
   "execution_count": null,
   "metadata": {},
   "outputs": [],
   "source": []
  },
  {
   "cell_type": "markdown",
   "metadata": {},
   "source": [
    "## Преобразование данных"
   ]
  },
  {
   "cell_type": "markdown",
   "metadata": {},
   "source": []
  },
  {
   "cell_type": "code",
   "execution_count": null,
   "metadata": {},
   "outputs": [],
   "source": []
  },
  {
   "cell_type": "code",
   "execution_count": null,
   "metadata": {},
   "outputs": [],
   "source": []
  },
  {
   "cell_type": "markdown",
   "metadata": {},
   "source": [
    "## Абстрактное синтаксическое дерево"
   ]
  },
  {
   "cell_type": "markdown",
   "metadata": {},
   "source": [
    "Используем паттерн \"Visitor\". Программный код представляется в виде ассоциативного массива."
   ]
  },
  {
   "cell_type": "code",
   "execution_count": 22,
   "metadata": {},
   "outputs": [],
   "source": [
    "from ast import NodeTransformer, BinOp, Num, Add\n",
    "\n",
    "class ObfuscatorAST(NodeTransformer):\n",
    "    def __init__(self):\n",
    "        ast.NodeTransformer.__init__(self)\n",
    "        def visit_Num(self, node):\n",
    "            value = node.n\n",
    "            value_left = value_right = value / 2\n",
    "            if value % 2:\n",
    "                value_right += 1\n",
    "        return BinOp(left=BinOp(Num(value_left)), op=Add(), right=Num(value_right))\n",
    "    "
   ]
  },
  {
   "cell_type": "code",
   "execution_count": null,
   "metadata": {},
   "outputs": [],
   "source": []
  },
  {
   "cell_type": "code",
   "execution_count": null,
   "metadata": {},
   "outputs": [],
   "source": []
  },
  {
   "cell_type": "code",
   "execution_count": null,
   "metadata": {},
   "outputs": [],
   "source": []
  },
  {
   "cell_type": "markdown",
   "metadata": {},
   "source": [
    "## Преобразование управления"
   ]
  },
  {
   "cell_type": "markdown",
   "metadata": {},
   "source": [
    "Создание конечного автомата с непроницаемыми предикатами. Сложно, а это точно мне нужно вообще?"
   ]
  },
  {
   "cell_type": "code",
   "execution_count": null,
   "metadata": {},
   "outputs": [],
   "source": []
  },
  {
   "cell_type": "code",
   "execution_count": null,
   "metadata": {},
   "outputs": [],
   "source": []
  },
  {
   "cell_type": "code",
   "execution_count": null,
   "metadata": {},
   "outputs": [],
   "source": []
  },
  {
   "cell_type": "markdown",
   "metadata": {},
   "source": [
    "# Визуализация"
   ]
  },
  {
   "cell_type": "code",
   "execution_count": null,
   "metadata": {},
   "outputs": [],
   "source": []
  },
  {
   "cell_type": "code",
   "execution_count": null,
   "metadata": {},
   "outputs": [],
   "source": []
  },
  {
   "cell_type": "code",
   "execution_count": null,
   "metadata": {},
   "outputs": [],
   "source": []
  }
 ],
 "metadata": {
  "kernelspec": {
   "display_name": "Python 3",
   "language": "python",
   "name": "python3"
  },
  "language_info": {
   "codemirror_mode": {
    "name": "ipython",
    "version": 3
   },
   "file_extension": ".py",
   "mimetype": "text/x-python",
   "name": "python",
   "nbconvert_exporter": "python",
   "pygments_lexer": "ipython3",
   "version": "3.6.9"
  }
 },
 "nbformat": 4,
 "nbformat_minor": 4
}
