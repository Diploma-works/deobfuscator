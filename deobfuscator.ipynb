{
 "cells": [
  {
   "cell_type": "code",
   "execution_count": 1,
   "metadata": {},
   "outputs": [],
   "source": [
    "import sys, getopt"
   ]
  },
  {
   "cell_type": "code",
   "execution_count": 2,
   "metadata": {},
   "outputs": [],
   "source": [
    "import codegen\n",
    "import ast\n",
    "import showast\n",
    "import ctree\n",
    "import random\n",
    "import astpretty\n",
    "import re\n",
    "import sys, token, tokenize\n",
    "\n",
    "# were installed\n",
    "\n",
    "# pip3 install graphviz\n",
    "# pip3 install codegen\n",
    "# sudo apt-get install graphviz\n",
    "# pip3 install ctree\n",
    "# pip3 install showast\n",
    "# pip3 install astpretty\n",
    "# pip install uncompyle6\n",
    "# sudo apt install pylint\n",
    "# pip install staticfg\n",
    "# pip install Random-Word"
   ]
  },
  {
   "cell_type": "markdown",
   "metadata": {},
   "source": [
    "# Деобфускатор"
   ]
  },
  {
   "cell_type": "markdown",
   "metadata": {},
   "source": [
    "## Деобфускация байткода python"
   ]
  },
  {
   "cell_type": "markdown",
   "metadata": {},
   "source": [
    "Самым распространённым методом обфускации кода на python является обфускация файла с расширением .py в файл с расширением .pyc при помощи команды:\n",
    "\n",
    "python -m compileall\n",
    "\n",
    "Этот модуль позволяет компилировать все файлы и библиотеки (т. е. все модули) в указанной директории в простой байт-код.\n",
    "\n",
    "На практике это самый распространённый способ обфускации кода на python, но никаких особых алгоритмов обфускации использовано не было, только компиляция в нечитаемый байт-код."
   ]
  },
  {
   "cell_type": "markdown",
   "metadata": {},
   "source": [
    "В качестве примера взята программа для подсчета площади прямоугольного треугольника.\n",
    "Исходного код находится в директории:\n",
    "\n",
    ".\\obfuscated\\examples\\compileall\n",
    "\n",
    "Обфусцируем \n",
    "Результат обфускации будет находиться в директории:\n",
    "\n",
    ".\\obfuscated\\examples\\compileall\\__pycache__"
   ]
  },
  {
   "cell_type": "code",
   "execution_count": 3,
   "metadata": {},
   "outputs": [
    {
     "name": "stdout",
     "output_type": "stream",
     "text": [
      "\u001b[1;31mИсходный код файла:\n",
      "\u001b[0m\n",
      "\n"
     ]
    }
   ],
   "source": [
    "path_compileall = './obfuscated/examples/compileall/source.py'\n",
    "f = open(path_compileall, 'r', encoding=\"utf-8\")\n",
    "print(\"\\x1b[1;31m\"+\"Исходный код файла:\\n\"+\"\\x1b[0m\")\n",
    "print(f.read())\n",
    "f.close()"
   ]
  },
  {
   "cell_type": "code",
   "execution_count": 4,
   "metadata": {},
   "outputs": [
    {
     "name": "stdout",
     "output_type": "stream",
     "text": [
      "Listing './obfuscated/examples/compileall'...\r\n",
      "Compiling './obfuscated/examples/compileall/source.py'...\r\n"
     ]
    }
   ],
   "source": [
    "!python3 -m compileall ./obfuscated/examples/compileall"
   ]
  },
  {
   "cell_type": "code",
   "execution_count": 5,
   "metadata": {},
   "outputs": [
    {
     "name": "stdout",
     "output_type": "stream",
     "text": [
      "\u001b[1;31mИсходный код файла считанный просто при помощи функции open():\n",
      "\u001b[0m\n",
      "b'\\x03\\xf3\\r\\n\\x96Q\\x94`c\\x00\\x00\\x00\\x00\\x00\\x00\\x00\\x00\\x05\\x00\\x00\\x00@\\x00\\x00\\x00sY\\x00\\x00\\x00d\\x00\\x00\\x84\\x00\\x00Z\\x00\\x00d\\x01\\x00GHd\\x02\\x00GHe\\x01\\x00e\\x02\\x00\\x83\\x00\\x00\\x83\\x01\\x00Z\\x03\\x00d\\x03\\x00GHe\\x01\\x00e\\x02\\x00\\x83\\x00\\x00\\x83\\x01\\x00Z\\x04\\x00d\\x04\\x00e\\x05\\x00e\\x00\\x00e\\x03\\x00e\\x04\\x00\\x83\\x02\\x00\\x83\\x01\\x00\\x17GHe\\x02\\x00\\x83\\x00\\x00\\x01d\\x05\\x00S(\\x06\\x00\\x00\\x00c\\x02\\x00\\x00\\x00\\x02\\x00\\x00\\x00\\x02\\x00\\x00\\x00C\\x00\\x00\\x00s\\x0c\\x00\\x00\\x00|\\x01\\x00|\\x00\\x00\\x14d\\x01\\x00\\x15S(\\x02\\x00\\x00\\x00Ni\\x02\\x00\\x00\\x00(\\x00\\x00\\x00\\x00(\\x02\\x00\\x00\\x00t\\x05\\x00\\x00\\x00widtht\\x06\\x00\\x00\\x00height(\\x00\\x00\\x00\\x00(\\x00\\x00\\x00\\x00s*\\x00\\x00\\x00./obfuscated/examples/compileall/source.pyt\\x14\\x00\\x00\\x00square_triangle_area\\x02\\x00\\x00\\x00s\\x02\\x00\\x00\\x00\\x00\\x01sn\\x00\\x00\\x00\\xd0\\xad\\xd1\\x82\\xd0\\xb0 \\xd0\\xbf\\xd1\\x80\\xd0\\xbe\\xd0\\xb3\\xd1\\x80\\xd0\\xb0\\xd0\\xbc\\xd0\\xbc\\xd0\\xb0 \\xd1\\x81\\xd1\\x87\\xd0\\xb8\\xd1\\x82\\xd0\\xb0\\xd0\\xb5\\xd1\\x82 \\xd0\\xbf\\xd0\\xbb\\xd0\\xbe\\xd1\\x89\\xd0\\xb0\\xd0\\xb4\\xd1\\x8c \\xd0\\xbf\\xd1\\x80\\xd1\\x8f\\xd0\\xbc\\xd0\\xbe\\xd1\\x83\\xd0\\xb3\\xd0\\xbe\\xd0\\xbb\\xd1\\x8c\\xd0\\xbd\\xd0\\xbe\\xd0\\xb3\\xd0\\xbe \\xd1\\x82\\xd1\\x80\\xd0\\xb5\\xd1\\x83\\xd0\\xb3\\xd0\\xbe\\xd0\\xbb\\xd1\\x8c\\xd0\\xbd\\xd0\\xb8\\xd0\\xba\\xd0\\xb0.s,\\x00\\x00\\x00\\xd0\\x92\\xd0\\xb2\\xd0\\xb5\\xd0\\xb4\\xd0\\xb8\\xd1\\x82\\xd0\\xb5 \\xd0\\xb7\\xd0\\xbd\\xd0\\xb0\\xd1\\x87\\xd0\\xb5\\xd0\\xbd\\xd0\\xb8\\xd0\\xb5 \\xd0\\xb4\\xd0\\xbb\\xd0\\xb8\\xd0\\xbd\\xd1\\x8b: s.\\x00\\x00\\x00\\xd0\\x92\\xd0\\xb2\\xd0\\xb5\\xd0\\xb4\\xd0\\xb8\\xd1\\x82\\xd0\\xb5 \\xd0\\xb7\\xd0\\xbd\\xd0\\xb0\\xd1\\x87\\xd0\\xb5\\xd0\\xbd\\xd0\\xb8\\xd0\\xb5 \\xd0\\xb2\\xd1\\x8b\\xd1\\x81\\xd0\\xbe\\xd1\\x82\\xd1\\x8b: sG\\x00\\x00\\x00\\xd0\\x9f\\xd0\\xbb\\xd0\\xbe\\xd1\\x89\\xd0\\xb0\\xd0\\xb4\\xd1\\x8c \\xd0\\xbf\\xd1\\x80\\xd1\\x8f\\xd0\\xbc\\xd0\\xbe\\xd1\\x83\\xd0\\xb3\\xd0\\xbe\\xd0\\xbb\\xd1\\x8c\\xd0\\xbd\\xd0\\xbe\\xd0\\xb3\\xd0\\xbe \\xd1\\x82\\xd1\\x80\\xd0\\xb5\\xd1\\x83\\xd0\\xb3\\xd0\\xbe\\xd0\\xbb\\xd1\\x8c\\xd0\\xbd\\xd0\\xb8\\xd0\\xba\\xd0\\xb0 = N(\\x06\\x00\\x00\\x00R\\x02\\x00\\x00\\x00t\\x03\\x00\\x00\\x00intt\\x05\\x00\\x00\\x00inputt\\x01\\x00\\x00\\x00wt\\x01\\x00\\x00\\x00ht\\x03\\x00\\x00\\x00str(\\x00\\x00\\x00\\x00(\\x00\\x00\\x00\\x00(\\x00\\x00\\x00\\x00s*\\x00\\x00\\x00./obfuscated/examples/compileall/source.pyt\\x08\\x00\\x00\\x00<module>\\x02\\x00\\x00\\x00s\\x0e\\x00\\x00\\x00\\t\\x04\\x05\\x01\\x05\\x02\\x0f\\x02\\x05\\x01\\x0f\\x02\\x18\\x02'\n"
     ]
    }
   ],
   "source": [
    "path_compileall_pyc = \"./obfuscated/examples/compileall/source.pyc\"\n",
    "print(\"\\x1b[1;31m\"+\"Исходный код файла считанный просто при помощи функции open():\\n\"+\"\\x1b[0m\")\n",
    "file = open(path_compileall_pyc, 'rb')\n",
    "print(file.read())\n",
    "file.close()"
   ]
  },
  {
   "cell_type": "code",
   "execution_count": 6,
   "metadata": {
    "scrolled": true
   },
   "outputs": [
    {
     "name": "stdout",
     "output_type": "stream",
     "text": [
      "\u001b[1;31mИсходный код файла побайтово в hex:\n",
      "\u001b[0m\n",
      "0x3 0xf3 0xd 0xa 0x96 0x51 0x94 0x60 0x63 0x0 0x0 0x0 0x0 0x0 0x0 0x0 0x0 0x5 0x0 0x0 0x0 0x40 0x0 0x0 0x0 0x73 0x59 0x0 0x0 0x0 0x64 0x0 \n",
      "0x0 0x84 0x0 0x0 0x5a 0x0 0x0 0x64 0x1 0x0 0x47 0x48 0x64 0x2 0x0 0x47 0x48 0x65 0x1 0x0 0x65 0x2 0x0 0x83 0x0 0x0 0x83 0x1 0x0 0x5a 0x3 0x0 \n",
      "0x64 0x3 0x0 0x47 0x48 0x65 0x1 0x0 0x65 0x2 0x0 0x83 0x0 0x0 0x83 0x1 0x0 0x5a 0x4 0x0 0x64 0x4 0x0 0x65 0x5 0x0 0x65 0x0 0x0 0x65 0x3 0x0 \n",
      "0x65 0x4 0x0 0x83 0x2 0x0 0x83 0x1 0x0 0x17 0x47 0x48 0x65 0x2 0x0 0x83 0x0 0x0 0x1 0x64 0x5 0x0 0x53 0x28 0x6 0x0 0x0 0x0 0x63 0x2 0x0 0x0 \n",
      "0x0 0x2 0x0 0x0 0x0 0x2 0x0 0x0 0x0 0x43 0x0 0x0 0x0 0x73 0xc 0x0 0x0 0x0 0x7c 0x1 0x0 0x7c 0x0 0x0 0x14 0x64 0x1 0x0 0x15 0x53 0x28 0x2 \n",
      "0x0 0x0 0x0 0x4e 0x69 0x2 0x0 0x0 0x0 0x28 0x0 0x0 0x0 0x0 0x28 0x2 0x0 0x0 0x0 0x74 0x5 0x0 0x0 0x0 0x77 0x69 0x64 0x74 0x68 0x74 0x6 0x0 \n",
      "0x0 0x0 0x68 0x65 0x69 0x67 0x68 0x74 0x28 0x0 0x0 0x0 0x0 0x28 0x0 0x0 0x0 0x0 0x73 0x2a 0x0 0x0 0x0 0x2e 0x2f 0x6f 0x62 0x66 0x75 0x73 0x63 0x61 \n",
      "0x74 0x65 0x64 0x2f 0x65 0x78 0x61 0x6d 0x70 0x6c 0x65 0x73 0x2f 0x63 0x6f 0x6d 0x70 0x69 0x6c 0x65 0x61 0x6c 0x6c 0x2f 0x73 0x6f 0x75 0x72 0x63 0x65 0x2e 0x70 \n",
      "0x79 0x74 0x14 0x0 0x0 0x0 0x73 0x71 0x75 0x61 0x72 0x65 0x5f 0x74 0x72 0x69 0x61 0x6e 0x67 0x6c 0x65 0x5f 0x61 0x72 0x65 0x61 0x2 0x0 0x0 0x0 0x73 0x2 \n",
      "0x0 0x0 0x0 0x0 0x1 0x73 0x6e 0x0 0x0 0x0 0xd0 0xad 0xd1 0x82 0xd0 0xb0 0x20 0xd0 0xbf 0xd1 0x80 0xd0 0xbe 0xd0 0xb3 0xd1 0x80 0xd0 0xb0 0xd0 0xbc 0xd0 \n",
      "0xbc 0xd0 0xb0 0x20 0xd1 0x81 0xd1 0x87 0xd0 0xb8 0xd1 0x82 0xd0 0xb0 0xd0 0xb5 0xd1 0x82 0x20 0xd0 0xbf 0xd0 0xbb 0xd0 0xbe 0xd1 0x89 0xd0 0xb0 0xd0 0xb4 0xd1 \n",
      "0x8c 0x20 0xd0 0xbf 0xd1 0x80 0xd1 0x8f 0xd0 0xbc 0xd0 0xbe 0xd1 0x83 0xd0 0xb3 0xd0 0xbe 0xd0 0xbb 0xd1 0x8c 0xd0 0xbd 0xd0 0xbe 0xd0 0xb3 0xd0 0xbe 0x20 0xd1 \n",
      "0x82 0xd1 0x80 0xd0 0xb5 0xd1 0x83 0xd0 0xb3 0xd0 0xbe 0xd0 0xbb 0xd1 0x8c 0xd0 0xbd 0xd0 0xb8 0xd0 0xba 0xd0 0xb0 0x2e 0x73 0x2c 0x0 0x0 0x0 0xd0 0x92 0xd0 \n",
      "0xb2 0xd0 0xb5 0xd0 0xb4 0xd0 0xb8 0xd1 0x82 0xd0 0xb5 0x20 0xd0 0xb7 0xd0 0xbd 0xd0 0xb0 0xd1 0x87 0xd0 0xb5 0xd0 0xbd 0xd0 0xb8 0xd0 0xb5 0x20 0xd0 0xb4 0xd0 \n",
      "0xbb 0xd0 0xb8 0xd0 0xbd 0xd1 0x8b 0x3a 0x20 0x73 0x2e 0x0 0x0 0x0 0xd0 0x92 0xd0 0xb2 0xd0 0xb5 0xd0 0xb4 0xd0 0xb8 0xd1 0x82 0xd0 0xb5 0x20 0xd0 0xb7 0xd0 \n",
      "0xbd 0xd0 0xb0 0xd1 0x87 0xd0 0xb5 0xd0 0xbd 0xd0 0xb8 0xd0 0xb5 0x20 0xd0 0xb2 0xd1 0x8b 0xd1 0x81 0xd0 0xbe 0xd1 0x82 0xd1 0x8b 0x3a 0x20 0x73 0x47 0x0 0x0 \n",
      "0x0 0xd0 0x9f 0xd0 0xbb 0xd0 0xbe 0xd1 0x89 0xd0 0xb0 0xd0 0xb4 0xd1 0x8c 0x20 0xd0 0xbf 0xd1 0x80 0xd1 0x8f 0xd0 0xbc 0xd0 0xbe 0xd1 0x83 0xd0 0xb3 0xd0 0xbe \n",
      "0xd0 0xbb 0xd1 0x8c 0xd0 0xbd 0xd0 0xbe 0xd0 0xb3 0xd0 0xbe 0x20 0xd1 0x82 0xd1 0x80 0xd0 0xb5 0xd1 0x83 0xd0 0xb3 0xd0 0xbe 0xd0 0xbb 0xd1 0x8c 0xd0 0xbd 0xd0 \n",
      "0xb8 0xd0 0xba 0xd0 0xb0 0x20 0x3d 0x20 0x4e 0x28 0x6 0x0 0x0 0x0 0x52 0x2 0x0 0x0 0x0 0x74 0x3 0x0 0x0 0x0 0x69 0x6e 0x74 0x74 0x5 0x0 0x0 0x0 \n",
      "0x69 0x6e 0x70 0x75 0x74 0x74 0x1 0x0 0x0 0x0 0x77 0x74 0x1 0x0 0x0 0x0 0x68 0x74 0x3 0x0 0x0 0x0 0x73 0x74 0x72 0x28 0x0 0x0 0x0 0x0 0x28 0x0 \n",
      "0x0 0x0 0x0 0x28 0x0 0x0 0x0 0x0 0x73 0x2a 0x0 0x0 0x0 0x2e 0x2f 0x6f 0x62 0x66 0x75 0x73 0x63 0x61 0x74 0x65 0x64 0x2f 0x65 0x78 0x61 0x6d 0x70 0x6c \n",
      "0x65 0x73 0x2f 0x63 0x6f 0x6d 0x70 0x69 0x6c 0x65 0x61 0x6c 0x6c 0x2f 0x73 0x6f 0x75 0x72 0x63 0x65 0x2e 0x70 0x79 0x74 0x8 0x0 0x0 0x0 0x3c 0x6d 0x6f 0x64 \n",
      "0x75 0x6c 0x65 0x3e 0x2 0x0 0x0 0x0 0x73 0xe 0x0 0x0 0x0 0x9 0x4 0x5 0x1 0x5 0x2 0xf 0x2 0x5 0x1 0xf 0x2 0x18 0x2 \n"
     ]
    }
   ],
   "source": [
    "print(\"\\x1b[1;31m\"+\"Исходный код файла побайтово в hex:\\n\"+\"\\x1b[0m\")\n",
    "path_compileall_pyc = \"./obfuscated/examples/compileall/source.pyc\"\n",
    "file = open(path_compileall_pyc, 'rb')\n",
    "blocksize = 1024\n",
    "opts,args = getopt.getopt(sys.argv[1:],'f:b:')\n",
    "\n",
    "for o,a in opts:\n",
    "    if o == '-f':\n",
    "        filename = a\n",
    "    if o == '-b':\n",
    "        blocksize = a\n",
    "\n",
    "offset = 0\n",
    "with file as f:\n",
    "    block = f.read(blocksize)\n",
    "    str = \"\"\n",
    "    i = 0\n",
    "    for ch in block:\n",
    "        str += hex(ch)+\" \"\n",
    "        i += 1\n",
    "        if i == 32:\n",
    "            str += \"\\n\"\n",
    "            i = 0\n",
    "    print(str)\n",
    "\n",
    "file.close()"
   ]
  },
  {
   "cell_type": "markdown",
   "metadata": {},
   "source": [
    "Как можно заметить, исходный код нечеловекочитаем.\n",
    "\n",
    "Теперь его необходимо расшифровать.\n",
    "Результат работы деобфускации будет доступен по пути:\n",
    "\n",
    "./obfuscated/examples/compileall/deobfuscated"
   ]
  },
  {
   "cell_type": "markdown",
   "metadata": {},
   "source": [
    "Для декомпиляции используется программа uncompyle6"
   ]
  },
  {
   "cell_type": "code",
   "execution_count": 7,
   "metadata": {},
   "outputs": [
    {
     "name": "stdout",
     "output_type": "stream",
     "text": [
      "# uncompyle6 version 3.7.4\n",
      "# Python bytecode 2.7 (62211)\n",
      "# Decompiled from: Python 3.8.5 (default, Jan 27 2021, 15:41:15) \n",
      "# [GCC 9.3.0]\n",
      "# Embedded file name: ./obfuscated/examples/compileall/source.py\n",
      "# Compiled at: 2021-05-06 23:29:10\n",
      "\n",
      "\n",
      "def square_triangle_area(width, height):\n",
      "    return height * width / 2\n",
      "\n",
      "\n",
      "print 'Эта программа считает площадь прямоугольного треугольника.'\n",
      "print 'Введите значение длины: '\n",
      "w = int(input())\n",
      "print 'Введите значение высоты: '\n",
      "h = int(input())\n",
      "print 'Площадь прямоугольного треугольника = ' + str(square_triangle_area(w, h))\n",
      "input()\n",
      "# okay decompiling ./obfuscated/examples/compileall/source.pyc\n"
     ]
    }
   ],
   "source": [
    "!uncompyle6 ./obfuscated/examples/compileall/source.pyc"
   ]
  },
  {
   "cell_type": "markdown",
   "metadata": {},
   "source": [
    "Итог: программа, зашифрованная первым рассмотренным методом обфускации компиляцией, была успешно деобфусцирована."
   ]
  },
  {
   "cell_type": "markdown",
   "metadata": {},
   "source": [
    "## Абстрактное Синтаксическое Дерево"
   ]
  },
  {
   "cell_type": "markdown",
   "metadata": {},
   "source": [
    "Используем паттерн \"Visitor\". Программный код представляется в виде ассоциативного массива.\n",
    "\n",
    "Благодаря системному модулю ast нет необходимости подключать стороннюю реализацию.\n",
    "Достаточно создать класс, наследуемый от\n",
    "класса NodeTransformer и реализовать в нем\n",
    "соответствующие методы."
   ]
  },
  {
   "cell_type": "markdown",
   "metadata": {},
   "source": [
    "Был подключен дополнительный модуль astpretty для вывода АСД. Пример работы модуля в самом низу."
   ]
  },
  {
   "cell_type": "code",
   "execution_count": 8,
   "metadata": {},
   "outputs": [
    {
     "name": "stdout",
     "output_type": "stream",
     "text": [
      "Module(body=[], type_ignores=[])\n",
      "Module(body=[], type_ignores=[])\n"
     ]
    }
   ],
   "source": [
    "path_ast = './obfuscated/examples/compileall/source.py'\n",
    "f = open(path_ast, 'r', encoding=\"utf-8\")\n",
    "my_tree = ast.parse(f.read())\n",
    "print(ast.dump(my_tree))\n",
    "astpretty.pprint(my_tree, show_offsets=False)\n",
    "f.close()"
   ]
  },
  {
   "cell_type": "markdown",
   "metadata": {},
   "source": [
    "По идее в общем случае это должно выглядеть и работать вот так, но codegen.to_source так как надо сработает только с python 3.9, а у меня 3.8 из-за showast вроде бы или из-за чего-то ещё в jupyter notebook, поэтому в итоге я перееду в пайчарм и под 3.9 буду делать деобфускацию, а тут просто красивое отображение + графики.\n",
    "\n",
    "code = open(path, 'rb').read()\n",
    "\n",
    "ast = ast.parse(code)\n",
    "\n",
    "obf = Obfuscator()\n",
    "\n",
    "ast2 = obf.visit(ast)\n",
    "\n",
    "result = codegen.to_source(ast2)\n",
    "\n",
    "open(path, 'w').write(result)"
   ]
  },
  {
   "cell_type": "markdown",
   "metadata": {},
   "source": [
    "Детализация методов, использующих абстрактное синтаксическое дерево находится в блокноте ast.ipynb"
   ]
  },
  {
   "cell_type": "markdown",
   "metadata": {},
   "source": [
    "# Удаление комментариев и dostring"
   ]
  },
  {
   "cell_type": "code",
   "execution_count": 9,
   "metadata": {},
   "outputs": [],
   "source": [
    "path = './obfuscated/examples/comment/'\n",
    "filename = 'comment.py'\n",
    "new_filename = 'without_comment.py'\n",
    "\n",
    "def do_file(fname, newfname):\n",
    "    \"\"\" Run on just one file.\n",
    "    \"\"\"\n",
    "    source = open(fname)\n",
    "    mod = open(newfname, \"w\")\n",
    "\n",
    "    prev_toktype = token.INDENT\n",
    "    first_line = None\n",
    "    last_lineno = -1\n",
    "    last_col = 0\n",
    "\n",
    "    tokgen = tokenize.generate_tokens(source.readline)\n",
    "    for toktype, ttext, (slineno, scol), (elineno, ecol), ltext in tokgen:\n",
    "        if 0:   # Change to if 1 to see the tokens fly by.\n",
    "            print(\"%10s %-14s %-20r %r\" % (\n",
    "                tokenize.tok_name.get(toktype, toktype),\n",
    "                \"%d.%d-%d.%d\" % (slineno, scol, elineno, ecol),\n",
    "                ttext, ltext\n",
    "                ))\n",
    "        if slineno > last_lineno:\n",
    "            last_col = 0\n",
    "        if scol > last_col:\n",
    "            mod.write(\" \" * (scol - last_col))\n",
    "        if toktype == token.STRING and prev_toktype == token.INDENT:\n",
    "            pass\n",
    "            # Docstring\n",
    "            # mod.write(\"#--\")\n",
    "        elif toktype == tokenize.COMMENT:\n",
    "            pass\n",
    "            # Comment\n",
    "            # mod.write(\"##\\n\")\n",
    "        else:\n",
    "            mod.write(ttext)\n",
    "        prev_toktype = toktype\n",
    "        last_col = ecol\n",
    "        last_lineno = elineno\n",
    "\n",
    "do_file(path + filename, path + new_filename)"
   ]
  },
  {
   "cell_type": "markdown",
   "metadata": {},
   "source": [
    "# Визуализация"
   ]
  },
  {
   "cell_type": "markdown",
   "metadata": {},
   "source": [
    "Вспомогательная визуализация АСД для понимания программы человеком"
   ]
  },
  {
   "cell_type": "markdown",
   "metadata": {},
   "source": [
    "попытки номер 1 отсюда\n",
    "https://github.com/hchasestevens/show_ast/blob/master/Example.ipynb"
   ]
  },
  {
   "cell_type": "code",
   "execution_count": 10,
   "metadata": {},
   "outputs": [
    {
     "data": {
      "image/svg+xml": [
       "<svg xmlns=\"http://www.w3.org/2000/svg\" xmlns:xlink=\"http://www.w3.org/1999/xlink\" width=\"430pt\" height=\"332pt\" viewBox=\"0.00 0.00 429.50 332.00\">\n",
       "<g id=\"graph0\" class=\"graph\" transform=\"scale(1 1) rotate(0) translate(4 328)\">\n",
       "<title>%3</title>\n",
       "<polygon fill=\"white\" stroke=\"transparent\" points=\"-4,4 -4,-328 425.5,-328 425.5,4 -4,4\"/>\n",
       "<!-- 0 -->\n",
       "<g id=\"node1\" class=\"node\">\n",
       "<title>0</title>\n",
       "<text text-anchor=\"start\" x=\"145\" y=\"-303.3\" font-family=\"Courier,monospace\" font-weight=\"bold\" font-size=\"14.00\" fill=\"#004080\">Expr</text>\n",
       "</g>\n",
       "<!-- 1 -->\n",
       "<g id=\"node2\" class=\"node\">\n",
       "<title>1</title>\n",
       "<text text-anchor=\"start\" x=\"145\" y=\"-231.3\" font-family=\"Courier,monospace\" font-weight=\"bold\" font-size=\"14.00\" fill=\"#004080\">Call</text>\n",
       "</g>\n",
       "<!-- 0&#45;&#45;1 -->\n",
       "<g id=\"edge1\" class=\"edge\">\n",
       "<title>0--1</title>\n",
       "<path fill=\"none\" stroke=\"black\" d=\"M162,-287.7C162,-276.85 162,-262.92 162,-252.1\"/>\n",
       "</g>\n",
       "<!-- 2 -->\n",
       "<g id=\"node3\" class=\"node\">\n",
       "<title>2</title>\n",
       "<text text-anchor=\"start\" x=\"102\" y=\"-159.3\" font-family=\"Courier,monospace\" font-weight=\"bold\" font-size=\"14.00\" fill=\"#004080\">Name</text>\n",
       "</g>\n",
       "<!-- 1&#45;&#45;2 -->\n",
       "<g id=\"edge2\" class=\"edge\">\n",
       "<title>1--2</title>\n",
       "<path fill=\"none\" stroke=\"black\" d=\"M165,-215C165,-215 147.48,-195.19 134.06,-180.03\"/>\n",
       "</g>\n",
       "<!-- 5 -->\n",
       "<g id=\"node6\" class=\"node\">\n",
       "<title>5</title>\n",
       "<text text-anchor=\"start\" x=\"228\" y=\"-159.3\" font-family=\"Courier,monospace\" font-weight=\"bold\" font-size=\"14.00\" fill=\"#004080\">BinOp</text>\n",
       "</g>\n",
       "<!-- 1&#45;&#45;5 -->\n",
       "<g id=\"edge5\" class=\"edge\">\n",
       "<title>1--5</title>\n",
       "<path fill=\"none\" stroke=\"black\" d=\"M165,-215C165,-215 197,-195.19 221.5,-180.03\"/>\n",
       "</g>\n",
       "<!-- 3 -->\n",
       "<g id=\"node4\" class=\"node\">\n",
       "<title>3</title>\n",
       "<text text-anchor=\"middle\" x=\"37\" y=\"-86.3\" font-family=\"Courier,monospace\" font-size=\"14.00\" fill=\"#008040\">&quot;print&quot;</text>\n",
       "</g>\n",
       "<!-- 2&#45;&#45;3 -->\n",
       "<g id=\"edge3\" class=\"edge\">\n",
       "<title>2--3</title>\n",
       "<path fill=\"none\" stroke=\"black\" d=\"M111,-143C111,-143 82.81,-123.19 61.23,-108.03\"/>\n",
       "</g>\n",
       "<!-- 4 -->\n",
       "<g id=\"node5\" class=\"node\">\n",
       "<title>4</title>\n",
       "<text text-anchor=\"middle\" x=\"119\" y=\"-86.3\" font-family=\"Courier,monospace\" font-size=\"14.00\" fill=\"#008040\">Load</text>\n",
       "</g>\n",
       "<!-- 2&#45;&#45;4 -->\n",
       "<g id=\"edge4\" class=\"edge\">\n",
       "<title>2--4</title>\n",
       "<path fill=\"none\" stroke=\"black\" d=\"M111,-143C111,-143 114.05,-123.19 116.38,-108.03\"/>\n",
       "</g>\n",
       "<!-- 6 -->\n",
       "<g id=\"node7\" class=\"node\">\n",
       "<title>6</title>\n",
       "<text text-anchor=\"start\" x=\"172.5\" y=\"-87.3\" font-family=\"Courier,monospace\" font-weight=\"bold\" font-size=\"14.00\" fill=\"#004080\">Constant</text>\n",
       "</g>\n",
       "<!-- 5&#45;&#45;6 -->\n",
       "<g id=\"edge6\" class=\"edge\">\n",
       "<title>5--6</title>\n",
       "<path fill=\"none\" stroke=\"black\" d=\"M256,-143C256,-143 236.95,-123.19 222.37,-108.03\"/>\n",
       "</g>\n",
       "<!-- 8 -->\n",
       "<g id=\"node9\" class=\"node\">\n",
       "<title>8</title>\n",
       "<text text-anchor=\"middle\" x=\"293\" y=\"-86.3\" font-family=\"Courier,monospace\" font-size=\"14.00\" fill=\"#008040\">Add</text>\n",
       "</g>\n",
       "<!-- 5&#45;&#45;8 -->\n",
       "<g id=\"edge8\" class=\"edge\">\n",
       "<title>5--8</title>\n",
       "<path fill=\"none\" stroke=\"black\" d=\"M256,-143C256,-143 270.09,-123.19 280.88,-108.03\"/>\n",
       "</g>\n",
       "<!-- 9 -->\n",
       "<g id=\"node10\" class=\"node\">\n",
       "<title>9</title>\n",
       "<text text-anchor=\"start\" x=\"346.5\" y=\"-87.3\" font-family=\"Courier,monospace\" font-weight=\"bold\" font-size=\"14.00\" fill=\"#004080\">Constant</text>\n",
       "</g>\n",
       "<!-- 5&#45;&#45;9 -->\n",
       "<g id=\"edge9\" class=\"edge\">\n",
       "<title>5--9</title>\n",
       "<path fill=\"none\" stroke=\"black\" d=\"M256,-143C256,-143 303.23,-123.19 339.4,-108.03\"/>\n",
       "</g>\n",
       "<!-- 7 -->\n",
       "<g id=\"node8\" class=\"node\">\n",
       "<title>7</title>\n",
       "<text text-anchor=\"middle\" x=\"206\" y=\"-14.3\" font-family=\"Courier,monospace\" font-size=\"14.00\" fill=\"#008040\">1</text>\n",
       "</g>\n",
       "<!-- 6&#45;&#45;7 -->\n",
       "<g id=\"edge7\" class=\"edge\">\n",
       "<title>6--7</title>\n",
       "<path fill=\"none\" stroke=\"black\" d=\"M206,-71.7C206,-60.85 206,-46.92 206,-36.1\"/>\n",
       "</g>\n",
       "<!-- 10 -->\n",
       "<g id=\"node11\" class=\"node\">\n",
       "<title>10</title>\n",
       "<text text-anchor=\"middle\" x=\"380\" y=\"-14.3\" font-family=\"Courier,monospace\" font-size=\"14.00\" fill=\"#008040\">2</text>\n",
       "</g>\n",
       "<!-- 9&#45;&#45;10 -->\n",
       "<g id=\"edge10\" class=\"edge\">\n",
       "<title>9--10</title>\n",
       "<path fill=\"none\" stroke=\"black\" d=\"M380,-71.7C380,-60.85 380,-46.92 380,-36.1\"/>\n",
       "</g>\n",
       "</g>\n",
       "</svg>"
      ],
      "text/plain": [
       "<IPython.core.display.SVG object>"
      ]
     },
     "metadata": {},
     "output_type": "display_data"
    }
   ],
   "source": [
    "%%showast\n",
    "print(1 + 2)"
   ]
  },
  {
   "cell_type": "code",
   "execution_count": 11,
   "metadata": {
    "scrolled": false
   },
   "outputs": [
    {
     "ename": "SyntaxError",
     "evalue": "invalid syntax (<ipython-input-11-204a1376da49>, line 5)",
     "output_type": "error",
     "traceback": [
      "\u001b[0;36m  File \u001b[0;32m\"<ipython-input-11-204a1376da49>\"\u001b[0;36m, line \u001b[0;32m5\u001b[0m\n\u001b[0;31m    import inspectshowast.show_source(func)\u001b[0m\n\u001b[0m                                     ^\u001b[0m\n\u001b[0;31mSyntaxError\u001b[0m\u001b[0;31m:\u001b[0m invalid syntax\n"
     ]
    }
   ],
   "source": [
    "def func(a):\n",
    "    for x in range(10):\n",
    "        a[x] += x\n",
    "\n",
    "import inspectshowast.show_source(func)"
   ]
  },
  {
   "cell_type": "markdown",
   "metadata": {},
   "source": [
    "вот собственно и причина, почему тут происходит определённого рода посос.\n",
    "https://stackoverflow.com/questions/12072252/cant-get-source-code-for-a-method-declared-through-exec-using-inspect-in-pyth"
   ]
  },
  {
   "cell_type": "markdown",
   "metadata": {},
   "source": [
    "Кратко: showast.show_source использует inspect.getsourcefile для вывода code_obj и не может в вывод из файла, то есть у нас проблемка в том, что придётся подставлять код ручками прям в ноутбук для визуализации, но в принципе не так уж и плохо."
   ]
  },
  {
   "cell_type": "code",
   "execution_count": null,
   "metadata": {
    "scrolled": true
   },
   "outputs": [],
   "source": [
    "import inspect\n",
    "\n",
    "code_str = \"\"\"\n",
    "print(\"Hello Code Objects\")\n",
    "\"\"\"\n",
    "# Create the code object\n",
    "code_obj = compile(code_str, '<string>', 'exec')\n",
    "# get the code object\n",
    "print(code_obj)\n",
    "#Attributes of code object\n",
    "print(dir(code_obj))\n",
    "\n",
    "print(inspect.getsourcefile(code_obj))\n",
    "\n",
    "print(inspect.getsourcefile(func))\n",
    "\n",
    "showast.show_source(code_obj)"
   ]
  },
  {
   "cell_type": "markdown",
   "metadata": {},
   "source": [
    "## Использование генерации кода из АСД при помощи codegen"
   ]
  },
  {
   "cell_type": "code",
   "execution_count": null,
   "metadata": {},
   "outputs": [],
   "source": [
    "import inspect\n",
    "expr=\"\"\"\n",
    "def foo():\n",
    "   print(\"hello world\")\n",
    "\"\"\"\n",
    "p=ast.parse(expr)\n",
    "\n",
    "p.body[0].body = [ ast.parse(\"return 42\").body[0] ] # Replace function body with \"return 42\"\n",
    "\n",
    "print(codegen.to_source(p))"
   ]
  },
  {
   "cell_type": "markdown",
   "metadata": {},
   "source": [
    "а дальше проблема несовместимости с версией 3.8, потому что в 3.9 появились starargs и codegen без них работать отказывается напрочь!!!\n",
    "\n",
    "нормас, сделаю часть обфускатора тут красиво расписанную по отдельности, а потом соберу его по кусочкам в другом conda env под 3.9 python в цельный проект не в jupyter notebook, а в каком-нибудь pyCharm на какой-нибудь Windows"
   ]
  },
  {
   "cell_type": "code",
   "execution_count": null,
   "metadata": {
    "scrolled": true
   },
   "outputs": [],
   "source": [
    "s = \"\"\"\n",
    "def example_function(a):\n",
    "    for x in range(10):\n",
    "        a[x] += x\n",
    "\"\"\"\n",
    "p = ast.parse(s)\n",
    "\n",
    "print(codegen.to_source(p))\n",
    "\n",
    "showast.show_source(codegen.to_source(p))"
   ]
  },
  {
   "cell_type": "markdown",
   "metadata": {},
   "source": [
    "## Вывод самого дерева АСД"
   ]
  },
  {
   "cell_type": "markdown",
   "metadata": {},
   "source": [
    "попытки номер 2 отсюда\n",
    "\n",
    "https://github.com/asottile/astpretty\n",
    "\n",
    "https://stackoverflow.com/questions/58924031/generating-a-text-representation-of-pythons-ast"
   ]
  },
  {
   "cell_type": "code",
   "execution_count": null,
   "metadata": {},
   "outputs": [],
   "source": [
    "code = \"one_plus_two = 1+2\"\n",
    "tree = ast.parse(code)\n",
    "ast.dump(tree)"
   ]
  },
  {
   "cell_type": "code",
   "execution_count": null,
   "metadata": {},
   "outputs": [],
   "source": [
    "code = \"one_plus_two = 1+2\"\n",
    "tree = ast.parse(code)\n",
    "astpretty.pprint(tree, show_offsets=False)"
   ]
  },
  {
   "cell_type": "code",
   "execution_count": null,
   "metadata": {
    "scrolled": true
   },
   "outputs": [],
   "source": [
    "code = '''def func(a):\n",
    "    for x in range(10):\n",
    "        a[x] += x'''\n",
    "\n",
    "tree = ast.parse(code)\n",
    "astpretty.pprint(tree, show_offsets=False)"
   ]
  },
  {
   "cell_type": "markdown",
   "metadata": {},
   "source": [
    "ну что ж, сойдёт!"
   ]
  },
  {
   "cell_type": "markdown",
   "metadata": {},
   "source": [
    "ctree вообще не работало, хз, почему, ничего не показывало и всё"
   ]
  },
  {
   "cell_type": "markdown",
   "metadata": {},
   "source": [
    "Может быть ещё граф потока управления, но больше вроде бы ничего особо не требуется для человеческого восприятия\n",
    "\n",
    "Ну мб разве что что-то из uml типа flow diagramm или Диаграмма последовательности, но тут хз"
   ]
  },
  {
   "cell_type": "markdown",
   "metadata": {},
   "source": [
    "# Control frow graph"
   ]
  },
  {
   "cell_type": "code",
   "execution_count": null,
   "metadata": {},
   "outputs": [],
   "source": [
    "from staticfg import CFGBuilder\n",
    "\n",
    "path_ast = './obfuscated/examples/ast/control_flow.py'\n",
    "filename = 'control_flow.py'\n",
    "cfg = CFGBuilder().build_from_file(filename, path_ast)\n",
    "cfg.build_visual('example', 'png')"
   ]
  },
  {
   "cell_type": "code",
   "execution_count": 1,
   "metadata": {},
   "outputs": [],
   "source": [
    "from staticfg import CFGBuilder\n",
    "\n",
    "path_ast = './obfuscated/examples/ast/exception_source.py'\n",
    "filename = 'exception_source.py'\n",
    "cfg = CFGBuilder().build_from_file(filename, path_ast)\n",
    "cfg.build_visual(filename, 'png')"
   ]
  },
  {
   "cell_type": "code",
   "execution_count": 2,
   "metadata": {},
   "outputs": [],
   "source": [
    "from staticfg import CFGBuilder\n",
    "\n",
    "path_ast = './obfuscated/examples/ast/condition_source.py'\n",
    "filename = 'condition_source.py'\n",
    "cfg = CFGBuilder().build_from_file(filename, path_ast)\n",
    "cfg.build_visual(filename, 'png')"
   ]
  },
  {
   "cell_type": "code",
   "execution_count": 4,
   "metadata": {},
   "outputs": [
    {
     "data": {
      "text/plain": [
       "'exception_source.png'"
      ]
     },
     "execution_count": 4,
     "metadata": {},
     "output_type": "execute_result"
    }
   ],
   "source": [
    "# import py2cfg\n",
    "from py2cfg import CFGBuilder\n",
    "\n",
    "path_ast = './obfuscated/examples/ast/condition_source.py'\n",
    "filename = 'condition_source.py'\n",
    "\n",
    "cfg = CFGBuilder().build_from_file(filename, path_ast)\n",
    "cfg.build_visual(filename, 'png')"
   ]
  },
  {
   "cell_type": "code",
   "execution_count": 5,
   "metadata": {},
   "outputs": [
    {
     "data": {
      "text/plain": [
       "'exception_source.py.png'"
      ]
     },
     "execution_count": 5,
     "metadata": {},
     "output_type": "execute_result"
    }
   ],
   "source": [
    "from py2cfg import CFGBuilder\n",
    "\n",
    "path_ast = './obfuscated/examples/ast/exception_source.py'\n",
    "filename = 'exception_source.py'\n",
    "\n",
    "cfg = CFGBuilder().build_from_file(filename, path_ast)\n",
    "cfg.build_visual(filename, 'png')"
   ]
  }
 ],
 "metadata": {
  "kernelspec": {
   "display_name": "Python 3",
   "language": "python",
   "name": "python3"
  },
  "language_info": {
   "codemirror_mode": {
    "name": "ipython",
    "version": 3
   },
   "file_extension": ".py",
   "mimetype": "text/x-python",
   "name": "python",
   "nbconvert_exporter": "python",
   "pygments_lexer": "ipython3",
   "version": "3.8.5"
  }
 },
 "nbformat": 4,
 "nbformat_minor": 4
}
