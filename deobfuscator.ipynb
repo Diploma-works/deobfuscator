{
 "cells": [
  {
   "cell_type": "code",
   "execution_count": 8,
   "metadata": {},
   "outputs": [],
   "source": [
    "import sys, getopt"
   ]
  },
  {
   "cell_type": "code",
   "execution_count": 9,
   "metadata": {},
   "outputs": [],
   "source": [
    "import codegen\n",
    "import ast\n",
    "import showast\n",
    "import ctree\n",
    "import random\n",
    "import astpretty\n",
    "\n",
    "# were installed\n",
    "\n",
    "# pip3 install graphviz\n",
    "# pip3 install codegen\n",
    "# sudo apt-get install graphviz\n",
    "# pip3 install ctree\n",
    "# pip3 install showast\n",
    "# pip3 install astpretty\n",
    "# pip install uncompyle6"
   ]
  },
  {
   "cell_type": "markdown",
   "metadata": {},
   "source": [
    "# Деобфускатор"
   ]
  },
  {
   "cell_type": "markdown",
   "metadata": {},
   "source": [
    "## Деобфускация байткода python"
   ]
  },
  {
   "cell_type": "markdown",
   "metadata": {},
   "source": [
    "Самым распространённым методом обфускации кода на python является обфускация файла с расширением .py в файл с расширением .pyc при помощи команды:\n",
    "\n",
    "python -m compileall\n",
    "\n",
    "Этот модуль позволяет компилировать все файлы и библиотеки (т. е. все модули) в указанной директории в простой байт-код.\n",
    "\n",
    "На практике это самый распространённый способ обфускации кода на python, но никаких особых алгоритмов обфускации использовано не было, только компиляция в нечитаемый байт-код."
   ]
  },
  {
   "cell_type": "markdown",
   "metadata": {},
   "source": [
    "В качестве примера взята программа для подсчета площади прямоугольного треугольника.\n",
    "Исходного код находится в директории:\n",
    "\n",
    ".\\obfuscated\\examples\\compileall\n",
    "\n",
    "Обфусцируем \n",
    "Результат обфускации будет находиться в директории:\n",
    "\n",
    ".\\obfuscated\\examples\\compileall\\__pycache__"
   ]
  },
  {
   "cell_type": "code",
   "execution_count": 10,
   "metadata": {},
   "outputs": [
    {
     "name": "stdout",
     "output_type": "stream",
     "text": [
      "\u001b[1;31mИсходный код файла:\n",
      "\u001b[0m\n",
      "# программа для подсчета площади прямоугольного треугольника\n",
      "def square_triangle_area(width, height):\n",
      "    return height * width / 2\n",
      "\n",
      "\n",
      "print(\"Эта программа считает площадь прямоугольного треугольника.\")\n",
      "print(\"Введите значение длины: \")\n",
      "\n",
      "w = int(input())\n",
      "\n",
      "print(\"Введите значение высоты: \")\n",
      "h = int(input())\n",
      "\n",
      "print(\"Площадь прямоугольного треугольника = \" + str(square_triangle_area(w, h)))\n",
      "\n",
      "input()\n",
      "\n"
     ]
    }
   ],
   "source": [
    "f = open('./obfuscated/examples/compileall/source.py', 'r', encoding=\"utf-8\")\n",
    "print(\"\\x1b[1;31m\"+\"Исходный код файла:\\n\"+\"\\x1b[0m\")\n",
    "print(f.read())\n",
    "f.close()"
   ]
  },
  {
   "cell_type": "code",
   "execution_count": 11,
   "metadata": {},
   "outputs": [
    {
     "name": "stdout",
     "output_type": "stream",
     "text": [
      "Listing './obfuscated/examples/compileall'...\r\n"
     ]
    }
   ],
   "source": [
    "!python3 -m compileall ./obfuscated/examples/compileall"
   ]
  },
  {
   "cell_type": "code",
   "execution_count": 12,
   "metadata": {},
   "outputs": [
    {
     "name": "stdout",
     "output_type": "stream",
     "text": [
      "\u001b[1;31mИсходный код файла считанный просто при помощи функции open():\n",
      "\u001b[0m\n",
      "b'\\x03\\xf3\\r\\n\\x96Q\\x94`c\\x00\\x00\\x00\\x00\\x00\\x00\\x00\\x00\\x05\\x00\\x00\\x00@\\x00\\x00\\x00sY\\x00\\x00\\x00d\\x00\\x00\\x84\\x00\\x00Z\\x00\\x00d\\x01\\x00GHd\\x02\\x00GHe\\x01\\x00e\\x02\\x00\\x83\\x00\\x00\\x83\\x01\\x00Z\\x03\\x00d\\x03\\x00GHe\\x01\\x00e\\x02\\x00\\x83\\x00\\x00\\x83\\x01\\x00Z\\x04\\x00d\\x04\\x00e\\x05\\x00e\\x00\\x00e\\x03\\x00e\\x04\\x00\\x83\\x02\\x00\\x83\\x01\\x00\\x17GHe\\x02\\x00\\x83\\x00\\x00\\x01d\\x05\\x00S(\\x06\\x00\\x00\\x00c\\x02\\x00\\x00\\x00\\x02\\x00\\x00\\x00\\x02\\x00\\x00\\x00C\\x00\\x00\\x00s\\x0c\\x00\\x00\\x00|\\x01\\x00|\\x00\\x00\\x14d\\x01\\x00\\x15S(\\x02\\x00\\x00\\x00Ni\\x02\\x00\\x00\\x00(\\x00\\x00\\x00\\x00(\\x02\\x00\\x00\\x00t\\x05\\x00\\x00\\x00widtht\\x06\\x00\\x00\\x00height(\\x00\\x00\\x00\\x00(\\x00\\x00\\x00\\x00s*\\x00\\x00\\x00./obfuscated/examples/compileall/source.pyt\\x14\\x00\\x00\\x00square_triangle_area\\x02\\x00\\x00\\x00s\\x02\\x00\\x00\\x00\\x00\\x01sn\\x00\\x00\\x00\\xd0\\xad\\xd1\\x82\\xd0\\xb0 \\xd0\\xbf\\xd1\\x80\\xd0\\xbe\\xd0\\xb3\\xd1\\x80\\xd0\\xb0\\xd0\\xbc\\xd0\\xbc\\xd0\\xb0 \\xd1\\x81\\xd1\\x87\\xd0\\xb8\\xd1\\x82\\xd0\\xb0\\xd0\\xb5\\xd1\\x82 \\xd0\\xbf\\xd0\\xbb\\xd0\\xbe\\xd1\\x89\\xd0\\xb0\\xd0\\xb4\\xd1\\x8c \\xd0\\xbf\\xd1\\x80\\xd1\\x8f\\xd0\\xbc\\xd0\\xbe\\xd1\\x83\\xd0\\xb3\\xd0\\xbe\\xd0\\xbb\\xd1\\x8c\\xd0\\xbd\\xd0\\xbe\\xd0\\xb3\\xd0\\xbe \\xd1\\x82\\xd1\\x80\\xd0\\xb5\\xd1\\x83\\xd0\\xb3\\xd0\\xbe\\xd0\\xbb\\xd1\\x8c\\xd0\\xbd\\xd0\\xb8\\xd0\\xba\\xd0\\xb0.s,\\x00\\x00\\x00\\xd0\\x92\\xd0\\xb2\\xd0\\xb5\\xd0\\xb4\\xd0\\xb8\\xd1\\x82\\xd0\\xb5 \\xd0\\xb7\\xd0\\xbd\\xd0\\xb0\\xd1\\x87\\xd0\\xb5\\xd0\\xbd\\xd0\\xb8\\xd0\\xb5 \\xd0\\xb4\\xd0\\xbb\\xd0\\xb8\\xd0\\xbd\\xd1\\x8b: s.\\x00\\x00\\x00\\xd0\\x92\\xd0\\xb2\\xd0\\xb5\\xd0\\xb4\\xd0\\xb8\\xd1\\x82\\xd0\\xb5 \\xd0\\xb7\\xd0\\xbd\\xd0\\xb0\\xd1\\x87\\xd0\\xb5\\xd0\\xbd\\xd0\\xb8\\xd0\\xb5 \\xd0\\xb2\\xd1\\x8b\\xd1\\x81\\xd0\\xbe\\xd1\\x82\\xd1\\x8b: sG\\x00\\x00\\x00\\xd0\\x9f\\xd0\\xbb\\xd0\\xbe\\xd1\\x89\\xd0\\xb0\\xd0\\xb4\\xd1\\x8c \\xd0\\xbf\\xd1\\x80\\xd1\\x8f\\xd0\\xbc\\xd0\\xbe\\xd1\\x83\\xd0\\xb3\\xd0\\xbe\\xd0\\xbb\\xd1\\x8c\\xd0\\xbd\\xd0\\xbe\\xd0\\xb3\\xd0\\xbe \\xd1\\x82\\xd1\\x80\\xd0\\xb5\\xd1\\x83\\xd0\\xb3\\xd0\\xbe\\xd0\\xbb\\xd1\\x8c\\xd0\\xbd\\xd0\\xb8\\xd0\\xba\\xd0\\xb0 = N(\\x06\\x00\\x00\\x00R\\x02\\x00\\x00\\x00t\\x03\\x00\\x00\\x00intt\\x05\\x00\\x00\\x00inputt\\x01\\x00\\x00\\x00wt\\x01\\x00\\x00\\x00ht\\x03\\x00\\x00\\x00str(\\x00\\x00\\x00\\x00(\\x00\\x00\\x00\\x00(\\x00\\x00\\x00\\x00s*\\x00\\x00\\x00./obfuscated/examples/compileall/source.pyt\\x08\\x00\\x00\\x00<module>\\x02\\x00\\x00\\x00s\\x0e\\x00\\x00\\x00\\t\\x04\\x05\\x01\\x05\\x02\\x0f\\x02\\x05\\x01\\x0f\\x02\\x18\\x02'\n"
     ]
    }
   ],
   "source": [
    "filename = \"./obfuscated/examples/compileall/source.pyc\"\n",
    "\n",
    "\n",
    "print(\"\\x1b[1;31m\"+\"Исходный код файла считанный просто при помощи функции open():\\n\"+\"\\x1b[0m\")\n",
    "file = open(filename, 'rb')\n",
    "print(file.read())\n",
    "\n",
    "file.close()"
   ]
  },
  {
   "cell_type": "code",
   "execution_count": 13,
   "metadata": {},
   "outputs": [
    {
     "name": "stdout",
     "output_type": "stream",
     "text": [
      "\u001b[1;31mИсходный код файла побайтово в hex:\n",
      "\u001b[0m\n",
      "0x3 0xf3 0xd 0xa 0x96 0x51 0x94 0x60 0x63 0x0 0x0 0x0 0x0 0x0 0x0 0x0 \n",
      "0x0 0x5 0x0 0x0 0x0 0x40 0x0 0x0 0x0 0x73 0x59 0x0 0x0 0x0 0x64 0x0 \n",
      "0x0 0x84 0x0 0x0 0x5a 0x0 0x0 0x64 0x1 0x0 0x47 0x48 0x64 0x2 0x0 0x47 \n",
      "0x48 0x65 0x1 0x0 0x65 0x2 0x0 0x83 0x0 0x0 0x83 0x1 0x0 0x5a 0x3 0x0 \n",
      "0x64 0x3 0x0 0x47 0x48 0x65 0x1 0x0 0x65 0x2 0x0 0x83 0x0 0x0 0x83 0x1 \n",
      "0x0 0x5a 0x4 0x0 0x64 0x4 0x0 0x65 0x5 0x0 0x65 0x0 0x0 0x65 0x3 0x0 \n",
      "0x65 0x4 0x0 0x83 0x2 0x0 0x83 0x1 0x0 0x17 0x47 0x48 0x65 0x2 0x0 0x83 \n",
      "0x0 0x0 0x1 0x64 0x5 0x0 0x53 0x28 0x6 0x0 0x0 0x0 0x63 0x2 0x0 0x0 \n",
      "0x0 0x2 0x0 0x0 0x0 0x2 0x0 0x0 0x0 0x43 0x0 0x0 0x0 0x73 0xc 0x0 \n",
      "0x0 0x0 0x7c 0x1 0x0 0x7c 0x0 0x0 0x14 0x64 0x1 0x0 0x15 0x53 0x28 0x2 \n",
      "0x0 0x0 0x0 0x4e 0x69 0x2 0x0 0x0 0x0 0x28 0x0 0x0 0x0 0x0 0x28 0x2 \n",
      "0x0 0x0 0x0 0x74 0x5 0x0 0x0 0x0 0x77 0x69 0x64 0x74 0x68 0x74 0x6 0x0 \n",
      "0x0 0x0 0x68 0x65 0x69 0x67 0x68 0x74 0x28 0x0 0x0 0x0 0x0 0x28 0x0 0x0 \n",
      "0x0 0x0 0x73 0x2a 0x0 0x0 0x0 0x2e 0x2f 0x6f 0x62 0x66 0x75 0x73 0x63 0x61 \n",
      "0x74 0x65 0x64 0x2f 0x65 0x78 0x61 0x6d 0x70 0x6c 0x65 0x73 0x2f 0x63 0x6f 0x6d \n",
      "0x70 0x69 0x6c 0x65 0x61 0x6c 0x6c 0x2f 0x73 0x6f 0x75 0x72 0x63 0x65 0x2e 0x70 \n",
      "0x79 0x74 0x14 0x0 0x0 0x0 0x73 0x71 0x75 0x61 0x72 0x65 0x5f 0x74 0x72 0x69 \n",
      "0x61 0x6e 0x67 0x6c 0x65 0x5f 0x61 0x72 0x65 0x61 0x2 0x0 0x0 0x0 0x73 0x2 \n",
      "0x0 0x0 0x0 0x0 0x1 0x73 0x6e 0x0 0x0 0x0 0xd0 0xad 0xd1 0x82 0xd0 0xb0 \n",
      "0x20 0xd0 0xbf 0xd1 0x80 0xd0 0xbe 0xd0 0xb3 0xd1 0x80 0xd0 0xb0 0xd0 0xbc 0xd0 \n",
      "0xbc 0xd0 0xb0 0x20 0xd1 0x81 0xd1 0x87 0xd0 0xb8 0xd1 0x82 0xd0 0xb0 0xd0 0xb5 \n",
      "0xd1 0x82 0x20 0xd0 0xbf 0xd0 0xbb 0xd0 0xbe 0xd1 0x89 0xd0 0xb0 0xd0 0xb4 0xd1 \n",
      "0x8c 0x20 0xd0 0xbf 0xd1 0x80 0xd1 0x8f 0xd0 0xbc 0xd0 0xbe 0xd1 0x83 0xd0 0xb3 \n",
      "0xd0 0xbe 0xd0 0xbb 0xd1 0x8c 0xd0 0xbd 0xd0 0xbe 0xd0 0xb3 0xd0 0xbe 0x20 0xd1 \n",
      "0x82 0xd1 0x80 0xd0 0xb5 0xd1 0x83 0xd0 0xb3 0xd0 0xbe 0xd0 0xbb 0xd1 0x8c 0xd0 \n",
      "0xbd 0xd0 0xb8 0xd0 0xba 0xd0 0xb0 0x2e 0x73 0x2c 0x0 0x0 0x0 0xd0 0x92 0xd0 \n",
      "0xb2 0xd0 0xb5 0xd0 0xb4 0xd0 0xb8 0xd1 0x82 0xd0 0xb5 0x20 0xd0 0xb7 0xd0 0xbd \n",
      "0xd0 0xb0 0xd1 0x87 0xd0 0xb5 0xd0 0xbd 0xd0 0xb8 0xd0 0xb5 0x20 0xd0 0xb4 0xd0 \n",
      "0xbb 0xd0 0xb8 0xd0 0xbd 0xd1 0x8b 0x3a 0x20 0x73 0x2e 0x0 0x0 0x0 0xd0 0x92 \n",
      "0xd0 0xb2 0xd0 0xb5 0xd0 0xb4 0xd0 0xb8 0xd1 0x82 0xd0 0xb5 0x20 0xd0 0xb7 0xd0 \n",
      "0xbd 0xd0 0xb0 0xd1 0x87 0xd0 0xb5 0xd0 0xbd 0xd0 0xb8 0xd0 0xb5 0x20 0xd0 0xb2 \n",
      "0xd1 0x8b 0xd1 0x81 0xd0 0xbe 0xd1 0x82 0xd1 0x8b 0x3a 0x20 0x73 0x47 0x0 0x0 \n",
      "0x0 0xd0 0x9f 0xd0 0xbb 0xd0 0xbe 0xd1 0x89 0xd0 0xb0 0xd0 0xb4 0xd1 0x8c 0x20 \n",
      "0xd0 0xbf 0xd1 0x80 0xd1 0x8f 0xd0 0xbc 0xd0 0xbe 0xd1 0x83 0xd0 0xb3 0xd0 0xbe \n",
      "0xd0 0xbb 0xd1 0x8c 0xd0 0xbd 0xd0 0xbe 0xd0 0xb3 0xd0 0xbe 0x20 0xd1 0x82 0xd1 \n",
      "0x80 0xd0 0xb5 0xd1 0x83 0xd0 0xb3 0xd0 0xbe 0xd0 0xbb 0xd1 0x8c 0xd0 0xbd 0xd0 \n",
      "0xb8 0xd0 0xba 0xd0 0xb0 0x20 0x3d 0x20 0x4e 0x28 0x6 0x0 0x0 0x0 0x52 0x2 \n",
      "0x0 0x0 0x0 0x74 0x3 0x0 0x0 0x0 0x69 0x6e 0x74 0x74 0x5 0x0 0x0 0x0 \n",
      "0x69 0x6e 0x70 0x75 0x74 0x74 0x1 0x0 0x0 0x0 0x77 0x74 0x1 0x0 0x0 0x0 \n",
      "0x68 0x74 0x3 0x0 0x0 0x0 0x73 0x74 0x72 0x28 0x0 0x0 0x0 0x0 0x28 0x0 \n",
      "0x0 0x0 0x0 0x28 0x0 0x0 0x0 0x0 0x73 0x2a 0x0 0x0 0x0 0x2e 0x2f 0x6f \n",
      "0x62 0x66 0x75 0x73 0x63 0x61 0x74 0x65 0x64 0x2f 0x65 0x78 0x61 0x6d 0x70 0x6c \n",
      "0x65 0x73 0x2f 0x63 0x6f 0x6d 0x70 0x69 0x6c 0x65 0x61 0x6c 0x6c 0x2f 0x73 0x6f \n",
      "0x75 0x72 0x63 0x65 0x2e 0x70 0x79 0x74 0x8 0x0 0x0 0x0 0x3c 0x6d 0x6f 0x64 \n",
      "0x75 0x6c 0x65 0x3e 0x2 0x0 0x0 0x0 0x73 0xe 0x0 0x0 0x0 0x9 0x4 0x5 \n",
      "0x1 0x5 0x2 0xf 0x2 0x5 0x1 0xf 0x2 0x18 0x2 \n"
     ]
    }
   ],
   "source": [
    "print(\"\\x1b[1;31m\"+\"Исходный код файла побайтово в hex:\\n\"+\"\\x1b[0m\")\n",
    "\n",
    "filename = \"./obfuscated/examples/compileall/source.pyc\"\n",
    "\n",
    "file = open(filename, 'rb')\n",
    "\n",
    "blocksize = 1024\n",
    "\n",
    "opts,args = getopt.getopt(sys.argv[1:],'f:b:')\n",
    "for o,a in opts:\n",
    "    if o == '-f':\n",
    "        filename = a\n",
    "    if o == '-b':\n",
    "        blocksize = a\n",
    "\n",
    "offset = 0\n",
    "with file as f:\n",
    "    block = f.read(blocksize)\n",
    "    str = \"\"\n",
    "    i = 0\n",
    "    for ch in block:\n",
    "        str += hex(ch)+\" \"\n",
    "        i += 1\n",
    "        if i == 16:\n",
    "            str += \"\\n\"\n",
    "            i = 0\n",
    "    print(str)\n",
    "\n",
    "file.close()"
   ]
  },
  {
   "cell_type": "markdown",
   "metadata": {},
   "source": [
    "Как можно заметить, исходный код нечеловекочитаем.\n",
    "\n",
    "Теперь его необходимо расшифровать.\n",
    "Результат работы деобфускации будет доступен по пути:\n",
    "\n",
    "./obfuscated/examples/compileall/deobfuscated"
   ]
  },
  {
   "cell_type": "markdown",
   "metadata": {},
   "source": [
    "Для декомпиляции используется программа uncompyle6"
   ]
  },
  {
   "cell_type": "code",
   "execution_count": 14,
   "metadata": {},
   "outputs": [
    {
     "name": "stdout",
     "output_type": "stream",
     "text": [
      "# uncompyle6 version 3.7.4\r\n",
      "# Python bytecode 2.7 (62211)\r\n",
      "# Decompiled from: Python 3.8.5 (default, Jan 27 2021, 15:41:15) \r\n",
      "# [GCC 9.3.0]\r\n",
      "# Embedded file name: ./obfuscated/examples/compileall/source.py\r\n",
      "# Compiled at: 2021-05-06 23:29:10\r\n",
      "\r\n",
      "\r\n",
      "def square_triangle_area(width, height):\r\n",
      "    return height * width / 2\r\n",
      "\r\n",
      "\r\n",
      "print 'Эта программа считает площадь прямоугольного треугольника.'\r\n",
      "print 'Введите значение длины: '\r\n",
      "w = int(input())\r\n",
      "print 'Введите значение высоты: '\r\n",
      "h = int(input())\r\n",
      "print 'Площадь прямоугольного треугольника = ' + str(square_triangle_area(w, h))\r\n",
      "input()\r\n",
      "# okay decompiling ./obfuscated/examples/compileall/source.pyc\r\n"
     ]
    }
   ],
   "source": [
    "!uncompyle6 ./obfuscated/examples/compileall/source.pyc"
   ]
  },
  {
   "cell_type": "markdown",
   "metadata": {},
   "source": [
    "Итог: программа, зашифрованная первым рассмотренным методом обфускации компиляцией, была успешно деобфусцирована."
   ]
  },
  {
   "cell_type": "markdown",
   "metadata": {},
   "source": [
    "## Абстрактное Синтаксическое Дерево"
   ]
  },
  {
   "cell_type": "markdown",
   "metadata": {},
   "source": [
    "Используем паттерн \"Visitor\". Программный код представляется в виде ассоциативного массива.\n",
    "\n",
    "добавить картинку паттерна в диплом\n",
    "\n",
    "Благодаря системному модулю ast нет необходимости подключать стороннюю реализацию.\n",
    "Достаточно создать класс, наследуемый от\n",
    "класса NodeTransformer и реализовать в нем\n",
    "соответствующие методы"
   ]
  },
  {
   "cell_type": "markdown",
   "metadata": {},
   "source": [
    "обфускация чисел в коде"
   ]
  },
  {
   "cell_type": "code",
   "execution_count": 15,
   "metadata": {},
   "outputs": [
    {
     "name": "stdout",
     "output_type": "stream",
     "text": [
      "Module(\n",
      "    body=[\n",
      "        FunctionDef(\n",
      "            name='square_triangle_area',\n",
      "            args=arguments(\n",
      "                posonlyargs=[],\n",
      "                args=[\n",
      "                    arg(arg='width', annotation=None, type_comment=None),\n",
      "                    arg(arg='height', annotation=None, type_comment=None),\n",
      "                ],\n",
      "                vararg=None,\n",
      "                kwonlyargs=[],\n",
      "                kw_defaults=[],\n",
      "                kwarg=None,\n",
      "                defaults=[],\n",
      "            ),\n",
      "            body=[\n",
      "                Return(\n",
      "                    value=BinOp(\n",
      "                        left=BinOp(\n",
      "                            left=Name(id='height', ctx=Load()),\n",
      "                            op=Mult(),\n",
      "                            right=Name(id='width', ctx=Load()),\n",
      "                        ),\n",
      "                        op=Div(),\n",
      "                        right=Constant(value=2, kind=None),\n",
      "                    ),\n",
      "                ),\n",
      "            ],\n",
      "            decorator_list=[],\n",
      "            returns=None,\n",
      "            type_comment=None,\n",
      "        ),\n",
      "        Expr(\n",
      "            value=Call(\n",
      "                func=Name(id='print', ctx=Load()),\n",
      "                args=[Constant(value='Эта программа считает площадь прямоугольного треугольника.', kind=None)],\n",
      "                keywords=[],\n",
      "            ),\n",
      "        ),\n",
      "        Expr(\n",
      "            value=Call(\n",
      "                func=Name(id='print', ctx=Load()),\n",
      "                args=[Constant(value='Введите значение длины: ', kind=None)],\n",
      "                keywords=[],\n",
      "            ),\n",
      "        ),\n",
      "        Assign(\n",
      "            targets=[Name(id='w', ctx=Store())],\n",
      "            value=Call(\n",
      "                func=Name(id='int', ctx=Load()),\n",
      "                args=[\n",
      "                    Call(\n",
      "                        func=Name(id='input', ctx=Load()),\n",
      "                        args=[],\n",
      "                        keywords=[],\n",
      "                    ),\n",
      "                ],\n",
      "                keywords=[],\n",
      "            ),\n",
      "            type_comment=None,\n",
      "        ),\n",
      "        Expr(\n",
      "            value=Call(\n",
      "                func=Name(id='print', ctx=Load()),\n",
      "                args=[Constant(value='Введите значение высоты: ', kind=None)],\n",
      "                keywords=[],\n",
      "            ),\n",
      "        ),\n",
      "        Assign(\n",
      "            targets=[Name(id='h', ctx=Store())],\n",
      "            value=Call(\n",
      "                func=Name(id='int', ctx=Load()),\n",
      "                args=[\n",
      "                    Call(\n",
      "                        func=Name(id='input', ctx=Load()),\n",
      "                        args=[],\n",
      "                        keywords=[],\n",
      "                    ),\n",
      "                ],\n",
      "                keywords=[],\n",
      "            ),\n",
      "            type_comment=None,\n",
      "        ),\n",
      "        Expr(\n",
      "            value=Call(\n",
      "                func=Name(id='print', ctx=Load()),\n",
      "                args=[\n",
      "                    BinOp(\n",
      "                        left=Constant(value='Площадь прямоугольного треугольника = ', kind=None),\n",
      "                        op=Add(),\n",
      "                        right=Call(\n",
      "                            func=Name(id='str', ctx=Load()),\n",
      "                            args=[\n",
      "                                Call(\n",
      "                                    func=Name(id='square_triangle_area', ctx=Load()),\n",
      "                                    args=[\n",
      "                                        Name(id='w', ctx=Load()),\n",
      "                                        Name(id='h', ctx=Load()),\n",
      "                                    ],\n",
      "                                    keywords=[],\n",
      "                                ),\n",
      "                            ],\n",
      "                            keywords=[],\n",
      "                        ),\n",
      "                    ),\n",
      "                ],\n",
      "                keywords=[],\n",
      "            ),\n",
      "        ),\n",
      "        Expr(\n",
      "            value=Call(\n",
      "                func=Name(id='input', ctx=Load()),\n",
      "                args=[],\n",
      "                keywords=[],\n",
      "            ),\n",
      "        ),\n",
      "    ],\n",
      "    type_ignores=[],\n",
      ")\n"
     ]
    }
   ],
   "source": [
    "path = './obfuscated/examples/compileall/source.py'\n",
    "f = open(path, 'r', encoding=\"utf-8\")\n",
    "\n",
    "my_tree = ast.parse(f.read())\n",
    "\n",
    "# print(ast.dump(my_tree))\n",
    "astpretty.pprint(my_tree, show_offsets=False)\n",
    "\n",
    "f.close()"
   ]
  },
  {
   "cell_type": "code",
   "execution_count": 22,
   "metadata": {},
   "outputs": [],
   "source": [
    "class ObfuscatorAST(ast.NodeTransformer):\n",
    "#     def __init__(self):\n",
    "#         ast.NodeTransformer.__init__(self)\n",
    "    def visit_Num(self, node):\n",
    "        value = node.n\n",
    "        value_left = value_right = value / 2\n",
    "        if value % 2:\n",
    "            value_right += 1\n",
    "        return BinOp(left=BinOp(Num(value_left)), op=Add(), right=Num(value_right))\n",
    "    def visit_If(self, node):\n",
    "        node.test = BoolOp(op=And(), values=[node.test, Compare(left=Num(1), ops=[Gt()], comparators=[Num(0)])])\n",
    "        node.test = self.visit(node.test)\n",
    "        return node\n",
    "    def visit_Str(self, node):\n",
    "        def rev(x):\n",
    "            return Subscript(value=Str(s=x[::-1]),\n",
    "        slice=Slice(lower=None, upper=None, step=Num(n=-1)), ctx=Load())\n",
    "        return BinOp(left=rev(node.s[:len(node.s)/2]),\n",
    "    op=Add(), right=rev(node.s[len(node.s)/2:]))\n",
    "\n",
    "class LookNodes(ast.NodeVisitor):\n",
    "    def generic_visit(self, node):\n",
    "        print type(node).__name__\n",
    "        ast.NodeVisitor.generic_visit(self, node)\n",
    "\n",
    "look = LookNodes()\n",
    "tree = ast.parse(str_code)\n",
    "look.visit(tree)"
   ]
  },
  {
   "cell_type": "code",
   "execution_count": null,
   "metadata": {},
   "outputs": [],
   "source": [
    "code = open(path, 'rb').read()\n",
    "ast = ast.parse(code)\n",
    "obf = Obfuscator()\n",
    "ast2 = obf.visit(ast)\n",
    "result = codegen.to_source(ast2)\n",
    "open(path, 'w').write(result)"
   ]
  },
  {
   "cell_type": "code",
   "execution_count": null,
   "metadata": {},
   "outputs": [],
   "source": []
  },
  {
   "cell_type": "code",
   "execution_count": null,
   "metadata": {},
   "outputs": [],
   "source": [
    "tree = ast.parse('foo', mode='eval')\n",
    "new_tree = fix_missing_locations(RewriteName().visit(tree))"
   ]
  },
  {
   "cell_type": "markdown",
   "metadata": {},
   "source": [
    "Смена условного ветвления на "
   ]
  },
  {
   "cell_type": "code",
   "execution_count": null,
   "metadata": {},
   "outputs": [],
   "source": []
  },
  {
   "cell_type": "code",
   "execution_count": 21,
   "metadata": {},
   "outputs": [
    {
     "name": "stdout",
     "output_type": "stream",
     "text": [
      "\n",
      "=== AST ===\n",
      "Module(body=[Assign(targets=[Name(id='left_op', ctx=Store())], value=Constant(value=1, kind=None), type_comment=None), Assign(targets=[Name(id='right_op', ctx=Store())], value=Constant(value=2, kind=None), type_comment=None), Assign(targets=[Name(id='sum_two_things', ctx=Store())], value=BinOp(left=Name(id='left_op', ctx=Load()), op=Add(), right=Name(id='right_op', ctx=Load())), type_comment=None), Assign(targets=[Name(id='other_sum', ctx=Store())], value=BinOp(left=Name(id='sum_two_things', ctx=Load()), op=Sub(), right=Constant(value=1, kind=None)), type_comment=None), Expr(value=Call(func=Name(id='print', ctx=Load()), args=[Name(id='sum_two_things', ctx=Load())], keywords=[])), Expr(value=Call(func=Name(id='print', ctx=Load()), args=[Name(id='other_sum', ctx=Load())], keywords=[]))], type_ignores=[])\n",
      "---\n",
      "Module(\n",
      "    body=[\n",
      "        Assign(\n",
      "            targets=[Name(id='left_op', ctx=Store())],\n",
      "            value=Constant(value=1, kind=None),\n",
      "            type_comment=None,\n",
      "        ),\n",
      "        Assign(\n",
      "            targets=[Name(id='right_op', ctx=Store())],\n",
      "            value=Constant(value=2, kind=None),\n",
      "            type_comment=None,\n",
      "        ),\n",
      "        Assign(\n",
      "            targets=[Name(id='sum_two_things', ctx=Store())],\n",
      "            value=BinOp(\n",
      "                left=Name(id='left_op', ctx=Load()),\n",
      "                op=Add(),\n",
      "                right=Name(id='right_op', ctx=Load()),\n",
      "            ),\n",
      "            type_comment=None,\n",
      "        ),\n",
      "        Assign(\n",
      "            targets=[Name(id='other_sum', ctx=Store())],\n",
      "            value=BinOp(\n",
      "                left=Name(id='sum_two_things', ctx=Load()),\n",
      "                op=Sub(),\n",
      "                right=Constant(value=1, kind=None),\n",
      "            ),\n",
      "            type_comment=None,\n",
      "        ),\n",
      "        Expr(\n",
      "            value=Call(\n",
      "                func=Name(id='print', ctx=Load()),\n",
      "                args=[Name(id='sum_two_things', ctx=Load())],\n",
      "                keywords=[],\n",
      "            ),\n",
      "        ),\n",
      "        Expr(\n",
      "            value=Call(\n",
      "                func=Name(id='print', ctx=Load()),\n",
      "                args=[Name(id='other_sum', ctx=Load())],\n",
      "                keywords=[],\n",
      "            ),\n",
      "        ),\n",
      "    ],\n",
      "    type_ignores=[],\n",
      ")\n",
      "---\n",
      "3\n",
      "2\n",
      "replacing Constant value 1 -> 8 at lineno: 2\n",
      "replacing Constant value 2 -> -9 at lineno: 3\n",
      "replacing Constant value 1 -> 3 at lineno: 5\n",
      "\n",
      "=== AST ===\n",
      "Module(body=[Assign(targets=[Name(id='left_op', ctx=Store())], value=Constant(value=8), type_comment=None), Assign(targets=[Name(id='right_op', ctx=Store())], value=Constant(value=-9), type_comment=None), Assign(targets=[Name(id='sum_two_things', ctx=Store())], value=BinOp(left=Name(id='left_op', ctx=Load()), op=Add(), right=Name(id='right_op', ctx=Load())), type_comment=None), Assign(targets=[Name(id='other_sum', ctx=Store())], value=BinOp(left=Name(id='sum_two_things', ctx=Load()), op=Sub(), right=Constant(value=3)), type_comment=None), Expr(value=Call(func=Name(id='print', ctx=Load()), args=[Name(id='sum_two_things', ctx=Load())], keywords=[])), Expr(value=Call(func=Name(id='print', ctx=Load()), args=[Name(id='other_sum', ctx=Load())], keywords=[]))], type_ignores=[])\n",
      "---\n"
     ]
    },
    {
     "ename": "AttributeError",
     "evalue": "'Constant' object has no attribute 'kind'",
     "output_type": "error",
     "traceback": [
      "\u001b[0;31m---------------------------------------------------------------------------\u001b[0m",
      "\u001b[0;31mAttributeError\u001b[0m                            Traceback (most recent call last)",
      "\u001b[0;32m<ipython-input-21-4ed0633eef73>\u001b[0m in \u001b[0;36m<module>\u001b[0;34m\u001b[0m\n\u001b[1;32m     39\u001b[0m \u001b[0mvis\u001b[0m \u001b[0;34m=\u001b[0m \u001b[0mConstantTransformer\u001b[0m\u001b[0;34m(\u001b[0m\u001b[0;34m)\u001b[0m\u001b[0;34m\u001b[0m\u001b[0;34m\u001b[0m\u001b[0m\n\u001b[1;32m     40\u001b[0m \u001b[0mnew_tree\u001b[0m \u001b[0;34m=\u001b[0m \u001b[0mvis\u001b[0m\u001b[0;34m.\u001b[0m\u001b[0mvisit\u001b[0m\u001b[0;34m(\u001b[0m\u001b[0mtree\u001b[0m\u001b[0;34m)\u001b[0m\u001b[0;34m\u001b[0m\u001b[0;34m\u001b[0m\u001b[0m\n\u001b[0;32m---> 41\u001b[0;31m \u001b[0mexec_tree\u001b[0m\u001b[0;34m(\u001b[0m\u001b[0mnew_tree\u001b[0m\u001b[0;34m)\u001b[0m\u001b[0;34m\u001b[0m\u001b[0;34m\u001b[0m\u001b[0m\n\u001b[0m",
      "\u001b[0;32m<ipython-input-21-4ed0633eef73>\u001b[0m in \u001b[0;36mexec_tree\u001b[0;34m(tree)\u001b[0m\n\u001b[1;32m     12\u001b[0m     \u001b[0mprint\u001b[0m\u001b[0;34m(\u001b[0m\u001b[0;34m'---'\u001b[0m\u001b[0;34m)\u001b[0m\u001b[0;34m\u001b[0m\u001b[0;34m\u001b[0m\u001b[0m\n\u001b[1;32m     13\u001b[0m \u001b[0;34m\u001b[0m\u001b[0m\n\u001b[0;32m---> 14\u001b[0;31m     \u001b[0mastpretty\u001b[0m\u001b[0;34m.\u001b[0m\u001b[0mpprint\u001b[0m\u001b[0;34m(\u001b[0m\u001b[0mtree\u001b[0m\u001b[0;34m,\u001b[0m \u001b[0mshow_offsets\u001b[0m\u001b[0;34m=\u001b[0m\u001b[0;32mFalse\u001b[0m\u001b[0;34m)\u001b[0m\u001b[0;34m\u001b[0m\u001b[0;34m\u001b[0m\u001b[0m\n\u001b[0m\u001b[1;32m     15\u001b[0m     \u001b[0mprint\u001b[0m\u001b[0;34m(\u001b[0m\u001b[0;34m'---'\u001b[0m\u001b[0;34m)\u001b[0m\u001b[0;34m\u001b[0m\u001b[0;34m\u001b[0m\u001b[0m\n\u001b[1;32m     16\u001b[0m \u001b[0;34m\u001b[0m\u001b[0m\n",
      "\u001b[0;32m~/.local/lib/python3.8/site-packages/astpretty.py\u001b[0m in \u001b[0;36mpprint\u001b[0;34m(*args, **kwargs)\u001b[0m\n\u001b[1;32m    141\u001b[0m \u001b[0;34m\u001b[0m\u001b[0m\n\u001b[1;32m    142\u001b[0m \u001b[0;32mdef\u001b[0m \u001b[0mpprint\u001b[0m\u001b[0;34m(\u001b[0m\u001b[0;34m*\u001b[0m\u001b[0margs\u001b[0m\u001b[0;34m:\u001b[0m \u001b[0mAny\u001b[0m\u001b[0;34m,\u001b[0m \u001b[0;34m**\u001b[0m\u001b[0mkwargs\u001b[0m\u001b[0;34m:\u001b[0m \u001b[0mAny\u001b[0m\u001b[0;34m)\u001b[0m \u001b[0;34m->\u001b[0m \u001b[0;32mNone\u001b[0m\u001b[0;34m:\u001b[0m\u001b[0;34m\u001b[0m\u001b[0;34m\u001b[0m\u001b[0m\n\u001b[0;32m--> 143\u001b[0;31m     \u001b[0mprint\u001b[0m\u001b[0;34m(\u001b[0m\u001b[0mpformat\u001b[0m\u001b[0;34m(\u001b[0m\u001b[0;34m*\u001b[0m\u001b[0margs\u001b[0m\u001b[0;34m,\u001b[0m \u001b[0;34m**\u001b[0m\u001b[0mkwargs\u001b[0m\u001b[0;34m)\u001b[0m\u001b[0;34m)\u001b[0m\u001b[0;34m\u001b[0m\u001b[0;34m\u001b[0m\u001b[0m\n\u001b[0m\u001b[1;32m    144\u001b[0m \u001b[0;34m\u001b[0m\u001b[0m\n\u001b[1;32m    145\u001b[0m \u001b[0;34m\u001b[0m\u001b[0m\n",
      "\u001b[0;32m~/.local/lib/python3.8/site-packages/astpretty.py\u001b[0m in \u001b[0;36mpformat\u001b[0;34m(node, indent, show_offsets, _indent)\u001b[0m\n\u001b[1;32m    128\u001b[0m                         \u001b[0;32mfor\u001b[0m \u001b[0mel\u001b[0m \u001b[0;32min\u001b[0m \u001b[0mattr\u001b[0m\u001b[0;34m:\u001b[0m\u001b[0;34m\u001b[0m\u001b[0;34m\u001b[0m\u001b[0m\n\u001b[1;32m    129\u001b[0m                             representation += '{}{},\\n'.format(\n\u001b[0;32m--> 130\u001b[0;31m                                 \u001b[0mindentstr\u001b[0m\u001b[0;34m(\u001b[0m\u001b[0;34m)\u001b[0m\u001b[0;34m,\u001b[0m \u001b[0m_pformat\u001b[0m\u001b[0;34m(\u001b[0m\u001b[0mel\u001b[0m\u001b[0;34m,\u001b[0m \u001b[0mstate\u001b[0m\u001b[0;34m.\u001b[0m\u001b[0mindent\u001b[0m\u001b[0;34m)\u001b[0m\u001b[0;34m,\u001b[0m\u001b[0;34m\u001b[0m\u001b[0;34m\u001b[0m\u001b[0m\n\u001b[0m\u001b[1;32m    131\u001b[0m                             )\n\u001b[1;32m    132\u001b[0m                     \u001b[0mrepresentation\u001b[0m \u001b[0;34m+=\u001b[0m \u001b[0mindentstr\u001b[0m\u001b[0;34m(\u001b[0m\u001b[0;34m)\u001b[0m \u001b[0;34m+\u001b[0m \u001b[0;34m']'\u001b[0m\u001b[0;34m\u001b[0m\u001b[0;34m\u001b[0m\u001b[0m\n",
      "\u001b[0;32m~/.local/lib/python3.8/site-packages/astpretty.py\u001b[0m in \u001b[0;36m_pformat\u001b[0;34m(el, _indent)\u001b[0m\n\u001b[1;32m    105\u001b[0m \u001b[0;34m\u001b[0m\u001b[0m\n\u001b[1;32m    106\u001b[0m         \u001b[0;32mdef\u001b[0m \u001b[0m_pformat\u001b[0m\u001b[0;34m(\u001b[0m\u001b[0mel\u001b[0m\u001b[0;34m:\u001b[0m \u001b[0mUnion\u001b[0m\u001b[0;34m[\u001b[0m\u001b[0;34m'ASTType'\u001b[0m\u001b[0;34m,\u001b[0m \u001b[0;32mNone\u001b[0m\u001b[0;34m,\u001b[0m \u001b[0mstr\u001b[0m\u001b[0;34m]\u001b[0m\u001b[0;34m,\u001b[0m \u001b[0m_indent\u001b[0m\u001b[0;34m:\u001b[0m \u001b[0mint\u001b[0m \u001b[0;34m=\u001b[0m \u001b[0;36m0\u001b[0m\u001b[0;34m)\u001b[0m \u001b[0;34m->\u001b[0m \u001b[0mstr\u001b[0m\u001b[0;34m:\u001b[0m\u001b[0;34m\u001b[0m\u001b[0;34m\u001b[0m\u001b[0m\n\u001b[0;32m--> 107\u001b[0;31m             return pformat(\n\u001b[0m\u001b[1;32m    108\u001b[0m                 \u001b[0mel\u001b[0m\u001b[0;34m,\u001b[0m \u001b[0mindent\u001b[0m\u001b[0;34m=\u001b[0m\u001b[0mindent\u001b[0m\u001b[0;34m,\u001b[0m \u001b[0mshow_offsets\u001b[0m\u001b[0;34m=\u001b[0m\u001b[0mshow_offsets\u001b[0m\u001b[0;34m,\u001b[0m\u001b[0;34m\u001b[0m\u001b[0;34m\u001b[0m\u001b[0m\n\u001b[1;32m    109\u001b[0m                 \u001b[0m_indent\u001b[0m\u001b[0;34m=\u001b[0m\u001b[0m_indent\u001b[0m\u001b[0;34m,\u001b[0m\u001b[0;34m\u001b[0m\u001b[0;34m\u001b[0m\u001b[0m\n",
      "\u001b[0;32m~/.local/lib/python3.8/site-packages/astpretty.py\u001b[0m in \u001b[0;36mpformat\u001b[0;34m(node, indent, show_offsets, _indent)\u001b[0m\n\u001b[1;32m    132\u001b[0m                     \u001b[0mrepresentation\u001b[0m \u001b[0;34m+=\u001b[0m \u001b[0mindentstr\u001b[0m\u001b[0;34m(\u001b[0m\u001b[0;34m)\u001b[0m \u001b[0;34m+\u001b[0m \u001b[0;34m']'\u001b[0m\u001b[0;34m\u001b[0m\u001b[0;34m\u001b[0m\u001b[0m\n\u001b[1;32m    133\u001b[0m                 \u001b[0;32melif\u001b[0m \u001b[0misinstance\u001b[0m\u001b[0;34m(\u001b[0m\u001b[0mattr\u001b[0m\u001b[0;34m,\u001b[0m \u001b[0mAST\u001b[0m\u001b[0;34m)\u001b[0m\u001b[0;34m:\u001b[0m\u001b[0;34m\u001b[0m\u001b[0;34m\u001b[0m\u001b[0m\n\u001b[0;32m--> 134\u001b[0;31m                     \u001b[0mrepresentation\u001b[0m \u001b[0;34m=\u001b[0m \u001b[0m_pformat\u001b[0m\u001b[0;34m(\u001b[0m\u001b[0mattr\u001b[0m\u001b[0;34m,\u001b[0m \u001b[0mstate\u001b[0m\u001b[0;34m.\u001b[0m\u001b[0mindent\u001b[0m\u001b[0;34m)\u001b[0m\u001b[0;34m\u001b[0m\u001b[0;34m\u001b[0m\u001b[0m\n\u001b[0m\u001b[1;32m    135\u001b[0m                 \u001b[0;32melse\u001b[0m\u001b[0;34m:\u001b[0m\u001b[0;34m\u001b[0m\u001b[0;34m\u001b[0m\u001b[0m\n\u001b[1;32m    136\u001b[0m                     \u001b[0mrepresentation\u001b[0m \u001b[0;34m=\u001b[0m \u001b[0mrepr\u001b[0m\u001b[0;34m(\u001b[0m\u001b[0mattr\u001b[0m\u001b[0;34m)\u001b[0m\u001b[0;34m\u001b[0m\u001b[0;34m\u001b[0m\u001b[0m\n",
      "\u001b[0;32m~/.local/lib/python3.8/site-packages/astpretty.py\u001b[0m in \u001b[0;36m_pformat\u001b[0;34m(el, _indent)\u001b[0m\n\u001b[1;32m    105\u001b[0m \u001b[0;34m\u001b[0m\u001b[0m\n\u001b[1;32m    106\u001b[0m         \u001b[0;32mdef\u001b[0m \u001b[0m_pformat\u001b[0m\u001b[0;34m(\u001b[0m\u001b[0mel\u001b[0m\u001b[0;34m:\u001b[0m \u001b[0mUnion\u001b[0m\u001b[0;34m[\u001b[0m\u001b[0;34m'ASTType'\u001b[0m\u001b[0;34m,\u001b[0m \u001b[0;32mNone\u001b[0m\u001b[0;34m,\u001b[0m \u001b[0mstr\u001b[0m\u001b[0;34m]\u001b[0m\u001b[0;34m,\u001b[0m \u001b[0m_indent\u001b[0m\u001b[0;34m:\u001b[0m \u001b[0mint\u001b[0m \u001b[0;34m=\u001b[0m \u001b[0;36m0\u001b[0m\u001b[0;34m)\u001b[0m \u001b[0;34m->\u001b[0m \u001b[0mstr\u001b[0m\u001b[0;34m:\u001b[0m\u001b[0;34m\u001b[0m\u001b[0;34m\u001b[0m\u001b[0m\n\u001b[0;32m--> 107\u001b[0;31m             return pformat(\n\u001b[0m\u001b[1;32m    108\u001b[0m                 \u001b[0mel\u001b[0m\u001b[0;34m,\u001b[0m \u001b[0mindent\u001b[0m\u001b[0;34m=\u001b[0m\u001b[0mindent\u001b[0m\u001b[0;34m,\u001b[0m \u001b[0mshow_offsets\u001b[0m\u001b[0;34m=\u001b[0m\u001b[0mshow_offsets\u001b[0m\u001b[0;34m,\u001b[0m\u001b[0;34m\u001b[0m\u001b[0;34m\u001b[0m\u001b[0m\n\u001b[1;32m    109\u001b[0m                 \u001b[0m_indent\u001b[0m\u001b[0;34m=\u001b[0m\u001b[0m_indent\u001b[0m\u001b[0;34m,\u001b[0m\u001b[0;34m\u001b[0m\u001b[0;34m\u001b[0m\u001b[0m\n",
      "\u001b[0;32m~/.local/lib/python3.8/site-packages/astpretty.py\u001b[0m in \u001b[0;36mpformat\u001b[0;34m(node, indent, show_offsets, _indent)\u001b[0m\n\u001b[1;32m     84\u001b[0m     \u001b[0;32melif\u001b[0m \u001b[0misinstance\u001b[0m\u001b[0;34m(\u001b[0m\u001b[0mnode\u001b[0m\u001b[0;34m,\u001b[0m \u001b[0mstr\u001b[0m\u001b[0;34m)\u001b[0m\u001b[0;34m:\u001b[0m  \u001b[0;31m# pragma: no cover (ast27 typed-ast args)\u001b[0m\u001b[0;34m\u001b[0m\u001b[0;34m\u001b[0m\u001b[0m\n\u001b[1;32m     85\u001b[0m         \u001b[0;32mreturn\u001b[0m \u001b[0mrepr\u001b[0m\u001b[0;34m(\u001b[0m\u001b[0mnode\u001b[0m\u001b[0;34m)\u001b[0m\u001b[0;34m\u001b[0m\u001b[0;34m\u001b[0m\u001b[0m\n\u001b[0;32m---> 86\u001b[0;31m     \u001b[0;32melif\u001b[0m \u001b[0m_is_leaf\u001b[0m\u001b[0;34m(\u001b[0m\u001b[0mnode\u001b[0m\u001b[0;34m)\u001b[0m\u001b[0;34m:\u001b[0m\u001b[0;34m\u001b[0m\u001b[0;34m\u001b[0m\u001b[0m\n\u001b[0m\u001b[1;32m     87\u001b[0m         \u001b[0;32mreturn\u001b[0m \u001b[0m_leaf\u001b[0m\u001b[0;34m(\u001b[0m\u001b[0mnode\u001b[0m\u001b[0;34m,\u001b[0m \u001b[0mshow_offsets\u001b[0m\u001b[0;34m=\u001b[0m\u001b[0mshow_offsets\u001b[0m\u001b[0;34m)\u001b[0m\u001b[0;34m\u001b[0m\u001b[0;34m\u001b[0m\u001b[0m\n\u001b[1;32m     88\u001b[0m     \u001b[0;32melse\u001b[0m\u001b[0;34m:\u001b[0m\u001b[0;34m\u001b[0m\u001b[0;34m\u001b[0m\u001b[0m\n",
      "\u001b[0;32m~/.local/lib/python3.8/site-packages/astpretty.py\u001b[0m in \u001b[0;36m_is_leaf\u001b[0;34m(node)\u001b[0m\n\u001b[1;32m     36\u001b[0m \u001b[0;32mdef\u001b[0m \u001b[0m_is_leaf\u001b[0m\u001b[0;34m(\u001b[0m\u001b[0mnode\u001b[0m\u001b[0;34m:\u001b[0m \u001b[0;34m'ASTType'\u001b[0m\u001b[0;34m)\u001b[0m \u001b[0;34m->\u001b[0m \u001b[0mbool\u001b[0m\u001b[0;34m:\u001b[0m\u001b[0;34m\u001b[0m\u001b[0;34m\u001b[0m\u001b[0m\n\u001b[1;32m     37\u001b[0m     \u001b[0;32mfor\u001b[0m \u001b[0mfield\u001b[0m \u001b[0;32min\u001b[0m \u001b[0mnode\u001b[0m\u001b[0;34m.\u001b[0m\u001b[0m_fields\u001b[0m\u001b[0;34m:\u001b[0m\u001b[0;34m\u001b[0m\u001b[0;34m\u001b[0m\u001b[0m\n\u001b[0;32m---> 38\u001b[0;31m         \u001b[0mattr\u001b[0m \u001b[0;34m=\u001b[0m \u001b[0mgetattr\u001b[0m\u001b[0;34m(\u001b[0m\u001b[0mnode\u001b[0m\u001b[0;34m,\u001b[0m \u001b[0mfield\u001b[0m\u001b[0;34m)\u001b[0m\u001b[0;34m\u001b[0m\u001b[0;34m\u001b[0m\u001b[0m\n\u001b[0m\u001b[1;32m     39\u001b[0m         \u001b[0;32mif\u001b[0m \u001b[0m_is_sub_node\u001b[0m\u001b[0;34m(\u001b[0m\u001b[0mattr\u001b[0m\u001b[0;34m)\u001b[0m\u001b[0;34m:\u001b[0m\u001b[0;34m\u001b[0m\u001b[0;34m\u001b[0m\u001b[0m\n\u001b[1;32m     40\u001b[0m             \u001b[0;32mreturn\u001b[0m \u001b[0;32mFalse\u001b[0m\u001b[0;34m\u001b[0m\u001b[0;34m\u001b[0m\u001b[0m\n",
      "\u001b[0;31mAttributeError\u001b[0m: 'Constant' object has no attribute 'kind'"
     ]
    }
   ],
   "source": [
    "class ConstantTransformer(ast.NodeTransformer):\n",
    "    def visit_Constant(self, node):\n",
    "        new_value = random.randint(-10, 10)\n",
    "        print(f\"replacing Constant value {node.value} -> {new_value} at lineno: {node.lineno}\")\n",
    "        new_node = ast.Constant(new_value)\n",
    "        return new_node\n",
    "\n",
    "def exec_tree(tree):\n",
    "    print()\n",
    "    print(\"=== AST ===\")\n",
    "    print(ast.dump(tree))\n",
    "    print('---')\n",
    "    \n",
    "    astpretty.pprint(tree, show_offsets=False)\n",
    "    print('---')\n",
    "\n",
    "    tree_fixed = ast.fix_missing_locations(tree)\n",
    "    code_obj = compile(tree_fixed, '<string>', 'exec')\n",
    "    \n",
    "    exec(code_obj)\n",
    "\n",
    "code = \"\"\"\n",
    "left_op = 1\n",
    "right_op = 2\n",
    "sum_two_things = left_op + right_op\n",
    "other_sum = sum_two_things - 1\n",
    "\n",
    "print(sum_two_things)\n",
    "print(other_sum)\n",
    "\"\"\"\n",
    "\n",
    "tree = ast.parse(code)\n",
    "exec_tree(tree)\n",
    "\n",
    "## fix seed\n",
    "random.seed(10)\n",
    "\n",
    "## apply the transformations\n",
    "vis = ConstantTransformer()\n",
    "new_tree = vis.visit(tree)\n",
    "exec_tree(new_tree)"
   ]
  },
  {
   "cell_type": "markdown",
   "metadata": {},
   "source": [
    "### Преобразование управления"
   ]
  },
  {
   "cell_type": "markdown",
   "metadata": {},
   "source": [
    "Создание конечного автомата, но без непроницаемого предиката, а то слишком сложно."
   ]
  },
  {
   "cell_type": "code",
   "execution_count": null,
   "metadata": {},
   "outputs": [],
   "source": []
  },
  {
   "cell_type": "code",
   "execution_count": null,
   "metadata": {},
   "outputs": [],
   "source": []
  },
  {
   "cell_type": "markdown",
   "metadata": {},
   "source": [
    "## Лексическая обфускация"
   ]
  },
  {
   "cell_type": "markdown",
   "metadata": {},
   "source": [
    "Далее следует вид обфускации, при котором изменяются названия методов и переменных так, что код становится нечеловекочитаемым, а также удаляются комментарии из кода. Удалённые комментарии восстановить конечно же невозможно, а переназвать переменные более менее осмысленно хотя бы основываясь на их типе или просто заменить сложную непонятную длинную последовательность символов на более удобную для чтения возможно."
   ]
  },
  {
   "cell_type": "code",
   "execution_count": null,
   "metadata": {},
   "outputs": [],
   "source": [
    "# тупа переименовывание, потом сделаю в самом конце"
   ]
  },
  {
   "cell_type": "code",
   "execution_count": null,
   "metadata": {},
   "outputs": [],
   "source": []
  },
  {
   "cell_type": "code",
   "execution_count": null,
   "metadata": {},
   "outputs": [],
   "source": []
  },
  {
   "cell_type": "code",
   "execution_count": null,
   "metadata": {},
   "outputs": [],
   "source": []
  },
  {
   "cell_type": "code",
   "execution_count": null,
   "metadata": {},
   "outputs": [],
   "source": []
  },
  {
   "cell_type": "code",
   "execution_count": null,
   "metadata": {},
   "outputs": [],
   "source": []
  },
  {
   "cell_type": "code",
   "execution_count": null,
   "metadata": {},
   "outputs": [],
   "source": []
  },
  {
   "cell_type": "code",
   "execution_count": null,
   "metadata": {},
   "outputs": [],
   "source": []
  },
  {
   "cell_type": "code",
   "execution_count": null,
   "metadata": {},
   "outputs": [],
   "source": []
  },
  {
   "cell_type": "code",
   "execution_count": null,
   "metadata": {},
   "outputs": [],
   "source": []
  },
  {
   "cell_type": "code",
   "execution_count": null,
   "metadata": {},
   "outputs": [],
   "source": []
  },
  {
   "cell_type": "markdown",
   "metadata": {},
   "source": [
    "# Визуализация"
   ]
  },
  {
   "cell_type": "markdown",
   "metadata": {},
   "source": [
    "Вспомогательная визуализация АСД для понимания программы человеком"
   ]
  },
  {
   "cell_type": "markdown",
   "metadata": {},
   "source": [
    "попытки номер 1 отсюда\n",
    "https://github.com/hchasestevens/show_ast/blob/master/Example.ipynb"
   ]
  },
  {
   "cell_type": "code",
   "execution_count": 123,
   "metadata": {},
   "outputs": [
    {
     "data": {
      "image/svg+xml": [
       "<svg height=\"332pt\" viewBox=\"0.00 0.00 370.00 332.00\" width=\"370pt\" xmlns=\"http://www.w3.org/2000/svg\" xmlns:xlink=\"http://www.w3.org/1999/xlink\">\n",
       "<g class=\"graph\" id=\"graph0\" transform=\"scale(1 1) rotate(0) translate(4 328)\">\n",
       "<title>%3</title>\n",
       "<polygon fill=\"#ffffff\" points=\"-4,4 -4,-328 366,-328 366,4 -4,4\" stroke=\"transparent\"/>\n",
       "<!-- 0 -->\n",
       "<g class=\"node\" id=\"node1\">\n",
       "<title>0</title>\n",
       "<text fill=\"#004080\" font-family=\"Courier,monospace\" font-size=\"14.00\" font-weight=\"bold\" text-anchor=\"start\" x=\"156\" y=\"-303.3\">Expr</text>\n",
       "</g>\n",
       "<!-- 1 -->\n",
       "<g class=\"node\" id=\"node2\">\n",
       "<title>1</title>\n",
       "<text fill=\"#004080\" font-family=\"Courier,monospace\" font-size=\"14.00\" font-weight=\"bold\" text-anchor=\"start\" x=\"156\" y=\"-231.3\">Call</text>\n",
       "</g>\n",
       "<!-- 0&#45;&#45;1 -->\n",
       "<g class=\"edge\" id=\"edge1\">\n",
       "<title>0--1</title>\n",
       "<path d=\"M173,-287.8314C173,-277 173,-263.2876 173,-252.4133\" fill=\"none\" stroke=\"#000000\"/>\n",
       "</g>\n",
       "<!-- 2 -->\n",
       "<g class=\"node\" id=\"node3\">\n",
       "<title>2</title>\n",
       "<text fill=\"#004080\" font-family=\"Courier,monospace\" font-size=\"14.00\" font-weight=\"bold\" text-anchor=\"start\" x=\"102\" y=\"-159.3\">Name</text>\n",
       "</g>\n",
       "<!-- 1&#45;&#45;2 -->\n",
       "<g class=\"edge\" id=\"edge2\">\n",
       "<title>1--2</title>\n",
       "<path d=\"M173,-216C173,-216 152.9478,-195.9478 137.2819,-180.2819\" fill=\"none\" stroke=\"#000000\"/>\n",
       "</g>\n",
       "<!-- 5 -->\n",
       "<g class=\"node\" id=\"node6\">\n",
       "<title>5</title>\n",
       "<text fill=\"#004080\" font-family=\"Courier,monospace\" font-size=\"14.00\" font-weight=\"bold\" text-anchor=\"start\" x=\"207\" y=\"-159.3\">BinOp</text>\n",
       "</g>\n",
       "<!-- 1&#45;&#45;5 -->\n",
       "<g class=\"edge\" id=\"edge5\">\n",
       "<title>1--5</title>\n",
       "<path d=\"M173,-216C173,-216 193.4236,-195.9478 209.3795,-180.2819\" fill=\"none\" stroke=\"#000000\"/>\n",
       "</g>\n",
       "<!-- 3 -->\n",
       "<g class=\"node\" id=\"node4\">\n",
       "<title>3</title>\n",
       "<text fill=\"#008040\" font-family=\"Courier,monospace\" font-size=\"14.00\" text-anchor=\"middle\" x=\"37\" y=\"-86.3\">&quot;print&quot;</text>\n",
       "</g>\n",
       "<!-- 2&#45;&#45;3 -->\n",
       "<g class=\"edge\" id=\"edge3\">\n",
       "<title>2--3</title>\n",
       "<path d=\"M111,-144C111,-144 83.521,-123.9478 62.053,-108.2819\" fill=\"none\" stroke=\"#000000\"/>\n",
       "</g>\n",
       "<!-- 4 -->\n",
       "<g class=\"node\" id=\"node5\">\n",
       "<title>4</title>\n",
       "<text fill=\"#008040\" font-family=\"Courier,monospace\" font-size=\"14.00\" text-anchor=\"middle\" x=\"119\" y=\"-86.3\">Load</text>\n",
       "</g>\n",
       "<!-- 2&#45;&#45;4 -->\n",
       "<g class=\"edge\" id=\"edge4\">\n",
       "<title>2--4</title>\n",
       "<path d=\"M111,-144C111,-144 113.9707,-123.9478 116.2916,-108.2819\" fill=\"none\" stroke=\"#000000\"/>\n",
       "</g>\n",
       "<!-- 6 -->\n",
       "<g class=\"node\" id=\"node7\">\n",
       "<title>6</title>\n",
       "<text fill=\"#004080\" font-family=\"Courier,monospace\" font-size=\"14.00\" font-weight=\"bold\" text-anchor=\"start\" x=\"178.5\" y=\"-87.3\">Num</text>\n",
       "</g>\n",
       "<!-- 5&#45;&#45;6 -->\n",
       "<g class=\"edge\" id=\"edge6\">\n",
       "<title>5--6</title>\n",
       "<path d=\"M234,-144C234,-144 218.0325,-123.9478 205.5578,-108.2819\" fill=\"none\" stroke=\"#000000\"/>\n",
       "</g>\n",
       "<!-- 8 -->\n",
       "<g class=\"node\" id=\"node9\">\n",
       "<title>8</title>\n",
       "<text fill=\"#008040\" font-family=\"Courier,monospace\" font-size=\"14.00\" text-anchor=\"middle\" x=\"263\" y=\"-86.3\">Add</text>\n",
       "</g>\n",
       "<!-- 5&#45;&#45;8 -->\n",
       "<g class=\"edge\" id=\"edge8\">\n",
       "<title>5--8</title>\n",
       "<path d=\"M234,-144C234,-144 244.7688,-123.9478 253.1819,-108.2819\" fill=\"none\" stroke=\"#000000\"/>\n",
       "</g>\n",
       "<!-- 9 -->\n",
       "<g class=\"node\" id=\"node10\">\n",
       "<title>9</title>\n",
       "<text fill=\"#004080\" font-family=\"Courier,monospace\" font-size=\"14.00\" font-weight=\"bold\" text-anchor=\"start\" x=\"322.5\" y=\"-87.3\">Num</text>\n",
       "</g>\n",
       "<!-- 5&#45;&#45;9 -->\n",
       "<g class=\"edge\" id=\"edge9\">\n",
       "<title>5--9</title>\n",
       "<path d=\"M234,-144C234,-144 278.0164,-120.4665 307.9339,-104.471\" fill=\"none\" stroke=\"#000000\"/>\n",
       "</g>\n",
       "<!-- 7 -->\n",
       "<g class=\"node\" id=\"node8\">\n",
       "<title>7</title>\n",
       "<text fill=\"#008040\" font-family=\"Courier,monospace\" font-size=\"14.00\" text-anchor=\"middle\" x=\"191\" y=\"-14.3\">1</text>\n",
       "</g>\n",
       "<!-- 6&#45;&#45;7 -->\n",
       "<g class=\"edge\" id=\"edge7\">\n",
       "<title>6--7</title>\n",
       "<path d=\"M191,-71.8314C191,-61 191,-47.2876 191,-36.4133\" fill=\"none\" stroke=\"#000000\"/>\n",
       "</g>\n",
       "<!-- 10 -->\n",
       "<g class=\"node\" id=\"node11\">\n",
       "<title>10</title>\n",
       "<text fill=\"#008040\" font-family=\"Courier,monospace\" font-size=\"14.00\" text-anchor=\"middle\" x=\"335\" y=\"-14.3\">2</text>\n",
       "</g>\n",
       "<!-- 9&#45;&#45;10 -->\n",
       "<g class=\"edge\" id=\"edge10\">\n",
       "<title>9--10</title>\n",
       "<path d=\"M335,-71.8314C335,-61 335,-47.2876 335,-36.4133\" fill=\"none\" stroke=\"#000000\"/>\n",
       "</g>\n",
       "</g>\n",
       "</svg>"
      ],
      "text/plain": [
       "<IPython.core.display.SVG object>"
      ]
     },
     "metadata": {},
     "output_type": "display_data"
    }
   ],
   "source": [
    "%%showast\n",
    "print(1 + 2)"
   ]
  },
  {
   "cell_type": "code",
   "execution_count": 38,
   "metadata": {},
   "outputs": [
    {
     "data": {
      "image/svg+xml": [
       "<svg height=\"476pt\" viewBox=\"0.00 0.00 848.50 476.00\" width=\"849pt\" xmlns=\"http://www.w3.org/2000/svg\" xmlns:xlink=\"http://www.w3.org/1999/xlink\">\n",
       "<g class=\"graph\" id=\"graph0\" transform=\"scale(1 1) rotate(0) translate(4 472)\">\n",
       "<title>%3</title>\n",
       "<polygon fill=\"#ffffff\" points=\"-4,4 -4,-472 844.5,-472 844.5,4 -4,4\" stroke=\"transparent\"/>\n",
       "<!-- 0 -->\n",
       "<g class=\"node\" id=\"node1\">\n",
       "<title>0</title>\n",
       "<text fill=\"#004080\" font-family=\"Courier,monospace\" font-size=\"14.00\" font-weight=\"bold\" text-anchor=\"start\" x=\"183\" y=\"-447.3\">FunctionDef</text>\n",
       "</g>\n",
       "<!-- 1 -->\n",
       "<g class=\"node\" id=\"node2\">\n",
       "<title>1</title>\n",
       "<text fill=\"#008040\" font-family=\"Courier,monospace\" font-size=\"14.00\" text-anchor=\"middle\" x=\"82.5\" y=\"-374.3\">&quot;example_function&quot;</text>\n",
       "</g>\n",
       "<!-- 0&#45;&#45;1 -->\n",
       "<g class=\"edge\" id=\"edge1\">\n",
       "<title>0--1</title>\n",
       "<path d=\"M228.5,-432C228.5,-432 173.9366,-411.819 131.522,-396.1314\" fill=\"none\" stroke=\"#000000\"/>\n",
       "</g>\n",
       "<!-- 2 -->\n",
       "<g class=\"node\" id=\"node3\">\n",
       "<title>2</title>\n",
       "<text fill=\"#004080\" font-family=\"Courier,monospace\" font-size=\"14.00\" font-weight=\"bold\" text-anchor=\"start\" x=\"191\" y=\"-375.3\">arguments</text>\n",
       "</g>\n",
       "<!-- 0&#45;&#45;2 -->\n",
       "<g class=\"edge\" id=\"edge2\">\n",
       "<title>0--2</title>\n",
       "<path d=\"M228.5,-432C228.5,-432 228.5,-411.9478 228.5,-396.2819\" fill=\"none\" stroke=\"#000000\"/>\n",
       "</g>\n",
       "<!-- 5 -->\n",
       "<g class=\"node\" id=\"node6\">\n",
       "<title>5</title>\n",
       "<text fill=\"#004080\" font-family=\"Courier,monospace\" font-size=\"14.00\" font-weight=\"bold\" text-anchor=\"start\" x=\"339\" y=\"-375.3\">For</text>\n",
       "</g>\n",
       "<!-- 0&#45;&#45;5 -->\n",
       "<g class=\"edge\" id=\"edge5\">\n",
       "<title>0--5</title>\n",
       "<path d=\"M228.5,-432C228.5,-432 287.9655,-405.8932 324.2023,-389.9844\" fill=\"none\" stroke=\"#000000\"/>\n",
       "</g>\n",
       "<!-- 3 -->\n",
       "<g class=\"node\" id=\"node4\">\n",
       "<title>3</title>\n",
       "<text fill=\"#004080\" font-family=\"Courier,monospace\" font-size=\"14.00\" font-weight=\"bold\" text-anchor=\"start\" x=\"200\" y=\"-303.3\">arg</text>\n",
       "</g>\n",
       "<!-- 2&#45;&#45;3 -->\n",
       "<g class=\"edge\" id=\"edge3\">\n",
       "<title>2--3</title>\n",
       "<path d=\"M224.4625,-359.8314C222.0556,-349 219.0084,-335.2876 216.5918,-324.4133\" fill=\"none\" stroke=\"#000000\"/>\n",
       "</g>\n",
       "<!-- 4 -->\n",
       "<g class=\"node\" id=\"node5\">\n",
       "<title>4</title>\n",
       "<text fill=\"#008040\" font-family=\"Courier,monospace\" font-size=\"14.00\" text-anchor=\"middle\" x=\"147.5\" y=\"-230.3\">&quot;a&quot;</text>\n",
       "</g>\n",
       "<!-- 3&#45;&#45;4 -->\n",
       "<g class=\"edge\" id=\"edge4\">\n",
       "<title>3--4</title>\n",
       "<path d=\"M196.0978,-287.8314C186.3195,-277 173.9402,-263.2876 164.1231,-252.4133\" fill=\"none\" stroke=\"#000000\"/>\n",
       "</g>\n",
       "<!-- 6 -->\n",
       "<g class=\"node\" id=\"node7\">\n",
       "<title>6</title>\n",
       "<text fill=\"#004080\" font-family=\"Courier,monospace\" font-size=\"14.00\" font-weight=\"bold\" text-anchor=\"start\" x=\"276.5\" y=\"-303.3\">Name</text>\n",
       "</g>\n",
       "<!-- 5&#45;&#45;6 -->\n",
       "<g class=\"edge\" id=\"edge6\">\n",
       "<title>5--6</title>\n",
       "<path d=\"M356.5,-360C356.5,-360 333.1057,-339.9478 314.8289,-324.2819\" fill=\"none\" stroke=\"#000000\"/>\n",
       "</g>\n",
       "<!-- 9 -->\n",
       "<g class=\"node\" id=\"node10\">\n",
       "<title>9</title>\n",
       "<text fill=\"#004080\" font-family=\"Courier,monospace\" font-size=\"14.00\" font-weight=\"bold\" text-anchor=\"start\" x=\"350.5\" y=\"-303.3\">Call</text>\n",
       "</g>\n",
       "<!-- 5&#45;&#45;9 -->\n",
       "<g class=\"edge\" id=\"edge9\">\n",
       "<title>5--9</title>\n",
       "<path d=\"M356.5,-360C356.5,-360 360.5847,-339.9478 363.7759,-324.2819\" fill=\"none\" stroke=\"#000000\"/>\n",
       "</g>\n",
       "<!-- 15 -->\n",
       "<g class=\"node\" id=\"node16\">\n",
       "<title>15</title>\n",
       "<text fill=\"#004080\" font-family=\"Courier,monospace\" font-size=\"14.00\" font-weight=\"bold\" text-anchor=\"start\" x=\"590\" y=\"-303.3\">AugAssign</text>\n",
       "</g>\n",
       "<!-- 5&#45;&#45;15 -->\n",
       "<g class=\"edge\" id=\"edge15\">\n",
       "<title>5--15</title>\n",
       "<path d=\"M356.5,-360C356.5,-360 504.6021,-330.4889 581.835,-315.0993\" fill=\"none\" stroke=\"#000000\"/>\n",
       "</g>\n",
       "<!-- 7 -->\n",
       "<g class=\"node\" id=\"node8\">\n",
       "<title>7</title>\n",
       "<text fill=\"#008040\" font-family=\"Courier,monospace\" font-size=\"14.00\" text-anchor=\"middle\" x=\"219.5\" y=\"-230.3\">&quot;x&quot;</text>\n",
       "</g>\n",
       "<!-- 6&#45;&#45;7 -->\n",
       "<g class=\"edge\" id=\"edge7\">\n",
       "<title>6--7</title>\n",
       "<path d=\"M285.5,-288C285.5,-288 260.9917,-267.9478 241.8446,-252.2819\" fill=\"none\" stroke=\"#000000\"/>\n",
       "</g>\n",
       "<!-- 8 -->\n",
       "<g class=\"node\" id=\"node9\">\n",
       "<title>8</title>\n",
       "<text fill=\"#008040\" font-family=\"Courier,monospace\" font-size=\"14.00\" text-anchor=\"middle\" x=\"293.5\" y=\"-230.3\">Store</text>\n",
       "</g>\n",
       "<!-- 6&#45;&#45;8 -->\n",
       "<g class=\"edge\" id=\"edge8\">\n",
       "<title>6--8</title>\n",
       "<path d=\"M285.5,-288C285.5,-288 288.4707,-267.9478 290.7916,-252.2819\" fill=\"none\" stroke=\"#000000\"/>\n",
       "</g>\n",
       "<!-- 10 -->\n",
       "<g class=\"node\" id=\"node11\">\n",
       "<title>10</title>\n",
       "<text fill=\"#004080\" font-family=\"Courier,monospace\" font-size=\"14.00\" font-weight=\"bold\" text-anchor=\"start\" x=\"350.5\" y=\"-231.3\">Name</text>\n",
       "</g>\n",
       "<!-- 9&#45;&#45;10 -->\n",
       "<g class=\"edge\" id=\"edge10\">\n",
       "<title>9--10</title>\n",
       "<path d=\"M375.5,-288C375.5,-288 372.5293,-267.9478 370.2084,-252.2819\" fill=\"none\" stroke=\"#000000\"/>\n",
       "</g>\n",
       "<!-- 13 -->\n",
       "<g class=\"node\" id=\"node14\">\n",
       "<title>13</title>\n",
       "<text fill=\"#004080\" font-family=\"Courier,monospace\" font-size=\"14.00\" font-weight=\"bold\" text-anchor=\"start\" x=\"427\" y=\"-231.3\">Num</text>\n",
       "</g>\n",
       "<!-- 9&#45;&#45;13 -->\n",
       "<g class=\"edge\" id=\"edge13\">\n",
       "<title>9--13</title>\n",
       "<path d=\"M375.5,-288C375.5,-288 399.2656,-267.9478 417.8325,-252.2819\" fill=\"none\" stroke=\"#000000\"/>\n",
       "</g>\n",
       "<!-- 11 -->\n",
       "<g class=\"node\" id=\"node12\">\n",
       "<title>11</title>\n",
       "<text fill=\"#008040\" font-family=\"Courier,monospace\" font-size=\"14.00\" text-anchor=\"middle\" x=\"285.5\" y=\"-158.3\">&quot;range&quot;</text>\n",
       "</g>\n",
       "<!-- 10&#45;&#45;11 -->\n",
       "<g class=\"edge\" id=\"edge11\">\n",
       "<title>10--11</title>\n",
       "<path d=\"M359.5,-216C359.5,-216 332.021,-195.9478 310.553,-180.2819\" fill=\"none\" stroke=\"#000000\"/>\n",
       "</g>\n",
       "<!-- 12 -->\n",
       "<g class=\"node\" id=\"node13\">\n",
       "<title>12</title>\n",
       "<text fill=\"#008040\" font-family=\"Courier,monospace\" font-size=\"14.00\" text-anchor=\"middle\" x=\"367.5\" y=\"-158.3\">Load</text>\n",
       "</g>\n",
       "<!-- 10&#45;&#45;12 -->\n",
       "<g class=\"edge\" id=\"edge12\">\n",
       "<title>10--12</title>\n",
       "<path d=\"M359.5,-216C359.5,-216 362.4707,-195.9478 364.7916,-180.2819\" fill=\"none\" stroke=\"#000000\"/>\n",
       "</g>\n",
       "<!-- 14 -->\n",
       "<g class=\"node\" id=\"node15\">\n",
       "<title>14</title>\n",
       "<text fill=\"#008040\" font-family=\"Courier,monospace\" font-size=\"14.00\" text-anchor=\"middle\" x=\"439.5\" y=\"-158.3\">10</text>\n",
       "</g>\n",
       "<!-- 13&#45;&#45;14 -->\n",
       "<g class=\"edge\" id=\"edge14\">\n",
       "<title>13--14</title>\n",
       "<path d=\"M439.5,-215.8314C439.5,-205 439.5,-191.2876 439.5,-180.4133\" fill=\"none\" stroke=\"#000000\"/>\n",
       "</g>\n",
       "<!-- 16 -->\n",
       "<g class=\"node\" id=\"node17\">\n",
       "<title>16</title>\n",
       "<text fill=\"#004080\" font-family=\"Courier,monospace\" font-size=\"14.00\" font-weight=\"bold\" text-anchor=\"start\" x=\"545\" y=\"-231.3\">Subscript</text>\n",
       "</g>\n",
       "<!-- 15&#45;&#45;16 -->\n",
       "<g class=\"edge\" id=\"edge16\">\n",
       "<title>15--16</title>\n",
       "<path d=\"M634.5,-288C634.5,-288 615.1904,-267.9478 600.1048,-252.2819\" fill=\"none\" stroke=\"#000000\"/>\n",
       "</g>\n",
       "<!-- 25 -->\n",
       "<g class=\"node\" id=\"node26\">\n",
       "<title>25</title>\n",
       "<text fill=\"#008040\" font-family=\"Courier,monospace\" font-size=\"14.00\" text-anchor=\"middle\" x=\"673.5\" y=\"-230.3\">Add</text>\n",
       "</g>\n",
       "<!-- 15&#45;&#45;25 -->\n",
       "<g class=\"edge\" id=\"edge25\">\n",
       "<title>15--25</title>\n",
       "<path d=\"M634.5,-288C634.5,-288 648.9822,-267.9478 660.2964,-252.2819\" fill=\"none\" stroke=\"#000000\"/>\n",
       "</g>\n",
       "<!-- 26 -->\n",
       "<g class=\"node\" id=\"node27\">\n",
       "<title>26</title>\n",
       "<text fill=\"#004080\" font-family=\"Courier,monospace\" font-size=\"14.00\" font-weight=\"bold\" text-anchor=\"start\" x=\"728.5\" y=\"-231.3\">Name</text>\n",
       "</g>\n",
       "<!-- 15&#45;&#45;26 -->\n",
       "<g class=\"edge\" id=\"edge26\">\n",
       "<title>15--26</title>\n",
       "<path d=\"M634.5,-288C634.5,-288 676.2968,-268.2683 709.5,-252 712.3865,-250.5857 715.398,-249.0985 718.3964,-247.6103\" fill=\"none\" stroke=\"#000000\"/>\n",
       "</g>\n",
       "<!-- 17 -->\n",
       "<g class=\"node\" id=\"node18\">\n",
       "<title>17</title>\n",
       "<text fill=\"#004080\" font-family=\"Courier,monospace\" font-size=\"14.00\" font-weight=\"bold\" text-anchor=\"start\" x=\"494.5\" y=\"-159.3\">Name</text>\n",
       "</g>\n",
       "<!-- 16&#45;&#45;17 -->\n",
       "<g class=\"edge\" id=\"edge17\">\n",
       "<title>16--17</title>\n",
       "<path d=\"M583.5,-216C583.5,-216 556.7637,-195.9478 535.8759,-180.2819\" fill=\"none\" stroke=\"#000000\"/>\n",
       "</g>\n",
       "<!-- 20 -->\n",
       "<g class=\"node\" id=\"node21\">\n",
       "<title>20</title>\n",
       "<text fill=\"#004080\" font-family=\"Courier,monospace\" font-size=\"14.00\" font-weight=\"bold\" text-anchor=\"start\" x=\"564.5\" y=\"-159.3\">Index</text>\n",
       "</g>\n",
       "<!-- 16&#45;&#45;20 -->\n",
       "<g class=\"edge\" id=\"edge20\">\n",
       "<title>16--20</title>\n",
       "<path d=\"M583.5,-216C583.5,-216 584.2427,-195.9478 584.8229,-180.2819\" fill=\"none\" stroke=\"#000000\"/>\n",
       "</g>\n",
       "<!-- 24 -->\n",
       "<g class=\"node\" id=\"node25\">\n",
       "<title>24</title>\n",
       "<text fill=\"#008040\" font-family=\"Courier,monospace\" font-size=\"14.00\" text-anchor=\"middle\" x=\"661.5\" y=\"-158.3\">Store</text>\n",
       "</g>\n",
       "<!-- 16&#45;&#45;24 -->\n",
       "<g class=\"edge\" id=\"edge24\">\n",
       "<title>16--24</title>\n",
       "<path d=\"M583.5,-216C583.5,-216 612.4644,-195.9478 635.0928,-180.2819\" fill=\"none\" stroke=\"#000000\"/>\n",
       "</g>\n",
       "<!-- 18 -->\n",
       "<g class=\"node\" id=\"node19\">\n",
       "<title>18</title>\n",
       "<text fill=\"#008040\" font-family=\"Courier,monospace\" font-size=\"14.00\" text-anchor=\"middle\" x=\"440.5\" y=\"-86.3\">&quot;a&quot;</text>\n",
       "</g>\n",
       "<!-- 17&#45;&#45;18 -->\n",
       "<g class=\"edge\" id=\"edge18\">\n",
       "<title>17--18</title>\n",
       "<path d=\"M504.5,-144C504.5,-144 480.7344,-123.9478 462.1675,-108.2819\" fill=\"none\" stroke=\"#000000\"/>\n",
       "</g>\n",
       "<!-- 19 -->\n",
       "<g class=\"node\" id=\"node20\">\n",
       "<title>19</title>\n",
       "<text fill=\"#008040\" font-family=\"Courier,monospace\" font-size=\"14.00\" text-anchor=\"middle\" x=\"512.5\" y=\"-86.3\">Load</text>\n",
       "</g>\n",
       "<!-- 17&#45;&#45;19 -->\n",
       "<g class=\"edge\" id=\"edge19\">\n",
       "<title>17--19</title>\n",
       "<path d=\"M504.5,-144C504.5,-144 507.4707,-123.9478 509.7916,-108.2819\" fill=\"none\" stroke=\"#000000\"/>\n",
       "</g>\n",
       "<!-- 21 -->\n",
       "<g class=\"node\" id=\"node22\">\n",
       "<title>21</title>\n",
       "<text fill=\"#004080\" font-family=\"Courier,monospace\" font-size=\"14.00\" font-weight=\"bold\" text-anchor=\"start\" x=\"568.5\" y=\"-87.3\">Name</text>\n",
       "</g>\n",
       "<!-- 20&#45;&#45;21 -->\n",
       "<g class=\"edge\" id=\"edge21\">\n",
       "<title>20--21</title>\n",
       "<path d=\"M585.5,-143.8314C585.5,-133 585.5,-119.2876 585.5,-108.4133\" fill=\"none\" stroke=\"#000000\"/>\n",
       "</g>\n",
       "<!-- 22 -->\n",
       "<g class=\"node\" id=\"node23\">\n",
       "<title>22</title>\n",
       "<text fill=\"#008040\" font-family=\"Courier,monospace\" font-size=\"14.00\" text-anchor=\"middle\" x=\"549.5\" y=\"-14.3\">&quot;x&quot;</text>\n",
       "</g>\n",
       "<!-- 21&#45;&#45;22 -->\n",
       "<g class=\"edge\" id=\"edge22\">\n",
       "<title>21--22</title>\n",
       "<path d=\"M585.5,-72C585.5,-72 572.1318,-51.9478 561.688,-36.2819\" fill=\"none\" stroke=\"#000000\"/>\n",
       "</g>\n",
       "<!-- 23 -->\n",
       "<g class=\"node\" id=\"node24\">\n",
       "<title>23</title>\n",
       "<text fill=\"#008040\" font-family=\"Courier,monospace\" font-size=\"14.00\" text-anchor=\"middle\" x=\"621.5\" y=\"-14.3\">Load</text>\n",
       "</g>\n",
       "<!-- 21&#45;&#45;23 -->\n",
       "<g class=\"edge\" id=\"edge23\">\n",
       "<title>21--23</title>\n",
       "<path d=\"M585.5,-72C585.5,-72 598.8682,-51.9478 609.312,-36.2819\" fill=\"none\" stroke=\"#000000\"/>\n",
       "</g>\n",
       "<!-- 27 -->\n",
       "<g class=\"node\" id=\"node28\">\n",
       "<title>27</title>\n",
       "<text fill=\"#008040\" font-family=\"Courier,monospace\" font-size=\"14.00\" text-anchor=\"middle\" x=\"741.5\" y=\"-158.3\">&quot;x&quot;</text>\n",
       "</g>\n",
       "<!-- 26&#45;&#45;27 -->\n",
       "<g class=\"edge\" id=\"edge27\">\n",
       "<title>26--27</title>\n",
       "<path d=\"M752.5,-216C752.5,-216 748.4153,-195.9478 745.2241,-180.2819\" fill=\"none\" stroke=\"#000000\"/>\n",
       "</g>\n",
       "<!-- 28 -->\n",
       "<g class=\"node\" id=\"node29\">\n",
       "<title>28</title>\n",
       "<text fill=\"#008040\" font-family=\"Courier,monospace\" font-size=\"14.00\" text-anchor=\"middle\" x=\"813.5\" y=\"-158.3\">Load</text>\n",
       "</g>\n",
       "<!-- 26&#45;&#45;28 -->\n",
       "<g class=\"edge\" id=\"edge28\">\n",
       "<title>26--28</title>\n",
       "<path d=\"M752.5,-216C752.5,-216 775.1516,-195.9478 792.8482,-180.2819\" fill=\"none\" stroke=\"#000000\"/>\n",
       "</g>\n",
       "</g>\n",
       "</svg>"
      ],
      "text/plain": [
       "<IPython.core.display.SVG object>"
      ]
     },
     "metadata": {},
     "output_type": "display_data"
    }
   ],
   "source": [
    "def example_function(a):\n",
    "    for x in range(10):\n",
    "        a[x] += x\n",
    "\n",
    "tree1 = ast.parse(s)\n",
    "\n",
    "show_source(example_function)"
   ]
  },
  {
   "cell_type": "code",
   "execution_count": 121,
   "metadata": {},
   "outputs": [
    {
     "name": "stdout",
     "output_type": "stream",
     "text": [
      "def foo():\n",
      "    return 42\n"
     ]
    }
   ],
   "source": [
    "import inspect\n",
    "expr=\"\"\"\n",
    "def foo():\n",
    "   print(\"hello world\")\n",
    "\"\"\"\n",
    "p=ast.parse(expr)\n",
    "\n",
    "p.body[0].body = [ ast.parse(\"return 42\").body[0] ] # Replace function body with \"return 42\"\n",
    "\n",
    "print(codegen.to_source(p))"
   ]
  },
  {
   "cell_type": "code",
   "execution_count": 120,
   "metadata": {},
   "outputs": [
    {
     "name": "stdout",
     "output_type": "stream",
     "text": [
      "def example_function():\n",
      "    return 42\n"
     ]
    }
   ],
   "source": [
    "s = \"\"\"\n",
    "def example_function(a):\n",
    "    for x in range(10):\n",
    "        a[x] += x\n",
    "\"\"\"\n",
    "\n",
    "tree1 = ast.parse(s)\n",
    "\n",
    "expr=s\n",
    "\n",
    "p=ast.parse(expr)\n",
    "\n",
    "p.body[0].body = [ ast.parse(\"return 42\").body[0] ] # Replace function body with \"return 42\"\n",
    "\n",
    "print(codegen.to_source(p))\n",
    "# show_source(p)"
   ]
  },
  {
   "cell_type": "code",
   "execution_count": 119,
   "metadata": {},
   "outputs": [],
   "source": [
    "f = open('./obfuscated/examples/compileall/source.py', 'r', encoding=\"utf-8\")\n",
    "my_tree = ast.parse(f.read(), mode=\"exec\")\n",
    "# show_source(f.read())\n",
    "f.close()"
   ]
  },
  {
   "cell_type": "markdown",
   "metadata": {},
   "source": [
    "попытки номер 2 отсюда\n",
    "\n",
    "https://github.com/asottile/astpretty\n",
    "\n",
    "https://stackoverflow.com/questions/58924031/generating-a-text-representation-of-pythons-ast"
   ]
  },
  {
   "cell_type": "code",
   "execution_count": 108,
   "metadata": {},
   "outputs": [
    {
     "data": {
      "text/plain": [
       "\"Module(body=[Assign(targets=[Name(id='one_plus_two', ctx=Store())], value=BinOp(left=Num(n=1), op=Add(), right=Num(n=2)))])\""
      ]
     },
     "execution_count": 108,
     "metadata": {},
     "output_type": "execute_result"
    }
   ],
   "source": [
    "code = \"one_plus_two = 1+2\"\n",
    "tree = ast.parse(code)\n",
    "ast.dump(tree)"
   ]
  },
  {
   "cell_type": "code",
   "execution_count": 133,
   "metadata": {},
   "outputs": [
    {
     "name": "stdout",
     "output_type": "stream",
     "text": [
      "Module(\n",
      "    body=[\n",
      "        Assign(\n",
      "            targets=[Name(id='one_plus_two', ctx=Store())],\n",
      "            value=BinOp(\n",
      "                left=Num(n=1),\n",
      "                op=Add(),\n",
      "                right=Num(n=2),\n",
      "            ),\n",
      "        ),\n",
      "    ],\n",
      ")\n"
     ]
    }
   ],
   "source": [
    "code = \"one_plus_two = 1+2\"\n",
    "tree = ast.parse(code)\n",
    "astpretty.pprint(tree, show_offsets=False)"
   ]
  },
  {
   "cell_type": "markdown",
   "metadata": {},
   "source": [
    "ну что ж, сойдёт!"
   ]
  },
  {
   "cell_type": "markdown",
   "metadata": {},
   "source": [
    "ctree вообще не работало, хз, почему, ничего не показывало и всё"
   ]
  },
  {
   "cell_type": "markdown",
   "metadata": {},
   "source": [
    "Может быть ещё граф потока управления, но больше вроде бы ничего особо не требуется для человеческого восприятия\n",
    "\n",
    "Ну мб разве что что-то из uml типа flow diagramm или Диаграмма последовательности, но тут хз"
   ]
  }
 ],
 "metadata": {
  "kernelspec": {
   "display_name": "Python 3",
   "language": "python",
   "name": "python3"
  },
  "language_info": {
   "codemirror_mode": {
    "name": "ipython",
    "version": 3
   },
   "file_extension": ".py",
   "mimetype": "text/x-python",
   "name": "python",
   "nbconvert_exporter": "python",
   "pygments_lexer": "ipython3",
   "version": "3.8.5"
  }
 },
 "nbformat": 4,
 "nbformat_minor": 4
}
